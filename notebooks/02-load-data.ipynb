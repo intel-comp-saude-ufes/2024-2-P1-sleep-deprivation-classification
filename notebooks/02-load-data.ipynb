{
 "cells": [
  {
   "cell_type": "code",
   "execution_count": 1,
   "metadata": {},
   "outputs": [],
   "source": [
    "import pandas as pd\n",
    "import numpy as np\n",
    "import mne"
   ]
  },
  {
   "cell_type": "markdown",
   "metadata": {},
   "source": [
    "\n",
    "# Loading data\n",
    "\n",
    "This notebook is for creating a class that is capable to loading data in a format that can later be used by standard models already implemented by sckit-learn and PyTorch."
   ]
  },
  {
   "cell_type": "code",
   "execution_count": 6,
   "metadata": {},
   "outputs": [],
   "source": [
    "DATA_ROOT = '../data/ds004902-download'\n",
    "PARTICIPANTS_TSV = f'{DATA_ROOT}/participants.tsv'"
   ]
  },
  {
   "cell_type": "code",
   "execution_count": 3,
   "metadata": {},
   "outputs": [],
   "source": [
    "participant_df = pd.read_csv(PARTICIPANTS_TSV, sep='\\t')"
   ]
  },
  {
   "cell_type": "code",
   "execution_count": 4,
   "metadata": {},
   "outputs": [],
   "source": [
    "session_order = participant_df[['participant_id', 'SessionOrder']]"
   ]
  },
  {
   "cell_type": "code",
   "execution_count": 5,
   "metadata": {},
   "outputs": [
    {
     "name": "stderr",
     "output_type": "stream",
     "text": [
      "C:\\Users\\beama\\AppData\\Local\\Temp\\ipykernel_13324\\488965073.py:2: SettingWithCopyWarning: \n",
      "A value is trying to be set on a copy of a slice from a DataFrame.\n",
      "Try using .loc[row_indexer,col_indexer] = value instead\n",
      "\n",
      "See the caveats in the documentation: https://pandas.pydata.org/pandas-docs/stable/user_guide/indexing.html#returning-a-view-versus-a-copy\n",
      "  session_order['ses-1'] = session_order['SessionOrder'].str[:2]\n",
      "C:\\Users\\beama\\AppData\\Local\\Temp\\ipykernel_13324\\488965073.py:3: SettingWithCopyWarning: \n",
      "A value is trying to be set on a copy of a slice from a DataFrame.\n",
      "Try using .loc[row_indexer,col_indexer] = value instead\n",
      "\n",
      "See the caveats in the documentation: https://pandas.pydata.org/pandas-docs/stable/user_guide/indexing.html#returning-a-view-versus-a-copy\n",
      "  session_order['ses-2'] = session_order['SessionOrder'].str[4:]\n"
     ]
    }
   ],
   "source": [
    "# create ses-1 column based on the first two characters of the session order\n",
    "session_order['ses-1'] = session_order['SessionOrder'].str[:2]\n",
    "session_order['ses-2'] = session_order['SessionOrder'].str[4:]"
   ]
  },
  {
   "cell_type": "code",
   "execution_count": 6,
   "metadata": {},
   "outputs": [],
   "source": [
    "session_order = session_order.drop(columns=['SessionOrder'])"
   ]
  },
  {
   "cell_type": "code",
   "execution_count": 7,
   "metadata": {},
   "outputs": [
    {
     "data": {
      "text/html": [
       "<div>\n",
       "<style scoped>\n",
       "    .dataframe tbody tr th:only-of-type {\n",
       "        vertical-align: middle;\n",
       "    }\n",
       "\n",
       "    .dataframe tbody tr th {\n",
       "        vertical-align: top;\n",
       "    }\n",
       "\n",
       "    .dataframe thead th {\n",
       "        text-align: right;\n",
       "    }\n",
       "</style>\n",
       "<table border=\"1\" class=\"dataframe\">\n",
       "  <thead>\n",
       "    <tr style=\"text-align: right;\">\n",
       "      <th></th>\n",
       "      <th>participant_id</th>\n",
       "      <th>ses-1</th>\n",
       "      <th>ses-2</th>\n",
       "    </tr>\n",
       "  </thead>\n",
       "  <tbody>\n",
       "    <tr>\n",
       "      <th>0</th>\n",
       "      <td>sub-01</td>\n",
       "      <td>NS</td>\n",
       "      <td>SD</td>\n",
       "    </tr>\n",
       "    <tr>\n",
       "      <th>1</th>\n",
       "      <td>sub-02</td>\n",
       "      <td>NS</td>\n",
       "      <td>SD</td>\n",
       "    </tr>\n",
       "    <tr>\n",
       "      <th>2</th>\n",
       "      <td>sub-03</td>\n",
       "      <td>NS</td>\n",
       "      <td>SD</td>\n",
       "    </tr>\n",
       "    <tr>\n",
       "      <th>3</th>\n",
       "      <td>sub-04</td>\n",
       "      <td>NS</td>\n",
       "      <td>SD</td>\n",
       "    </tr>\n",
       "    <tr>\n",
       "      <th>4</th>\n",
       "      <td>sub-05</td>\n",
       "      <td>NS</td>\n",
       "      <td>SD</td>\n",
       "    </tr>\n",
       "    <tr>\n",
       "      <th>...</th>\n",
       "      <td>...</td>\n",
       "      <td>...</td>\n",
       "      <td>...</td>\n",
       "    </tr>\n",
       "    <tr>\n",
       "      <th>66</th>\n",
       "      <td>sub-67</td>\n",
       "      <td>SD</td>\n",
       "      <td>NS</td>\n",
       "    </tr>\n",
       "    <tr>\n",
       "      <th>67</th>\n",
       "      <td>sub-68</td>\n",
       "      <td>SD</td>\n",
       "      <td>NS</td>\n",
       "    </tr>\n",
       "    <tr>\n",
       "      <th>68</th>\n",
       "      <td>sub-69</td>\n",
       "      <td>NS</td>\n",
       "      <td>SD</td>\n",
       "    </tr>\n",
       "    <tr>\n",
       "      <th>69</th>\n",
       "      <td>sub-70</td>\n",
       "      <td>NS</td>\n",
       "      <td>SD</td>\n",
       "    </tr>\n",
       "    <tr>\n",
       "      <th>70</th>\n",
       "      <td>sub-71</td>\n",
       "      <td>NS</td>\n",
       "      <td>SD</td>\n",
       "    </tr>\n",
       "  </tbody>\n",
       "</table>\n",
       "<p>71 rows × 3 columns</p>\n",
       "</div>"
      ],
      "text/plain": [
       "   participant_id ses-1 ses-2\n",
       "0          sub-01    NS    SD\n",
       "1          sub-02    NS    SD\n",
       "2          sub-03    NS    SD\n",
       "3          sub-04    NS    SD\n",
       "4          sub-05    NS    SD\n",
       "..            ...   ...   ...\n",
       "66         sub-67    SD    NS\n",
       "67         sub-68    SD    NS\n",
       "68         sub-69    NS    SD\n",
       "69         sub-70    NS    SD\n",
       "70         sub-71    NS    SD\n",
       "\n",
       "[71 rows x 3 columns]"
      ]
     },
     "execution_count": 7,
     "metadata": {},
     "output_type": "execute_result"
    }
   ],
   "source": [
    "session_order"
   ]
  },
  {
   "cell_type": "markdown",
   "metadata": {},
   "source": [
    "Getting classes per session in regards to participants. Regarding the paper, there were two different type of group: the ones who had normal sleep first and those who were sleep deprived first. With this information we can identify which session has reading from which type of experiment."
   ]
  },
  {
   "cell_type": "code",
   "execution_count": 8,
   "metadata": {},
   "outputs": [
    {
     "data": {
      "text/plain": [
       "ses-1\n",
       "NS    41\n",
       "SD    30\n",
       "Name: count, dtype: int64"
      ]
     },
     "execution_count": 8,
     "metadata": {},
     "output_type": "execute_result"
    }
   ],
   "source": [
    "session_order['ses-1'].value_counts()"
   ]
  },
  {
   "cell_type": "code",
   "execution_count": 9,
   "metadata": {},
   "outputs": [
    {
     "data": {
      "text/plain": [
       "ses-2\n",
       "SD    41\n",
       "NS    30\n",
       "Name: count, dtype: int64"
      ]
     },
     "execution_count": 9,
     "metadata": {},
     "output_type": "execute_result"
    }
   ],
   "source": [
    "session_order['ses-2'].value_counts()"
   ]
  },
  {
   "cell_type": "code",
   "execution_count": 10,
   "metadata": {},
   "outputs": [],
   "source": [
    "session_order['ses-1'] = session_order['ses-1'].apply(lambda x: 1 if x == 'SD' else 0)\n",
    "session_order['ses-2'] = session_order['ses-2'].apply(lambda x: 1 if x == 'SD' else 0)"
   ]
  },
  {
   "cell_type": "code",
   "execution_count": 11,
   "metadata": {},
   "outputs": [
    {
     "data": {
      "text/html": [
       "<div>\n",
       "<style scoped>\n",
       "    .dataframe tbody tr th:only-of-type {\n",
       "        vertical-align: middle;\n",
       "    }\n",
       "\n",
       "    .dataframe tbody tr th {\n",
       "        vertical-align: top;\n",
       "    }\n",
       "\n",
       "    .dataframe thead th {\n",
       "        text-align: right;\n",
       "    }\n",
       "</style>\n",
       "<table border=\"1\" class=\"dataframe\">\n",
       "  <thead>\n",
       "    <tr style=\"text-align: right;\">\n",
       "      <th></th>\n",
       "      <th>participant_id</th>\n",
       "      <th>ses-1</th>\n",
       "      <th>ses-2</th>\n",
       "    </tr>\n",
       "  </thead>\n",
       "  <tbody>\n",
       "    <tr>\n",
       "      <th>0</th>\n",
       "      <td>sub-01</td>\n",
       "      <td>0</td>\n",
       "      <td>1</td>\n",
       "    </tr>\n",
       "    <tr>\n",
       "      <th>1</th>\n",
       "      <td>sub-02</td>\n",
       "      <td>0</td>\n",
       "      <td>1</td>\n",
       "    </tr>\n",
       "    <tr>\n",
       "      <th>2</th>\n",
       "      <td>sub-03</td>\n",
       "      <td>0</td>\n",
       "      <td>1</td>\n",
       "    </tr>\n",
       "    <tr>\n",
       "      <th>3</th>\n",
       "      <td>sub-04</td>\n",
       "      <td>0</td>\n",
       "      <td>1</td>\n",
       "    </tr>\n",
       "    <tr>\n",
       "      <th>4</th>\n",
       "      <td>sub-05</td>\n",
       "      <td>0</td>\n",
       "      <td>1</td>\n",
       "    </tr>\n",
       "    <tr>\n",
       "      <th>...</th>\n",
       "      <td>...</td>\n",
       "      <td>...</td>\n",
       "      <td>...</td>\n",
       "    </tr>\n",
       "    <tr>\n",
       "      <th>66</th>\n",
       "      <td>sub-67</td>\n",
       "      <td>1</td>\n",
       "      <td>0</td>\n",
       "    </tr>\n",
       "    <tr>\n",
       "      <th>67</th>\n",
       "      <td>sub-68</td>\n",
       "      <td>1</td>\n",
       "      <td>0</td>\n",
       "    </tr>\n",
       "    <tr>\n",
       "      <th>68</th>\n",
       "      <td>sub-69</td>\n",
       "      <td>0</td>\n",
       "      <td>1</td>\n",
       "    </tr>\n",
       "    <tr>\n",
       "      <th>69</th>\n",
       "      <td>sub-70</td>\n",
       "      <td>0</td>\n",
       "      <td>1</td>\n",
       "    </tr>\n",
       "    <tr>\n",
       "      <th>70</th>\n",
       "      <td>sub-71</td>\n",
       "      <td>0</td>\n",
       "      <td>1</td>\n",
       "    </tr>\n",
       "  </tbody>\n",
       "</table>\n",
       "<p>71 rows × 3 columns</p>\n",
       "</div>"
      ],
      "text/plain": [
       "   participant_id  ses-1  ses-2\n",
       "0          sub-01      0      1\n",
       "1          sub-02      0      1\n",
       "2          sub-03      0      1\n",
       "3          sub-04      0      1\n",
       "4          sub-05      0      1\n",
       "..            ...    ...    ...\n",
       "66         sub-67      1      0\n",
       "67         sub-68      1      0\n",
       "68         sub-69      0      1\n",
       "69         sub-70      0      1\n",
       "70         sub-71      0      1\n",
       "\n",
       "[71 rows x 3 columns]"
      ]
     },
     "execution_count": 11,
     "metadata": {},
     "output_type": "execute_result"
    }
   ],
   "source": [
    "session_order"
   ]
  },
  {
   "cell_type": "code",
   "execution_count": 12,
   "metadata": {},
   "outputs": [],
   "source": [
    "\n",
    "class LoadData:\n",
    "    def __init__(self, root, experiment_type: int):\n",
    "        \"\"\"\n",
    "        ROOT: path to the root directory of the dataset\n",
    "\n",
    "        Experiment type:\n",
    "            1: Eyes Closed\n",
    "            2: Eyes open\n",
    "            3: Both\n",
    "        \"\"\"\n",
    "\n",
    "        self.DATA_ROOT = root\n",
    "        self.PARTICIPANTS_TSV = f'{self.DATA_ROOT}/participants.tsv'\n",
    "        self.experiment_type = experiment_type\n",
    "\n",
    "        self.labels = self.get_classes()\n",
    "    \n",
    "\n",
    "    def get_classes(self):\n",
    "        participant_df = pd.read_csv(self.PARTICIPANTS_TSV, sep='\\t')\n",
    "        session_order = participant_df[['participant_id', 'SessionOrder']]\n",
    "\n",
    "        # create ses-1 column based on the first two characters of the session order\n",
    "        session_order['ses-1'] = session_order['SessionOrder'].str[:2]\n",
    "        session_order['ses-2'] = session_order['SessionOrder'].str[4:]\n",
    "\n",
    "        session_order = session_order.drop(columns=['SessionOrder'])\n",
    "\n",
    "        session_order['ses-1'] = session_order['ses-1'].apply(lambda x: 1 if x == 'SD' else 0)\n",
    "        session_order['ses-2'] = session_order['ses-2'].apply(lambda x: 1 if x == 'SD' else 0)\n",
    "\n",
    "        return session_order\n",
    "    "
   ]
  },
  {
   "cell_type": "code",
   "execution_count": 13,
   "metadata": {},
   "outputs": [
    {
     "data": {
      "text/html": [
       "<div>\n",
       "<style scoped>\n",
       "    .dataframe tbody tr th:only-of-type {\n",
       "        vertical-align: middle;\n",
       "    }\n",
       "\n",
       "    .dataframe tbody tr th {\n",
       "        vertical-align: top;\n",
       "    }\n",
       "\n",
       "    .dataframe thead th {\n",
       "        text-align: right;\n",
       "    }\n",
       "</style>\n",
       "<table border=\"1\" class=\"dataframe\">\n",
       "  <thead>\n",
       "    <tr style=\"text-align: right;\">\n",
       "      <th></th>\n",
       "      <th>participant_id</th>\n",
       "      <th>ses-1</th>\n",
       "      <th>ses-2</th>\n",
       "    </tr>\n",
       "  </thead>\n",
       "  <tbody>\n",
       "    <tr>\n",
       "      <th>0</th>\n",
       "      <td>sub-01</td>\n",
       "      <td>0</td>\n",
       "      <td>1</td>\n",
       "    </tr>\n",
       "    <tr>\n",
       "      <th>1</th>\n",
       "      <td>sub-02</td>\n",
       "      <td>0</td>\n",
       "      <td>1</td>\n",
       "    </tr>\n",
       "    <tr>\n",
       "      <th>2</th>\n",
       "      <td>sub-03</td>\n",
       "      <td>0</td>\n",
       "      <td>1</td>\n",
       "    </tr>\n",
       "    <tr>\n",
       "      <th>3</th>\n",
       "      <td>sub-04</td>\n",
       "      <td>0</td>\n",
       "      <td>1</td>\n",
       "    </tr>\n",
       "    <tr>\n",
       "      <th>4</th>\n",
       "      <td>sub-05</td>\n",
       "      <td>0</td>\n",
       "      <td>1</td>\n",
       "    </tr>\n",
       "    <tr>\n",
       "      <th>...</th>\n",
       "      <td>...</td>\n",
       "      <td>...</td>\n",
       "      <td>...</td>\n",
       "    </tr>\n",
       "    <tr>\n",
       "      <th>66</th>\n",
       "      <td>sub-67</td>\n",
       "      <td>1</td>\n",
       "      <td>0</td>\n",
       "    </tr>\n",
       "    <tr>\n",
       "      <th>67</th>\n",
       "      <td>sub-68</td>\n",
       "      <td>1</td>\n",
       "      <td>0</td>\n",
       "    </tr>\n",
       "    <tr>\n",
       "      <th>68</th>\n",
       "      <td>sub-69</td>\n",
       "      <td>0</td>\n",
       "      <td>1</td>\n",
       "    </tr>\n",
       "    <tr>\n",
       "      <th>69</th>\n",
       "      <td>sub-70</td>\n",
       "      <td>0</td>\n",
       "      <td>1</td>\n",
       "    </tr>\n",
       "    <tr>\n",
       "      <th>70</th>\n",
       "      <td>sub-71</td>\n",
       "      <td>0</td>\n",
       "      <td>1</td>\n",
       "    </tr>\n",
       "  </tbody>\n",
       "</table>\n",
       "<p>71 rows × 3 columns</p>\n",
       "</div>"
      ],
      "text/plain": [
       "   participant_id  ses-1  ses-2\n",
       "0          sub-01      0      1\n",
       "1          sub-02      0      1\n",
       "2          sub-03      0      1\n",
       "3          sub-04      0      1\n",
       "4          sub-05      0      1\n",
       "..            ...    ...    ...\n",
       "66         sub-67      1      0\n",
       "67         sub-68      1      0\n",
       "68         sub-69      0      1\n",
       "69         sub-70      0      1\n",
       "70         sub-71      0      1\n",
       "\n",
       "[71 rows x 3 columns]"
      ]
     },
     "execution_count": 13,
     "metadata": {},
     "output_type": "execute_result"
    }
   ],
   "source": [
    "session_order"
   ]
  },
  {
   "cell_type": "code",
   "execution_count": 14,
   "metadata": {},
   "outputs": [
    {
     "name": "stdout",
     "output_type": "stream",
     "text": [
      "Reading c:\\Users\\beama\\Documents\\2024-2-P1-sleep-deprivation-classification\\notebooks\\..\\data\\ds004902-download\\sub-01\\ses-1\\eeg\\sub-01_ses-1_task-eyesopen_eeg.fdt\n",
      "Reading c:\\Users\\beama\\Documents\\2024-2-P1-sleep-deprivation-classification\\notebooks\\..\\data\\ds004902-download\\sub-01\\ses-1\\eeg\\sub-01_ses-1_task-eyesclosed_eeg.fdt\n",
      "Reading c:\\Users\\beama\\Documents\\2024-2-P1-sleep-deprivation-classification\\notebooks\\..\\data\\ds004902-download\\sub-01\\ses-2\\eeg\\sub-01_ses-2_task-eyesopen_eeg.fdt\n",
      "Error loading participant sub-01 with session ses-2 and task eyesopen: Incorrect number of samples (6951331 != 9150000), please report this error to MNE-Python developers\n",
      "Reading c:\\Users\\beama\\Documents\\2024-2-P1-sleep-deprivation-classification\\notebooks\\..\\data\\ds004902-download\\sub-01\\ses-2\\eeg\\sub-01_ses-2_task-eyesclosed_eeg.fdt\n",
      "Reading c:\\Users\\beama\\Documents\\2024-2-P1-sleep-deprivation-classification\\notebooks\\..\\data\\ds004902-download\\sub-02\\ses-1\\eeg\\sub-02_ses-1_task-eyesopen_eeg.fdt\n",
      "Reading c:\\Users\\beama\\Documents\\2024-2-P1-sleep-deprivation-classification\\notebooks\\..\\data\\ds004902-download\\sub-02\\ses-1\\eeg\\sub-02_ses-1_task-eyesclosed_eeg.fdt\n",
      "Reading c:\\Users\\beama\\Documents\\2024-2-P1-sleep-deprivation-classification\\notebooks\\..\\data\\ds004902-download\\sub-02\\ses-2\\eeg\\sub-02_ses-2_task-eyesopen_eeg.fdt\n",
      "Reading c:\\Users\\beama\\Documents\\2024-2-P1-sleep-deprivation-classification\\notebooks\\..\\data\\ds004902-download\\sub-02\\ses-2\\eeg\\sub-02_ses-2_task-eyesclosed_eeg.fdt\n",
      "Reading c:\\Users\\beama\\Documents\\2024-2-P1-sleep-deprivation-classification\\notebooks\\..\\data\\ds004902-download\\sub-03\\ses-1\\eeg\\sub-03_ses-1_task-eyesopen_eeg.fdt\n",
      "Reading c:\\Users\\beama\\Documents\\2024-2-P1-sleep-deprivation-classification\\notebooks\\..\\data\\ds004902-download\\sub-03\\ses-1\\eeg\\sub-03_ses-1_task-eyesclosed_eeg.fdt\n",
      "Reading c:\\Users\\beama\\Documents\\2024-2-P1-sleep-deprivation-classification\\notebooks\\..\\data\\ds004902-download\\sub-03\\ses-2\\eeg\\sub-03_ses-2_task-eyesopen_eeg.fdt\n",
      "Reading c:\\Users\\beama\\Documents\\2024-2-P1-sleep-deprivation-classification\\notebooks\\..\\data\\ds004902-download\\sub-03\\ses-2\\eeg\\sub-03_ses-2_task-eyesclosed_eeg.fdt\n",
      "Error loading participant sub-03 with session ses-2 and task eyesclosed: Incorrect number of samples (671375 != 9150000), please report this error to MNE-Python developers\n",
      "Reading c:\\Users\\beama\\Documents\\2024-2-P1-sleep-deprivation-classification\\notebooks\\..\\data\\ds004902-download\\sub-04\\ses-1\\eeg\\sub-04_ses-1_task-eyesopen_eeg.fdt\n",
      "Error loading participant sub-04 with session ses-1 and task eyesopen: Incorrect number of samples (687750 != 9150000), please report this error to MNE-Python developers\n",
      "Reading c:\\Users\\beama\\Documents\\2024-2-P1-sleep-deprivation-classification\\notebooks\\..\\data\\ds004902-download\\sub-04\\ses-1\\eeg\\sub-04_ses-1_task-eyesclosed_eeg.fdt\n",
      "Reading c:\\Users\\beama\\Documents\\2024-2-P1-sleep-deprivation-classification\\notebooks\\..\\data\\ds004902-download\\sub-04\\ses-2\\eeg\\sub-04_ses-2_task-eyesopen_eeg.fdt\n",
      "Reading c:\\Users\\beama\\Documents\\2024-2-P1-sleep-deprivation-classification\\notebooks\\..\\data\\ds004902-download\\sub-04\\ses-2\\eeg\\sub-04_ses-2_task-eyesclosed_eeg.fdt\n",
      "Reading c:\\Users\\beama\\Documents\\2024-2-P1-sleep-deprivation-classification\\notebooks\\..\\data\\ds004902-download\\sub-05\\ses-1\\eeg\\sub-05_ses-1_task-eyesopen_eeg.fdt\n",
      "Reading c:\\Users\\beama\\Documents\\2024-2-P1-sleep-deprivation-classification\\notebooks\\..\\data\\ds004902-download\\sub-05\\ses-1\\eeg\\sub-05_ses-1_task-eyesclosed_eeg.fdt\n",
      "Reading c:\\Users\\beama\\Documents\\2024-2-P1-sleep-deprivation-classification\\notebooks\\..\\data\\ds004902-download\\sub-05\\ses-2\\eeg\\sub-05_ses-2_task-eyesopen_eeg.fdt\n",
      "Reading c:\\Users\\beama\\Documents\\2024-2-P1-sleep-deprivation-classification\\notebooks\\..\\data\\ds004902-download\\sub-05\\ses-2\\eeg\\sub-05_ses-2_task-eyesclosed_eeg.fdt\n",
      "Reading c:\\Users\\beama\\Documents\\2024-2-P1-sleep-deprivation-classification\\notebooks\\..\\data\\ds004902-download\\sub-06\\ses-1\\eeg\\sub-06_ses-1_task-eyesopen_eeg.fdt\n",
      "Reading c:\\Users\\beama\\Documents\\2024-2-P1-sleep-deprivation-classification\\notebooks\\..\\data\\ds004902-download\\sub-06\\ses-1\\eeg\\sub-06_ses-1_task-eyesclosed_eeg.fdt\n",
      "Reading c:\\Users\\beama\\Documents\\2024-2-P1-sleep-deprivation-classification\\notebooks\\..\\data\\ds004902-download\\sub-06\\ses-2\\eeg\\sub-06_ses-2_task-eyesopen_eeg.fdt\n",
      "Reading c:\\Users\\beama\\Documents\\2024-2-P1-sleep-deprivation-classification\\notebooks\\..\\data\\ds004902-download\\sub-06\\ses-2\\eeg\\sub-06_ses-2_task-eyesclosed_eeg.fdt\n",
      "Reading c:\\Users\\beama\\Documents\\2024-2-P1-sleep-deprivation-classification\\notebooks\\..\\data\\ds004902-download\\sub-07\\ses-1\\eeg\\sub-07_ses-1_task-eyesopen_eeg.fdt\n",
      "Reading c:\\Users\\beama\\Documents\\2024-2-P1-sleep-deprivation-classification\\notebooks\\..\\data\\ds004902-download\\sub-07\\ses-1\\eeg\\sub-07_ses-1_task-eyesclosed_eeg.fdt\n",
      "Reading c:\\Users\\beama\\Documents\\2024-2-P1-sleep-deprivation-classification\\notebooks\\..\\data\\ds004902-download\\sub-07\\ses-2\\eeg\\sub-07_ses-2_task-eyesopen_eeg.fdt\n",
      "Reading c:\\Users\\beama\\Documents\\2024-2-P1-sleep-deprivation-classification\\notebooks\\..\\data\\ds004902-download\\sub-07\\ses-2\\eeg\\sub-07_ses-2_task-eyesclosed_eeg.fdt\n",
      "Reading c:\\Users\\beama\\Documents\\2024-2-P1-sleep-deprivation-classification\\notebooks\\..\\data\\ds004902-download\\sub-08\\ses-1\\eeg\\sub-08_ses-1_task-eyesopen_eeg.fdt\n",
      "Reading c:\\Users\\beama\\Documents\\2024-2-P1-sleep-deprivation-classification\\notebooks\\..\\data\\ds004902-download\\sub-08\\ses-1\\eeg\\sub-08_ses-1_task-eyesclosed_eeg.fdt\n",
      "Reading c:\\Users\\beama\\Documents\\2024-2-P1-sleep-deprivation-classification\\notebooks\\..\\data\\ds004902-download\\sub-08\\ses-2\\eeg\\sub-08_ses-2_task-eyesopen_eeg.fdt\n",
      "Reading c:\\Users\\beama\\Documents\\2024-2-P1-sleep-deprivation-classification\\notebooks\\..\\data\\ds004902-download\\sub-08\\ses-2\\eeg\\sub-08_ses-2_task-eyesclosed_eeg.fdt\n",
      "Reading c:\\Users\\beama\\Documents\\2024-2-P1-sleep-deprivation-classification\\notebooks\\..\\data\\ds004902-download\\sub-09\\ses-1\\eeg\\sub-09_ses-1_task-eyesopen_eeg.fdt\n",
      "Reading c:\\Users\\beama\\Documents\\2024-2-P1-sleep-deprivation-classification\\notebooks\\..\\data\\ds004902-download\\sub-09\\ses-1\\eeg\\sub-09_ses-1_task-eyesclosed_eeg.fdt\n",
      "Reading c:\\Users\\beama\\Documents\\2024-2-P1-sleep-deprivation-classification\\notebooks\\..\\data\\ds004902-download\\sub-09\\ses-2\\eeg\\sub-09_ses-2_task-eyesopen_eeg.fdt\n",
      "Reading c:\\Users\\beama\\Documents\\2024-2-P1-sleep-deprivation-classification\\notebooks\\..\\data\\ds004902-download\\sub-09\\ses-2\\eeg\\sub-09_ses-2_task-eyesclosed_eeg.fdt\n",
      "Reading c:\\Users\\beama\\Documents\\2024-2-P1-sleep-deprivation-classification\\notebooks\\..\\data\\ds004902-download\\sub-10\\ses-1\\eeg\\sub-10_ses-1_task-eyesopen_eeg.fdt\n",
      "Reading c:\\Users\\beama\\Documents\\2024-2-P1-sleep-deprivation-classification\\notebooks\\..\\data\\ds004902-download\\sub-10\\ses-1\\eeg\\sub-10_ses-1_task-eyesclosed_eeg.fdt\n",
      "Reading c:\\Users\\beama\\Documents\\2024-2-P1-sleep-deprivation-classification\\notebooks\\..\\data\\ds004902-download\\sub-10\\ses-2\\eeg\\sub-10_ses-2_task-eyesopen_eeg.fdt\n",
      "Reading c:\\Users\\beama\\Documents\\2024-2-P1-sleep-deprivation-classification\\notebooks\\..\\data\\ds004902-download\\sub-10\\ses-2\\eeg\\sub-10_ses-2_task-eyesclosed_eeg.fdt\n",
      "Reading c:\\Users\\beama\\Documents\\2024-2-P1-sleep-deprivation-classification\\notebooks\\..\\data\\ds004902-download\\sub-11\\ses-1\\eeg\\sub-11_ses-1_task-eyesopen_eeg.fdt\n",
      "Reading c:\\Users\\beama\\Documents\\2024-2-P1-sleep-deprivation-classification\\notebooks\\..\\data\\ds004902-download\\sub-11\\ses-1\\eeg\\sub-11_ses-1_task-eyesclosed_eeg.fdt\n",
      "Reading c:\\Users\\beama\\Documents\\2024-2-P1-sleep-deprivation-classification\\notebooks\\..\\data\\ds004902-download\\sub-11\\ses-2\\eeg\\sub-11_ses-2_task-eyesopen_eeg.fdt\n",
      "Reading c:\\Users\\beama\\Documents\\2024-2-P1-sleep-deprivation-classification\\notebooks\\..\\data\\ds004902-download\\sub-11\\ses-2\\eeg\\sub-11_ses-2_task-eyesclosed_eeg.fdt\n",
      "Reading c:\\Users\\beama\\Documents\\2024-2-P1-sleep-deprivation-classification\\notebooks\\..\\data\\ds004902-download\\sub-12\\ses-1\\eeg\\sub-12_ses-1_task-eyesopen_eeg.fdt\n",
      "Reading c:\\Users\\beama\\Documents\\2024-2-P1-sleep-deprivation-classification\\notebooks\\..\\data\\ds004902-download\\sub-12\\ses-1\\eeg\\sub-12_ses-1_task-eyesclosed_eeg.fdt\n",
      "Reading c:\\Users\\beama\\Documents\\2024-2-P1-sleep-deprivation-classification\\notebooks\\..\\data\\ds004902-download\\sub-12\\ses-2\\eeg\\sub-12_ses-2_task-eyesopen_eeg.fdt\n",
      "Reading c:\\Users\\beama\\Documents\\2024-2-P1-sleep-deprivation-classification\\notebooks\\..\\data\\ds004902-download\\sub-12\\ses-2\\eeg\\sub-12_ses-2_task-eyesclosed_eeg.fdt\n",
      "Reading c:\\Users\\beama\\Documents\\2024-2-P1-sleep-deprivation-classification\\notebooks\\..\\data\\ds004902-download\\sub-13\\ses-1\\eeg\\sub-13_ses-1_task-eyesopen_eeg.fdt\n",
      "Reading c:\\Users\\beama\\Documents\\2024-2-P1-sleep-deprivation-classification\\notebooks\\..\\data\\ds004902-download\\sub-13\\ses-1\\eeg\\sub-13_ses-1_task-eyesclosed_eeg.fdt\n",
      "Reading c:\\Users\\beama\\Documents\\2024-2-P1-sleep-deprivation-classification\\notebooks\\..\\data\\ds004902-download\\sub-13\\ses-2\\eeg\\sub-13_ses-2_task-eyesopen_eeg.fdt\n",
      "Reading c:\\Users\\beama\\Documents\\2024-2-P1-sleep-deprivation-classification\\notebooks\\..\\data\\ds004902-download\\sub-13\\ses-2\\eeg\\sub-13_ses-2_task-eyesclosed_eeg.fdt\n",
      "Reading c:\\Users\\beama\\Documents\\2024-2-P1-sleep-deprivation-classification\\notebooks\\..\\data\\ds004902-download\\sub-14\\ses-1\\eeg\\sub-14_ses-1_task-eyesopen_eeg.fdt\n",
      "Reading c:\\Users\\beama\\Documents\\2024-2-P1-sleep-deprivation-classification\\notebooks\\..\\data\\ds004902-download\\sub-14\\ses-1\\eeg\\sub-14_ses-1_task-eyesclosed_eeg.fdt\n",
      "Reading c:\\Users\\beama\\Documents\\2024-2-P1-sleep-deprivation-classification\\notebooks\\..\\data\\ds004902-download\\sub-14\\ses-2\\eeg\\sub-14_ses-2_task-eyesopen_eeg.fdt\n",
      "Reading c:\\Users\\beama\\Documents\\2024-2-P1-sleep-deprivation-classification\\notebooks\\..\\data\\ds004902-download\\sub-14\\ses-2\\eeg\\sub-14_ses-2_task-eyesclosed_eeg.fdt\n",
      "Reading c:\\Users\\beama\\Documents\\2024-2-P1-sleep-deprivation-classification\\notebooks\\..\\data\\ds004902-download\\sub-15\\ses-1\\eeg\\sub-15_ses-1_task-eyesopen_eeg.fdt\n",
      "Reading c:\\Users\\beama\\Documents\\2024-2-P1-sleep-deprivation-classification\\notebooks\\..\\data\\ds004902-download\\sub-15\\ses-1\\eeg\\sub-15_ses-1_task-eyesclosed_eeg.fdt\n",
      "Reading c:\\Users\\beama\\Documents\\2024-2-P1-sleep-deprivation-classification\\notebooks\\..\\data\\ds004902-download\\sub-15\\ses-2\\eeg\\sub-15_ses-2_task-eyesopen_eeg.fdt\n",
      "Reading c:\\Users\\beama\\Documents\\2024-2-P1-sleep-deprivation-classification\\notebooks\\..\\data\\ds004902-download\\sub-15\\ses-2\\eeg\\sub-15_ses-2_task-eyesclosed_eeg.fdt\n",
      "Reading c:\\Users\\beama\\Documents\\2024-2-P1-sleep-deprivation-classification\\notebooks\\..\\data\\ds004902-download\\sub-16\\ses-1\\eeg\\sub-16_ses-1_task-eyesopen_eeg.fdt\n",
      "Reading c:\\Users\\beama\\Documents\\2024-2-P1-sleep-deprivation-classification\\notebooks\\..\\data\\ds004902-download\\sub-16\\ses-1\\eeg\\sub-16_ses-1_task-eyesclosed_eeg.fdt\n",
      "Reading c:\\Users\\beama\\Documents\\2024-2-P1-sleep-deprivation-classification\\notebooks\\..\\data\\ds004902-download\\sub-16\\ses-2\\eeg\\sub-16_ses-2_task-eyesopen_eeg.fdt\n",
      "Reading c:\\Users\\beama\\Documents\\2024-2-P1-sleep-deprivation-classification\\notebooks\\..\\data\\ds004902-download\\sub-16\\ses-2\\eeg\\sub-16_ses-2_task-eyesclosed_eeg.fdt\n",
      "Reading c:\\Users\\beama\\Documents\\2024-2-P1-sleep-deprivation-classification\\notebooks\\..\\data\\ds004902-download\\sub-17\\ses-1\\eeg\\sub-17_ses-1_task-eyesopen_eeg.fdt\n",
      "Reading c:\\Users\\beama\\Documents\\2024-2-P1-sleep-deprivation-classification\\notebooks\\..\\data\\ds004902-download\\sub-17\\ses-1\\eeg\\sub-17_ses-1_task-eyesclosed_eeg.fdt\n",
      "Reading c:\\Users\\beama\\Documents\\2024-2-P1-sleep-deprivation-classification\\notebooks\\..\\data\\ds004902-download\\sub-17\\ses-2\\eeg\\sub-17_ses-2_task-eyesopen_eeg.fdt\n",
      "Reading c:\\Users\\beama\\Documents\\2024-2-P1-sleep-deprivation-classification\\notebooks\\..\\data\\ds004902-download\\sub-17\\ses-2\\eeg\\sub-17_ses-2_task-eyesclosed_eeg.fdt\n",
      "Reading c:\\Users\\beama\\Documents\\2024-2-P1-sleep-deprivation-classification\\notebooks\\..\\data\\ds004902-download\\sub-18\\ses-1\\eeg\\sub-18_ses-1_task-eyesopen_eeg.fdt\n",
      "Reading c:\\Users\\beama\\Documents\\2024-2-P1-sleep-deprivation-classification\\notebooks\\..\\data\\ds004902-download\\sub-18\\ses-1\\eeg\\sub-18_ses-1_task-eyesclosed_eeg.fdt\n",
      "Reading c:\\Users\\beama\\Documents\\2024-2-P1-sleep-deprivation-classification\\notebooks\\..\\data\\ds004902-download\\sub-18\\ses-2\\eeg\\sub-18_ses-2_task-eyesopen_eeg.fdt\n",
      "Reading c:\\Users\\beama\\Documents\\2024-2-P1-sleep-deprivation-classification\\notebooks\\..\\data\\ds004902-download\\sub-18\\ses-2\\eeg\\sub-18_ses-2_task-eyesclosed_eeg.fdt\n",
      "Reading c:\\Users\\beama\\Documents\\2024-2-P1-sleep-deprivation-classification\\notebooks\\..\\data\\ds004902-download\\sub-19\\ses-1\\eeg\\sub-19_ses-1_task-eyesopen_eeg.fdt\n",
      "Reading c:\\Users\\beama\\Documents\\2024-2-P1-sleep-deprivation-classification\\notebooks\\..\\data\\ds004902-download\\sub-19\\ses-1\\eeg\\sub-19_ses-1_task-eyesclosed_eeg.fdt\n",
      "Reading c:\\Users\\beama\\Documents\\2024-2-P1-sleep-deprivation-classification\\notebooks\\..\\data\\ds004902-download\\sub-19\\ses-2\\eeg\\sub-19_ses-2_task-eyesopen_eeg.fdt\n",
      "Reading c:\\Users\\beama\\Documents\\2024-2-P1-sleep-deprivation-classification\\notebooks\\..\\data\\ds004902-download\\sub-19\\ses-2\\eeg\\sub-19_ses-2_task-eyesclosed_eeg.fdt\n",
      "Reading c:\\Users\\beama\\Documents\\2024-2-P1-sleep-deprivation-classification\\notebooks\\..\\data\\ds004902-download\\sub-20\\ses-1\\eeg\\sub-20_ses-1_task-eyesopen_eeg.fdt\n",
      "Reading c:\\Users\\beama\\Documents\\2024-2-P1-sleep-deprivation-classification\\notebooks\\..\\data\\ds004902-download\\sub-20\\ses-1\\eeg\\sub-20_ses-1_task-eyesclosed_eeg.fdt\n",
      "Reading c:\\Users\\beama\\Documents\\2024-2-P1-sleep-deprivation-classification\\notebooks\\..\\data\\ds004902-download\\sub-20\\ses-2\\eeg\\sub-20_ses-2_task-eyesopen_eeg.fdt\n",
      "Reading c:\\Users\\beama\\Documents\\2024-2-P1-sleep-deprivation-classification\\notebooks\\..\\data\\ds004902-download\\sub-20\\ses-2\\eeg\\sub-20_ses-2_task-eyesclosed_eeg.fdt\n",
      "Reading c:\\Users\\beama\\Documents\\2024-2-P1-sleep-deprivation-classification\\notebooks\\..\\data\\ds004902-download\\sub-21\\ses-1\\eeg\\sub-21_ses-1_task-eyesopen_eeg.fdt\n",
      "Reading c:\\Users\\beama\\Documents\\2024-2-P1-sleep-deprivation-classification\\notebooks\\..\\data\\ds004902-download\\sub-21\\ses-1\\eeg\\sub-21_ses-1_task-eyesclosed_eeg.fdt\n",
      "Reading c:\\Users\\beama\\Documents\\2024-2-P1-sleep-deprivation-classification\\notebooks\\..\\data\\ds004902-download\\sub-21\\ses-2\\eeg\\sub-21_ses-2_task-eyesopen_eeg.fdt\n",
      "Reading c:\\Users\\beama\\Documents\\2024-2-P1-sleep-deprivation-classification\\notebooks\\..\\data\\ds004902-download\\sub-21\\ses-2\\eeg\\sub-21_ses-2_task-eyesclosed_eeg.fdt\n",
      "Reading c:\\Users\\beama\\Documents\\2024-2-P1-sleep-deprivation-classification\\notebooks\\..\\data\\ds004902-download\\sub-22\\ses-1\\eeg\\sub-22_ses-1_task-eyesopen_eeg.fdt\n",
      "Reading c:\\Users\\beama\\Documents\\2024-2-P1-sleep-deprivation-classification\\notebooks\\..\\data\\ds004902-download\\sub-22\\ses-1\\eeg\\sub-22_ses-1_task-eyesclosed_eeg.fdt\n",
      "Reading c:\\Users\\beama\\Documents\\2024-2-P1-sleep-deprivation-classification\\notebooks\\..\\data\\ds004902-download\\sub-22\\ses-2\\eeg\\sub-22_ses-2_task-eyesopen_eeg.fdt\n",
      "Reading c:\\Users\\beama\\Documents\\2024-2-P1-sleep-deprivation-classification\\notebooks\\..\\data\\ds004902-download\\sub-22\\ses-2\\eeg\\sub-22_ses-2_task-eyesclosed_eeg.fdt\n",
      "Reading c:\\Users\\beama\\Documents\\2024-2-P1-sleep-deprivation-classification\\notebooks\\..\\data\\ds004902-download\\sub-23\\ses-1\\eeg\\sub-23_ses-1_task-eyesopen_eeg.fdt\n",
      "Reading c:\\Users\\beama\\Documents\\2024-2-P1-sleep-deprivation-classification\\notebooks\\..\\data\\ds004902-download\\sub-23\\ses-1\\eeg\\sub-23_ses-1_task-eyesclosed_eeg.fdt\n",
      "Reading c:\\Users\\beama\\Documents\\2024-2-P1-sleep-deprivation-classification\\notebooks\\..\\data\\ds004902-download\\sub-23\\ses-2\\eeg\\sub-23_ses-2_task-eyesopen_eeg.fdt\n",
      "Reading c:\\Users\\beama\\Documents\\2024-2-P1-sleep-deprivation-classification\\notebooks\\..\\data\\ds004902-download\\sub-23\\ses-2\\eeg\\sub-23_ses-2_task-eyesclosed_eeg.fdt\n",
      "Reading c:\\Users\\beama\\Documents\\2024-2-P1-sleep-deprivation-classification\\notebooks\\..\\data\\ds004902-download\\sub-24\\ses-1\\eeg\\sub-24_ses-1_task-eyesopen_eeg.fdt\n",
      "Reading c:\\Users\\beama\\Documents\\2024-2-P1-sleep-deprivation-classification\\notebooks\\..\\data\\ds004902-download\\sub-24\\ses-1\\eeg\\sub-24_ses-1_task-eyesclosed_eeg.fdt\n",
      "Reading c:\\Users\\beama\\Documents\\2024-2-P1-sleep-deprivation-classification\\notebooks\\..\\data\\ds004902-download\\sub-24\\ses-2\\eeg\\sub-24_ses-2_task-eyesopen_eeg.fdt\n",
      "Reading c:\\Users\\beama\\Documents\\2024-2-P1-sleep-deprivation-classification\\notebooks\\..\\data\\ds004902-download\\sub-24\\ses-2\\eeg\\sub-24_ses-2_task-eyesclosed_eeg.fdt\n",
      "Reading c:\\Users\\beama\\Documents\\2024-2-P1-sleep-deprivation-classification\\notebooks\\..\\data\\ds004902-download\\sub-25\\ses-1\\eeg\\sub-25_ses-1_task-eyesopen_eeg.fdt\n",
      "Reading c:\\Users\\beama\\Documents\\2024-2-P1-sleep-deprivation-classification\\notebooks\\..\\data\\ds004902-download\\sub-25\\ses-1\\eeg\\sub-25_ses-1_task-eyesclosed_eeg.fdt\n",
      "Reading c:\\Users\\beama\\Documents\\2024-2-P1-sleep-deprivation-classification\\notebooks\\..\\data\\ds004902-download\\sub-25\\ses-2\\eeg\\sub-25_ses-2_task-eyesopen_eeg.fdt\n",
      "Reading c:\\Users\\beama\\Documents\\2024-2-P1-sleep-deprivation-classification\\notebooks\\..\\data\\ds004902-download\\sub-25\\ses-2\\eeg\\sub-25_ses-2_task-eyesclosed_eeg.fdt\n",
      "Reading c:\\Users\\beama\\Documents\\2024-2-P1-sleep-deprivation-classification\\notebooks\\..\\data\\ds004902-download\\sub-26\\ses-1\\eeg\\sub-26_ses-1_task-eyesopen_eeg.fdt\n",
      "Reading c:\\Users\\beama\\Documents\\2024-2-P1-sleep-deprivation-classification\\notebooks\\..\\data\\ds004902-download\\sub-26\\ses-1\\eeg\\sub-26_ses-1_task-eyesclosed_eeg.fdt\n",
      "Reading c:\\Users\\beama\\Documents\\2024-2-P1-sleep-deprivation-classification\\notebooks\\..\\data\\ds004902-download\\sub-26\\ses-2\\eeg\\sub-26_ses-2_task-eyesopen_eeg.fdt\n",
      "Reading c:\\Users\\beama\\Documents\\2024-2-P1-sleep-deprivation-classification\\notebooks\\..\\data\\ds004902-download\\sub-26\\ses-2\\eeg\\sub-26_ses-2_task-eyesclosed_eeg.fdt\n",
      "Reading c:\\Users\\beama\\Documents\\2024-2-P1-sleep-deprivation-classification\\notebooks\\..\\data\\ds004902-download\\sub-27\\ses-1\\eeg\\sub-27_ses-1_task-eyesopen_eeg.fdt\n",
      "Reading c:\\Users\\beama\\Documents\\2024-2-P1-sleep-deprivation-classification\\notebooks\\..\\data\\ds004902-download\\sub-27\\ses-1\\eeg\\sub-27_ses-1_task-eyesclosed_eeg.fdt\n",
      "Reading c:\\Users\\beama\\Documents\\2024-2-P1-sleep-deprivation-classification\\notebooks\\..\\data\\ds004902-download\\sub-27\\ses-2\\eeg\\sub-27_ses-2_task-eyesopen_eeg.fdt\n",
      "Reading c:\\Users\\beama\\Documents\\2024-2-P1-sleep-deprivation-classification\\notebooks\\..\\data\\ds004902-download\\sub-27\\ses-2\\eeg\\sub-27_ses-2_task-eyesclosed_eeg.fdt\n",
      "Reading c:\\Users\\beama\\Documents\\2024-2-P1-sleep-deprivation-classification\\notebooks\\..\\data\\ds004902-download\\sub-28\\ses-1\\eeg\\sub-28_ses-1_task-eyesopen_eeg.fdt\n",
      "Reading c:\\Users\\beama\\Documents\\2024-2-P1-sleep-deprivation-classification\\notebooks\\..\\data\\ds004902-download\\sub-28\\ses-1\\eeg\\sub-28_ses-1_task-eyesclosed_eeg.fdt\n",
      "Error loading participant sub-28 with session ses-1 and task eyesclosed: Incorrect number of samples (7381031 != 9150000), please report this error to MNE-Python developers\n",
      "Reading c:\\Users\\beama\\Documents\\2024-2-P1-sleep-deprivation-classification\\notebooks\\..\\data\\ds004902-download\\sub-28\\ses-2\\eeg\\sub-28_ses-2_task-eyesopen_eeg.fdt\n",
      "Error loading participant sub-28 with session ses-2 and task eyesopen: Incorrect number of samples (7352375 != 9150000), please report this error to MNE-Python developers\n",
      "Reading c:\\Users\\beama\\Documents\\2024-2-P1-sleep-deprivation-classification\\notebooks\\..\\data\\ds004902-download\\sub-28\\ses-2\\eeg\\sub-28_ses-2_task-eyesclosed_eeg.fdt\n",
      "Reading c:\\Users\\beama\\Documents\\2024-2-P1-sleep-deprivation-classification\\notebooks\\..\\data\\ds004902-download\\sub-29\\ses-1\\eeg\\sub-29_ses-1_task-eyesopen_eeg.fdt\n",
      "Reading c:\\Users\\beama\\Documents\\2024-2-P1-sleep-deprivation-classification\\notebooks\\..\\data\\ds004902-download\\sub-29\\ses-1\\eeg\\sub-29_ses-1_task-eyesclosed_eeg.fdt\n",
      "Reading c:\\Users\\beama\\Documents\\2024-2-P1-sleep-deprivation-classification\\notebooks\\..\\data\\ds004902-download\\sub-29\\ses-2\\eeg\\sub-29_ses-2_task-eyesopen_eeg.fdt\n",
      "Reading c:\\Users\\beama\\Documents\\2024-2-P1-sleep-deprivation-classification\\notebooks\\..\\data\\ds004902-download\\sub-29\\ses-2\\eeg\\sub-29_ses-2_task-eyesclosed_eeg.fdt\n",
      "Reading c:\\Users\\beama\\Documents\\2024-2-P1-sleep-deprivation-classification\\notebooks\\..\\data\\ds004902-download\\sub-30\\ses-1\\eeg\\sub-30_ses-1_task-eyesopen_eeg.fdt\n",
      "Reading c:\\Users\\beama\\Documents\\2024-2-P1-sleep-deprivation-classification\\notebooks\\..\\data\\ds004902-download\\sub-30\\ses-1\\eeg\\sub-30_ses-1_task-eyesclosed_eeg.fdt\n",
      "Reading c:\\Users\\beama\\Documents\\2024-2-P1-sleep-deprivation-classification\\notebooks\\..\\data\\ds004902-download\\sub-30\\ses-2\\eeg\\sub-30_ses-2_task-eyesopen_eeg.fdt\n",
      "Reading c:\\Users\\beama\\Documents\\2024-2-P1-sleep-deprivation-classification\\notebooks\\..\\data\\ds004902-download\\sub-30\\ses-2\\eeg\\sub-30_ses-2_task-eyesclosed_eeg.fdt\n",
      "Reading c:\\Users\\beama\\Documents\\2024-2-P1-sleep-deprivation-classification\\notebooks\\..\\data\\ds004902-download\\sub-31\\ses-1\\eeg\\sub-31_ses-1_task-eyesopen_eeg.fdt\n",
      "Reading c:\\Users\\beama\\Documents\\2024-2-P1-sleep-deprivation-classification\\notebooks\\..\\data\\ds004902-download\\sub-31\\ses-1\\eeg\\sub-31_ses-1_task-eyesclosed_eeg.fdt\n",
      "Reading c:\\Users\\beama\\Documents\\2024-2-P1-sleep-deprivation-classification\\notebooks\\..\\data\\ds004902-download\\sub-31\\ses-2\\eeg\\sub-31_ses-2_task-eyesopen_eeg.fdt\n",
      "Reading c:\\Users\\beama\\Documents\\2024-2-P1-sleep-deprivation-classification\\notebooks\\..\\data\\ds004902-download\\sub-31\\ses-2\\eeg\\sub-31_ses-2_task-eyesclosed_eeg.fdt\n",
      "Reading c:\\Users\\beama\\Documents\\2024-2-P1-sleep-deprivation-classification\\notebooks\\..\\data\\ds004902-download\\sub-32\\ses-1\\eeg\\sub-32_ses-1_task-eyesopen_eeg.fdt\n",
      "Reading c:\\Users\\beama\\Documents\\2024-2-P1-sleep-deprivation-classification\\notebooks\\..\\data\\ds004902-download\\sub-32\\ses-1\\eeg\\sub-32_ses-1_task-eyesclosed_eeg.fdt\n",
      "Reading c:\\Users\\beama\\Documents\\2024-2-P1-sleep-deprivation-classification\\notebooks\\..\\data\\ds004902-download\\sub-32\\ses-2\\eeg\\sub-32_ses-2_task-eyesopen_eeg.fdt\n",
      "Reading c:\\Users\\beama\\Documents\\2024-2-P1-sleep-deprivation-classification\\notebooks\\..\\data\\ds004902-download\\sub-32\\ses-2\\eeg\\sub-32_ses-2_task-eyesclosed_eeg.fdt\n",
      "Reading c:\\Users\\beama\\Documents\\2024-2-P1-sleep-deprivation-classification\\notebooks\\..\\data\\ds004902-download\\sub-33\\ses-1\\eeg\\sub-33_ses-1_task-eyesopen_eeg.fdt\n",
      "Reading c:\\Users\\beama\\Documents\\2024-2-P1-sleep-deprivation-classification\\notebooks\\..\\data\\ds004902-download\\sub-33\\ses-1\\eeg\\sub-33_ses-1_task-eyesclosed_eeg.fdt\n",
      "Reading c:\\Users\\beama\\Documents\\2024-2-P1-sleep-deprivation-classification\\notebooks\\..\\data\\ds004902-download\\sub-33\\ses-2\\eeg\\sub-33_ses-2_task-eyesopen_eeg.fdt\n",
      "Reading c:\\Users\\beama\\Documents\\2024-2-P1-sleep-deprivation-classification\\notebooks\\..\\data\\ds004902-download\\sub-33\\ses-2\\eeg\\sub-33_ses-2_task-eyesclosed_eeg.fdt\n",
      "Reading c:\\Users\\beama\\Documents\\2024-2-P1-sleep-deprivation-classification\\notebooks\\..\\data\\ds004902-download\\sub-34\\ses-1\\eeg\\sub-34_ses-1_task-eyesopen_eeg.fdt\n",
      "Reading c:\\Users\\beama\\Documents\\2024-2-P1-sleep-deprivation-classification\\notebooks\\..\\data\\ds004902-download\\sub-34\\ses-1\\eeg\\sub-34_ses-1_task-eyesclosed_eeg.fdt\n",
      "Reading c:\\Users\\beama\\Documents\\2024-2-P1-sleep-deprivation-classification\\notebooks\\..\\data\\ds004902-download\\sub-34\\ses-2\\eeg\\sub-34_ses-2_task-eyesopen_eeg.fdt\n",
      "Reading c:\\Users\\beama\\Documents\\2024-2-P1-sleep-deprivation-classification\\notebooks\\..\\data\\ds004902-download\\sub-34\\ses-2\\eeg\\sub-34_ses-2_task-eyesclosed_eeg.fdt\n",
      "Reading c:\\Users\\beama\\Documents\\2024-2-P1-sleep-deprivation-classification\\notebooks\\..\\data\\ds004902-download\\sub-35\\ses-1\\eeg\\sub-35_ses-1_task-eyesopen_eeg.fdt\n",
      "Reading c:\\Users\\beama\\Documents\\2024-2-P1-sleep-deprivation-classification\\notebooks\\..\\data\\ds004902-download\\sub-35\\ses-1\\eeg\\sub-35_ses-1_task-eyesclosed_eeg.fdt\n",
      "Reading c:\\Users\\beama\\Documents\\2024-2-P1-sleep-deprivation-classification\\notebooks\\..\\data\\ds004902-download\\sub-35\\ses-2\\eeg\\sub-35_ses-2_task-eyesopen_eeg.fdt\n",
      "Reading c:\\Users\\beama\\Documents\\2024-2-P1-sleep-deprivation-classification\\notebooks\\..\\data\\ds004902-download\\sub-35\\ses-2\\eeg\\sub-35_ses-2_task-eyesclosed_eeg.fdt\n",
      "Reading c:\\Users\\beama\\Documents\\2024-2-P1-sleep-deprivation-classification\\notebooks\\..\\data\\ds004902-download\\sub-36\\ses-1\\eeg\\sub-36_ses-1_task-eyesopen_eeg.fdt\n",
      "Reading c:\\Users\\beama\\Documents\\2024-2-P1-sleep-deprivation-classification\\notebooks\\..\\data\\ds004902-download\\sub-36\\ses-1\\eeg\\sub-36_ses-1_task-eyesclosed_eeg.fdt\n",
      "Reading c:\\Users\\beama\\Documents\\2024-2-P1-sleep-deprivation-classification\\notebooks\\..\\data\\ds004902-download\\sub-36\\ses-2\\eeg\\sub-36_ses-2_task-eyesopen_eeg.fdt\n",
      "Reading c:\\Users\\beama\\Documents\\2024-2-P1-sleep-deprivation-classification\\notebooks\\..\\data\\ds004902-download\\sub-36\\ses-2\\eeg\\sub-36_ses-2_task-eyesclosed_eeg.fdt\n",
      "Reading c:\\Users\\beama\\Documents\\2024-2-P1-sleep-deprivation-classification\\notebooks\\..\\data\\ds004902-download\\sub-37\\ses-1\\eeg\\sub-37_ses-1_task-eyesopen_eeg.fdt\n",
      "Reading c:\\Users\\beama\\Documents\\2024-2-P1-sleep-deprivation-classification\\notebooks\\..\\data\\ds004902-download\\sub-37\\ses-1\\eeg\\sub-37_ses-1_task-eyesclosed_eeg.fdt\n",
      "Reading c:\\Users\\beama\\Documents\\2024-2-P1-sleep-deprivation-classification\\notebooks\\..\\data\\ds004902-download\\sub-37\\ses-2\\eeg\\sub-37_ses-2_task-eyesopen_eeg.fdt\n",
      "Reading c:\\Users\\beama\\Documents\\2024-2-P1-sleep-deprivation-classification\\notebooks\\..\\data\\ds004902-download\\sub-37\\ses-2\\eeg\\sub-37_ses-2_task-eyesclosed_eeg.fdt\n",
      "Reading c:\\Users\\beama\\Documents\\2024-2-P1-sleep-deprivation-classification\\notebooks\\..\\data\\ds004902-download\\sub-38\\ses-1\\eeg\\sub-38_ses-1_task-eyesopen_eeg.fdt\n",
      "Reading c:\\Users\\beama\\Documents\\2024-2-P1-sleep-deprivation-classification\\notebooks\\..\\data\\ds004902-download\\sub-38\\ses-1\\eeg\\sub-38_ses-1_task-eyesclosed_eeg.fdt\n",
      "Reading c:\\Users\\beama\\Documents\\2024-2-P1-sleep-deprivation-classification\\notebooks\\..\\data\\ds004902-download\\sub-38\\ses-2\\eeg\\sub-38_ses-2_task-eyesopen_eeg.fdt\n",
      "Reading c:\\Users\\beama\\Documents\\2024-2-P1-sleep-deprivation-classification\\notebooks\\..\\data\\ds004902-download\\sub-38\\ses-2\\eeg\\sub-38_ses-2_task-eyesclosed_eeg.fdt\n",
      "Reading c:\\Users\\beama\\Documents\\2024-2-P1-sleep-deprivation-classification\\notebooks\\..\\data\\ds004902-download\\sub-39\\ses-1\\eeg\\sub-39_ses-1_task-eyesopen_eeg.fdt\n",
      "For participant sub-39, the file sub-39_ses-1_task-eyesclosed_eeg.set was not found\n",
      "Reading c:\\Users\\beama\\Documents\\2024-2-P1-sleep-deprivation-classification\\notebooks\\..\\data\\ds004902-download\\sub-39\\ses-2\\eeg\\sub-39_ses-2_task-eyesopen_eeg.fdt\n",
      "For participant sub-39, the file sub-39_ses-2_task-eyesclosed_eeg.set was not found\n",
      "Reading c:\\Users\\beama\\Documents\\2024-2-P1-sleep-deprivation-classification\\notebooks\\..\\data\\ds004902-download\\sub-40\\ses-1\\eeg\\sub-40_ses-1_task-eyesopen_eeg.fdt\n",
      "For participant sub-40, the file sub-40_ses-1_task-eyesclosed_eeg.set was not found\n",
      "Reading c:\\Users\\beama\\Documents\\2024-2-P1-sleep-deprivation-classification\\notebooks\\..\\data\\ds004902-download\\sub-40\\ses-2\\eeg\\sub-40_ses-2_task-eyesopen_eeg.fdt\n",
      "For participant sub-40, the file sub-40_ses-2_task-eyesclosed_eeg.set was not found\n",
      "Reading c:\\Users\\beama\\Documents\\2024-2-P1-sleep-deprivation-classification\\notebooks\\..\\data\\ds004902-download\\sub-41\\ses-1\\eeg\\sub-41_ses-1_task-eyesopen_eeg.fdt\n",
      "For participant sub-41, the file sub-41_ses-1_task-eyesclosed_eeg.set was not found\n",
      "Reading c:\\Users\\beama\\Documents\\2024-2-P1-sleep-deprivation-classification\\notebooks\\..\\data\\ds004902-download\\sub-41\\ses-2\\eeg\\sub-41_ses-2_task-eyesopen_eeg.fdt\n",
      "For participant sub-41, the file sub-41_ses-2_task-eyesclosed_eeg.set was not found\n",
      "Reading c:\\Users\\beama\\Documents\\2024-2-P1-sleep-deprivation-classification\\notebooks\\..\\data\\ds004902-download\\sub-42\\ses-1\\eeg\\sub-42_ses-1_task-eyesopen_eeg.fdt\n",
      "For participant sub-42, the file sub-42_ses-1_task-eyesclosed_eeg.set was not found\n",
      "Reading c:\\Users\\beama\\Documents\\2024-2-P1-sleep-deprivation-classification\\notebooks\\..\\data\\ds004902-download\\sub-42\\ses-2\\eeg\\sub-42_ses-2_task-eyesopen_eeg.fdt\n",
      "For participant sub-42, the file sub-42_ses-2_task-eyesclosed_eeg.set was not found\n",
      "Reading c:\\Users\\beama\\Documents\\2024-2-P1-sleep-deprivation-classification\\notebooks\\..\\data\\ds004902-download\\sub-43\\ses-1\\eeg\\sub-43_ses-1_task-eyesopen_eeg.fdt\n",
      "For participant sub-43, the file sub-43_ses-1_task-eyesclosed_eeg.set was not found\n",
      "Reading c:\\Users\\beama\\Documents\\2024-2-P1-sleep-deprivation-classification\\notebooks\\..\\data\\ds004902-download\\sub-43\\ses-2\\eeg\\sub-43_ses-2_task-eyesopen_eeg.fdt\n",
      "For participant sub-43, the file sub-43_ses-2_task-eyesclosed_eeg.set was not found\n",
      "Reading c:\\Users\\beama\\Documents\\2024-2-P1-sleep-deprivation-classification\\notebooks\\..\\data\\ds004902-download\\sub-44\\ses-1\\eeg\\sub-44_ses-1_task-eyesopen_eeg.fdt\n",
      "For participant sub-44, the file sub-44_ses-1_task-eyesclosed_eeg.set was not found\n",
      "Reading c:\\Users\\beama\\Documents\\2024-2-P1-sleep-deprivation-classification\\notebooks\\..\\data\\ds004902-download\\sub-44\\ses-2\\eeg\\sub-44_ses-2_task-eyesopen_eeg.fdt\n",
      "Error loading participant sub-44 with session ses-2 and task eyesopen: Incorrect number of samples (22246652 != 24999996), please report this error to MNE-Python developers\n",
      "For participant sub-44, the file sub-44_ses-2_task-eyesclosed_eeg.set was not found\n",
      "Reading c:\\Users\\beama\\Documents\\2024-2-P1-sleep-deprivation-classification\\notebooks\\..\\data\\ds004902-download\\sub-45\\ses-1\\eeg\\sub-45_ses-1_task-eyesopen_eeg.fdt\n",
      "For participant sub-45, the file sub-45_ses-1_task-eyesclosed_eeg.set was not found\n",
      "Reading c:\\Users\\beama\\Documents\\2024-2-P1-sleep-deprivation-classification\\notebooks\\..\\data\\ds004902-download\\sub-45\\ses-2\\eeg\\sub-45_ses-2_task-eyesopen_eeg.fdt\n",
      "For participant sub-45, the file sub-45_ses-2_task-eyesclosed_eeg.set was not found\n",
      "Reading c:\\Users\\beama\\Documents\\2024-2-P1-sleep-deprivation-classification\\notebooks\\..\\data\\ds004902-download\\sub-46\\ses-1\\eeg\\sub-46_ses-1_task-eyesopen_eeg.fdt\n",
      "For participant sub-46, the file sub-46_ses-1_task-eyesclosed_eeg.set was not found\n",
      "Reading c:\\Users\\beama\\Documents\\2024-2-P1-sleep-deprivation-classification\\notebooks\\..\\data\\ds004902-download\\sub-46\\ses-2\\eeg\\sub-46_ses-2_task-eyesopen_eeg.fdt\n"
     ]
    },
    {
     "name": "stderr",
     "output_type": "stream",
     "text": [
      "C:\\Users\\beama\\AppData\\Local\\Temp\\ipykernel_11748\\1019483413.py:3: RuntimeWarning: The data contains 'boundary' events, indicating data discontinuities. Be cautious of filtering and epoching around these events.\n",
      "  aux_eeg = mne.io.read_raw_eeglab(f\"{root}/{participant_id}/{session}/eeg/{participant_id}_{session}_task-{task}_eeg.set\").get_data()\n"
     ]
    },
    {
     "name": "stdout",
     "output_type": "stream",
     "text": [
      "For participant sub-46, the file sub-46_ses-2_task-eyesclosed_eeg.set was not found\n",
      "Reading c:\\Users\\beama\\Documents\\2024-2-P1-sleep-deprivation-classification\\notebooks\\..\\data\\ds004902-download\\sub-47\\ses-1\\eeg\\sub-47_ses-1_task-eyesopen_eeg.fdt\n",
      "For participant sub-47, the file sub-47_ses-1_task-eyesclosed_eeg.set was not found\n",
      "Reading c:\\Users\\beama\\Documents\\2024-2-P1-sleep-deprivation-classification\\notebooks\\..\\data\\ds004902-download\\sub-47\\ses-2\\eeg\\sub-47_ses-2_task-eyesopen_eeg.fdt\n",
      "For participant sub-47, the file sub-47_ses-2_task-eyesclosed_eeg.set was not found\n",
      "Reading c:\\Users\\beama\\Documents\\2024-2-P1-sleep-deprivation-classification\\notebooks\\..\\data\\ds004902-download\\sub-48\\ses-1\\eeg\\sub-48_ses-1_task-eyesopen_eeg.fdt\n",
      "For participant sub-48, the file sub-48_ses-1_task-eyesclosed_eeg.set was not found\n",
      "Reading c:\\Users\\beama\\Documents\\2024-2-P1-sleep-deprivation-classification\\notebooks\\..\\data\\ds004902-download\\sub-48\\ses-2\\eeg\\sub-48_ses-2_task-eyesopen_eeg.fdt\n",
      "For participant sub-48, the file sub-48_ses-2_task-eyesclosed_eeg.set was not found\n",
      "Reading c:\\Users\\beama\\Documents\\2024-2-P1-sleep-deprivation-classification\\notebooks\\..\\data\\ds004902-download\\sub-49\\ses-1\\eeg\\sub-49_ses-1_task-eyesopen_eeg.fdt\n",
      "For participant sub-49, the file sub-49_ses-1_task-eyesclosed_eeg.set was not found\n",
      "Reading c:\\Users\\beama\\Documents\\2024-2-P1-sleep-deprivation-classification\\notebooks\\..\\data\\ds004902-download\\sub-49\\ses-2\\eeg\\sub-49_ses-2_task-eyesopen_eeg.fdt\n",
      "For participant sub-49, the file sub-49_ses-2_task-eyesclosed_eeg.set was not found\n",
      "Reading c:\\Users\\beama\\Documents\\2024-2-P1-sleep-deprivation-classification\\notebooks\\..\\data\\ds004902-download\\sub-50\\ses-1\\eeg\\sub-50_ses-1_task-eyesopen_eeg.fdt\n",
      "For participant sub-50, the file sub-50_ses-1_task-eyesclosed_eeg.set was not found\n",
      "Reading c:\\Users\\beama\\Documents\\2024-2-P1-sleep-deprivation-classification\\notebooks\\..\\data\\ds004902-download\\sub-50\\ses-2\\eeg\\sub-50_ses-2_task-eyesopen_eeg.fdt\n",
      "For participant sub-50, the file sub-50_ses-2_task-eyesclosed_eeg.set was not found\n",
      "Reading c:\\Users\\beama\\Documents\\2024-2-P1-sleep-deprivation-classification\\notebooks\\..\\data\\ds004902-download\\sub-51\\ses-1\\eeg\\sub-51_ses-1_task-eyesopen_eeg.fdt\n",
      "For participant sub-51, the file sub-51_ses-1_task-eyesclosed_eeg.set was not found\n",
      "Reading c:\\Users\\beama\\Documents\\2024-2-P1-sleep-deprivation-classification\\notebooks\\..\\data\\ds004902-download\\sub-51\\ses-2\\eeg\\sub-51_ses-2_task-eyesopen_eeg.fdt\n"
     ]
    },
    {
     "name": "stderr",
     "output_type": "stream",
     "text": [
      "C:\\Users\\beama\\AppData\\Local\\Temp\\ipykernel_11748\\1019483413.py:3: RuntimeWarning: The data contains 'boundary' events, indicating data discontinuities. Be cautious of filtering and epoching around these events.\n",
      "  aux_eeg = mne.io.read_raw_eeglab(f\"{root}/{participant_id}/{session}/eeg/{participant_id}_{session}_task-{task}_eeg.set\").get_data()\n"
     ]
    },
    {
     "name": "stdout",
     "output_type": "stream",
     "text": [
      "For participant sub-51, the file sub-51_ses-2_task-eyesclosed_eeg.set was not found\n",
      "Reading c:\\Users\\beama\\Documents\\2024-2-P1-sleep-deprivation-classification\\notebooks\\..\\data\\ds004902-download\\sub-52\\ses-1\\eeg\\sub-52_ses-1_task-eyesopen_eeg.fdt\n",
      "For participant sub-52, the file sub-52_ses-1_task-eyesclosed_eeg.set was not found\n",
      "Reading c:\\Users\\beama\\Documents\\2024-2-P1-sleep-deprivation-classification\\notebooks\\..\\data\\ds004902-download\\sub-52\\ses-2\\eeg\\sub-52_ses-2_task-eyesopen_eeg.fdt\n"
     ]
    },
    {
     "name": "stderr",
     "output_type": "stream",
     "text": [
      "C:\\Users\\beama\\AppData\\Local\\Temp\\ipykernel_11748\\1019483413.py:3: RuntimeWarning: The data contains 'boundary' events, indicating data discontinuities. Be cautious of filtering and epoching around these events.\n",
      "  aux_eeg = mne.io.read_raw_eeglab(f\"{root}/{participant_id}/{session}/eeg/{participant_id}_{session}_task-{task}_eeg.set\").get_data()\n"
     ]
    },
    {
     "name": "stdout",
     "output_type": "stream",
     "text": [
      "For participant sub-52, the file sub-52_ses-2_task-eyesclosed_eeg.set was not found\n",
      "Reading c:\\Users\\beama\\Documents\\2024-2-P1-sleep-deprivation-classification\\notebooks\\..\\data\\ds004902-download\\sub-53\\ses-1\\eeg\\sub-53_ses-1_task-eyesopen_eeg.fdt\n",
      "For participant sub-53, the file sub-53_ses-1_task-eyesclosed_eeg.set was not found\n",
      "Reading c:\\Users\\beama\\Documents\\2024-2-P1-sleep-deprivation-classification\\notebooks\\..\\data\\ds004902-download\\sub-53\\ses-2\\eeg\\sub-53_ses-2_task-eyesopen_eeg.fdt\n",
      "For participant sub-53, the file sub-53_ses-2_task-eyesclosed_eeg.set was not found\n",
      "Reading c:\\Users\\beama\\Documents\\2024-2-P1-sleep-deprivation-classification\\notebooks\\..\\data\\ds004902-download\\sub-54\\ses-1\\eeg\\sub-54_ses-1_task-eyesopen_eeg.fdt\n",
      "For participant sub-54, the file sub-54_ses-1_task-eyesclosed_eeg.set was not found\n",
      "Reading c:\\Users\\beama\\Documents\\2024-2-P1-sleep-deprivation-classification\\notebooks\\..\\data\\ds004902-download\\sub-54\\ses-2\\eeg\\sub-54_ses-2_task-eyesopen_eeg.fdt\n",
      "For participant sub-54, the file sub-54_ses-2_task-eyesclosed_eeg.set was not found\n",
      "Reading c:\\Users\\beama\\Documents\\2024-2-P1-sleep-deprivation-classification\\notebooks\\..\\data\\ds004902-download\\sub-55\\ses-1\\eeg\\sub-55_ses-1_task-eyesopen_eeg.fdt\n",
      "For participant sub-55, the file sub-55_ses-1_task-eyesclosed_eeg.set was not found\n",
      "Reading c:\\Users\\beama\\Documents\\2024-2-P1-sleep-deprivation-classification\\notebooks\\..\\data\\ds004902-download\\sub-55\\ses-2\\eeg\\sub-55_ses-2_task-eyesopen_eeg.fdt\n",
      "For participant sub-55, the file sub-55_ses-2_task-eyesclosed_eeg.set was not found\n",
      "Reading c:\\Users\\beama\\Documents\\2024-2-P1-sleep-deprivation-classification\\notebooks\\..\\data\\ds004902-download\\sub-56\\ses-1\\eeg\\sub-56_ses-1_task-eyesopen_eeg.fdt\n",
      "For participant sub-56, the file sub-56_ses-1_task-eyesclosed_eeg.set was not found\n",
      "Reading c:\\Users\\beama\\Documents\\2024-2-P1-sleep-deprivation-classification\\notebooks\\..\\data\\ds004902-download\\sub-56\\ses-2\\eeg\\sub-56_ses-2_task-eyesopen_eeg.fdt\n",
      "For participant sub-56, the file sub-56_ses-2_task-eyesclosed_eeg.set was not found\n",
      "Reading c:\\Users\\beama\\Documents\\2024-2-P1-sleep-deprivation-classification\\notebooks\\..\\data\\ds004902-download\\sub-57\\ses-1\\eeg\\sub-57_ses-1_task-eyesopen_eeg.fdt\n"
     ]
    },
    {
     "name": "stderr",
     "output_type": "stream",
     "text": [
      "C:\\Users\\beama\\AppData\\Local\\Temp\\ipykernel_11748\\1019483413.py:3: RuntimeWarning: Limited 1 annotation(s) that were expanding outside the data range.\n",
      "  aux_eeg = mne.io.read_raw_eeglab(f\"{root}/{participant_id}/{session}/eeg/{participant_id}_{session}_task-{task}_eeg.set\").get_data()\n",
      "C:\\Users\\beama\\AppData\\Local\\Temp\\ipykernel_11748\\1019483413.py:3: RuntimeWarning: The data contains 'boundary' events, indicating data discontinuities. Be cautious of filtering and epoching around these events.\n",
      "  aux_eeg = mne.io.read_raw_eeglab(f\"{root}/{participant_id}/{session}/eeg/{participant_id}_{session}_task-{task}_eeg.set\").get_data()\n"
     ]
    },
    {
     "name": "stdout",
     "output_type": "stream",
     "text": [
      "For participant sub-57, the file sub-57_ses-1_task-eyesclosed_eeg.set was not found\n",
      "Reading c:\\Users\\beama\\Documents\\2024-2-P1-sleep-deprivation-classification\\notebooks\\..\\data\\ds004902-download\\sub-57\\ses-2\\eeg\\sub-57_ses-2_task-eyesopen_eeg.fdt\n"
     ]
    },
    {
     "name": "stderr",
     "output_type": "stream",
     "text": [
      "C:\\Users\\beama\\AppData\\Local\\Temp\\ipykernel_11748\\1019483413.py:3: RuntimeWarning: The data contains 'boundary' events, indicating data discontinuities. Be cautious of filtering and epoching around these events.\n",
      "  aux_eeg = mne.io.read_raw_eeglab(f\"{root}/{participant_id}/{session}/eeg/{participant_id}_{session}_task-{task}_eeg.set\").get_data()\n"
     ]
    },
    {
     "name": "stdout",
     "output_type": "stream",
     "text": [
      "For participant sub-57, the file sub-57_ses-2_task-eyesclosed_eeg.set was not found\n",
      "Reading c:\\Users\\beama\\Documents\\2024-2-P1-sleep-deprivation-classification\\notebooks\\..\\data\\ds004902-download\\sub-58\\ses-1\\eeg\\sub-58_ses-1_task-eyesopen_eeg.fdt\n",
      "For participant sub-58, the file sub-58_ses-1_task-eyesclosed_eeg.set was not found\n",
      "Reading c:\\Users\\beama\\Documents\\2024-2-P1-sleep-deprivation-classification\\notebooks\\..\\data\\ds004902-download\\sub-58\\ses-2\\eeg\\sub-58_ses-2_task-eyesopen_eeg.fdt\n"
     ]
    },
    {
     "name": "stderr",
     "output_type": "stream",
     "text": [
      "C:\\Users\\beama\\AppData\\Local\\Temp\\ipykernel_11748\\1019483413.py:3: RuntimeWarning: The data contains 'boundary' events, indicating data discontinuities. Be cautious of filtering and epoching around these events.\n",
      "  aux_eeg = mne.io.read_raw_eeglab(f\"{root}/{participant_id}/{session}/eeg/{participant_id}_{session}_task-{task}_eeg.set\").get_data()\n"
     ]
    },
    {
     "name": "stdout",
     "output_type": "stream",
     "text": [
      "For participant sub-58, the file sub-58_ses-2_task-eyesclosed_eeg.set was not found\n",
      "Reading c:\\Users\\beama\\Documents\\2024-2-P1-sleep-deprivation-classification\\notebooks\\..\\data\\ds004902-download\\sub-59\\ses-1\\eeg\\sub-59_ses-1_task-eyesopen_eeg.fdt\n",
      "For participant sub-59, the file sub-59_ses-1_task-eyesclosed_eeg.set was not found\n",
      "Reading c:\\Users\\beama\\Documents\\2024-2-P1-sleep-deprivation-classification\\notebooks\\..\\data\\ds004902-download\\sub-59\\ses-2\\eeg\\sub-59_ses-2_task-eyesopen_eeg.fdt\n"
     ]
    },
    {
     "name": "stderr",
     "output_type": "stream",
     "text": [
      "C:\\Users\\beama\\AppData\\Local\\Temp\\ipykernel_11748\\1019483413.py:3: RuntimeWarning: The data contains 'boundary' events, indicating data discontinuities. Be cautious of filtering and epoching around these events.\n",
      "  aux_eeg = mne.io.read_raw_eeglab(f\"{root}/{participant_id}/{session}/eeg/{participant_id}_{session}_task-{task}_eeg.set\").get_data()\n"
     ]
    },
    {
     "name": "stdout",
     "output_type": "stream",
     "text": [
      "For participant sub-59, the file sub-59_ses-2_task-eyesclosed_eeg.set was not found\n",
      "Reading c:\\Users\\beama\\Documents\\2024-2-P1-sleep-deprivation-classification\\notebooks\\..\\data\\ds004902-download\\sub-60\\ses-1\\eeg\\sub-60_ses-1_task-eyesopen_eeg.fdt\n"
     ]
    },
    {
     "name": "stderr",
     "output_type": "stream",
     "text": [
      "C:\\Users\\beama\\AppData\\Local\\Temp\\ipykernel_11748\\1019483413.py:3: RuntimeWarning: The data contains 'boundary' events, indicating data discontinuities. Be cautious of filtering and epoching around these events.\n",
      "  aux_eeg = mne.io.read_raw_eeglab(f\"{root}/{participant_id}/{session}/eeg/{participant_id}_{session}_task-{task}_eeg.set\").get_data()\n"
     ]
    },
    {
     "name": "stdout",
     "output_type": "stream",
     "text": [
      "For participant sub-60, the file sub-60_ses-1_task-eyesclosed_eeg.set was not found\n",
      "Reading c:\\Users\\beama\\Documents\\2024-2-P1-sleep-deprivation-classification\\notebooks\\..\\data\\ds004902-download\\sub-60\\ses-2\\eeg\\sub-60_ses-2_task-eyesopen_eeg.fdt\n",
      "For participant sub-60, the file sub-60_ses-2_task-eyesclosed_eeg.set was not found\n",
      "Reading c:\\Users\\beama\\Documents\\2024-2-P1-sleep-deprivation-classification\\notebooks\\..\\data\\ds004902-download\\sub-61\\ses-1\\eeg\\sub-61_ses-1_task-eyesopen_eeg.fdt\n",
      "For participant sub-61, the file sub-61_ses-1_task-eyesclosed_eeg.set was not found\n",
      "Reading c:\\Users\\beama\\Documents\\2024-2-P1-sleep-deprivation-classification\\notebooks\\..\\data\\ds004902-download\\sub-61\\ses-2\\eeg\\sub-61_ses-2_task-eyesopen_eeg.fdt\n",
      "For participant sub-61, the file sub-61_ses-2_task-eyesclosed_eeg.set was not found\n",
      "Reading c:\\Users\\beama\\Documents\\2024-2-P1-sleep-deprivation-classification\\notebooks\\..\\data\\ds004902-download\\sub-62\\ses-1\\eeg\\sub-62_ses-1_task-eyesopen_eeg.fdt\n",
      "For participant sub-62, the file sub-62_ses-1_task-eyesclosed_eeg.set was not found\n",
      "Reading c:\\Users\\beama\\Documents\\2024-2-P1-sleep-deprivation-classification\\notebooks\\..\\data\\ds004902-download\\sub-62\\ses-2\\eeg\\sub-62_ses-2_task-eyesopen_eeg.fdt\n"
     ]
    },
    {
     "name": "stderr",
     "output_type": "stream",
     "text": [
      "C:\\Users\\beama\\AppData\\Local\\Temp\\ipykernel_11748\\1019483413.py:3: RuntimeWarning: The data contains 'boundary' events, indicating data discontinuities. Be cautious of filtering and epoching around these events.\n",
      "  aux_eeg = mne.io.read_raw_eeglab(f\"{root}/{participant_id}/{session}/eeg/{participant_id}_{session}_task-{task}_eeg.set\").get_data()\n"
     ]
    },
    {
     "name": "stdout",
     "output_type": "stream",
     "text": [
      "For participant sub-62, the file sub-62_ses-2_task-eyesclosed_eeg.set was not found\n",
      "Reading c:\\Users\\beama\\Documents\\2024-2-P1-sleep-deprivation-classification\\notebooks\\..\\data\\ds004902-download\\sub-63\\ses-1\\eeg\\sub-63_ses-1_task-eyesopen_eeg.fdt\n",
      "For participant sub-63, the file sub-63_ses-1_task-eyesclosed_eeg.set was not found\n",
      "Reading c:\\Users\\beama\\Documents\\2024-2-P1-sleep-deprivation-classification\\notebooks\\..\\data\\ds004902-download\\sub-63\\ses-2\\eeg\\sub-63_ses-2_task-eyesopen_eeg.fdt\n",
      "For participant sub-63, the file sub-63_ses-2_task-eyesclosed_eeg.set was not found\n",
      "Reading c:\\Users\\beama\\Documents\\2024-2-P1-sleep-deprivation-classification\\notebooks\\..\\data\\ds004902-download\\sub-64\\ses-1\\eeg\\sub-64_ses-1_task-eyesopen_eeg.fdt\n",
      "For participant sub-64, the file sub-64_ses-1_task-eyesclosed_eeg.set was not found\n",
      "Reading c:\\Users\\beama\\Documents\\2024-2-P1-sleep-deprivation-classification\\notebooks\\..\\data\\ds004902-download\\sub-64\\ses-2\\eeg\\sub-64_ses-2_task-eyesopen_eeg.fdt\n",
      "For participant sub-64, the file sub-64_ses-2_task-eyesclosed_eeg.set was not found\n",
      "Reading c:\\Users\\beama\\Documents\\2024-2-P1-sleep-deprivation-classification\\notebooks\\..\\data\\ds004902-download\\sub-65\\ses-1\\eeg\\sub-65_ses-1_task-eyesopen_eeg.fdt\n",
      "For participant sub-65, the file sub-65_ses-1_task-eyesclosed_eeg.set was not found\n",
      "Reading c:\\Users\\beama\\Documents\\2024-2-P1-sleep-deprivation-classification\\notebooks\\..\\data\\ds004902-download\\sub-65\\ses-2\\eeg\\sub-65_ses-2_task-eyesopen_eeg.fdt\n"
     ]
    },
    {
     "name": "stderr",
     "output_type": "stream",
     "text": [
      "C:\\Users\\beama\\AppData\\Local\\Temp\\ipykernel_11748\\1019483413.py:3: RuntimeWarning: The data contains 'boundary' events, indicating data discontinuities. Be cautious of filtering and epoching around these events.\n",
      "  aux_eeg = mne.io.read_raw_eeglab(f\"{root}/{participant_id}/{session}/eeg/{participant_id}_{session}_task-{task}_eeg.set\").get_data()\n"
     ]
    },
    {
     "name": "stdout",
     "output_type": "stream",
     "text": [
      "For participant sub-65, the file sub-65_ses-2_task-eyesclosed_eeg.set was not found\n",
      "Reading c:\\Users\\beama\\Documents\\2024-2-P1-sleep-deprivation-classification\\notebooks\\..\\data\\ds004902-download\\sub-66\\ses-1\\eeg\\sub-66_ses-1_task-eyesopen_eeg.fdt\n",
      "For participant sub-66, the file sub-66_ses-1_task-eyesclosed_eeg.set was not found\n",
      "Reading c:\\Users\\beama\\Documents\\2024-2-P1-sleep-deprivation-classification\\notebooks\\..\\data\\ds004902-download\\sub-66\\ses-2\\eeg\\sub-66_ses-2_task-eyesopen_eeg.fdt\n",
      "For participant sub-66, the file sub-66_ses-2_task-eyesclosed_eeg.set was not found\n",
      "Reading c:\\Users\\beama\\Documents\\2024-2-P1-sleep-deprivation-classification\\notebooks\\..\\data\\ds004902-download\\sub-67\\ses-1\\eeg\\sub-67_ses-1_task-eyesopen_eeg.fdt\n",
      "For participant sub-67, the file sub-67_ses-1_task-eyesclosed_eeg.set was not found\n",
      "Reading c:\\Users\\beama\\Documents\\2024-2-P1-sleep-deprivation-classification\\notebooks\\..\\data\\ds004902-download\\sub-67\\ses-2\\eeg\\sub-67_ses-2_task-eyesopen_eeg.fdt\n",
      "For participant sub-67, the file sub-67_ses-2_task-eyesclosed_eeg.set was not found\n",
      "Reading c:\\Users\\beama\\Documents\\2024-2-P1-sleep-deprivation-classification\\notebooks\\..\\data\\ds004902-download\\sub-68\\ses-1\\eeg\\sub-68_ses-1_task-eyesopen_eeg.fdt\n",
      "For participant sub-68, the file sub-68_ses-1_task-eyesclosed_eeg.set was not found\n",
      "Reading c:\\Users\\beama\\Documents\\2024-2-P1-sleep-deprivation-classification\\notebooks\\..\\data\\ds004902-download\\sub-68\\ses-2\\eeg\\sub-68_ses-2_task-eyesopen_eeg.fdt\n",
      "For participant sub-68, the file sub-68_ses-2_task-eyesclosed_eeg.set was not found\n",
      "Reading c:\\Users\\beama\\Documents\\2024-2-P1-sleep-deprivation-classification\\notebooks\\..\\data\\ds004902-download\\sub-69\\ses-1\\eeg\\sub-69_ses-1_task-eyesopen_eeg.fdt\n",
      "For participant sub-69, the file sub-69_ses-1_task-eyesclosed_eeg.set was not found\n",
      "Reading c:\\Users\\beama\\Documents\\2024-2-P1-sleep-deprivation-classification\\notebooks\\..\\data\\ds004902-download\\sub-69\\ses-2\\eeg\\sub-69_ses-2_task-eyesopen_eeg.fdt\n",
      "For participant sub-69, the file sub-69_ses-2_task-eyesclosed_eeg.set was not found\n",
      "Reading c:\\Users\\beama\\Documents\\2024-2-P1-sleep-deprivation-classification\\notebooks\\..\\data\\ds004902-download\\sub-70\\ses-1\\eeg\\sub-70_ses-1_task-eyesopen_eeg.fdt\n",
      "For participant sub-70, the file sub-70_ses-1_task-eyesclosed_eeg.set was not found\n",
      "Reading c:\\Users\\beama\\Documents\\2024-2-P1-sleep-deprivation-classification\\notebooks\\..\\data\\ds004902-download\\sub-70\\ses-2\\eeg\\sub-70_ses-2_task-eyesopen_eeg.fdt\n",
      "For participant sub-70, the file sub-70_ses-2_task-eyesclosed_eeg.set was not found\n",
      "Reading c:\\Users\\beama\\Documents\\2024-2-P1-sleep-deprivation-classification\\notebooks\\..\\data\\ds004902-download\\sub-71\\ses-1\\eeg\\sub-71_ses-1_task-eyesopen_eeg.fdt\n",
      "For participant sub-71, the file sub-71_ses-1_task-eyesclosed_eeg.set was not found\n",
      "Reading c:\\Users\\beama\\Documents\\2024-2-P1-sleep-deprivation-classification\\notebooks\\..\\data\\ds004902-download\\sub-71\\ses-2\\eeg\\sub-71_ses-2_task-eyesopen_eeg.fdt\n",
      "For participant sub-71, the file sub-71_ses-2_task-eyesclosed_eeg.set was not found\n"
     ]
    }
   ],
   "source": [
    "def load_raw_eeg(example, root, participant_id, session, task, class_label):\n",
    "    try:\n",
    "        aux_eeg = mne.io.read_raw_eeglab(f\"{root}/{participant_id}/{session}/eeg/{participant_id}_{session}_task-{task}_eeg.set\").get_data()\n",
    "\n",
    "        if class_label:\n",
    "            example[f\"{task}_sd\"] = aux_eeg\n",
    "        else:\n",
    "            example[f\"{task}_ns\"] = aux_eeg \n",
    "    \n",
    "    except FileNotFoundError:\n",
    "        print(f\"For participant {participant_id}, the file {participant_id}_{session}_task-{task}_eeg.set was not found\")\n",
    "\n",
    "    except RuntimeError as e:\n",
    "        print(f\"Error loading participant {participant_id} with session {session} and task {task}: {e}\")\n",
    "\n",
    "    return example\n",
    "\n",
    "data_examples = []\n",
    "for participant_id, ses_1, ses_2 in zip(session_order['participant_id'], session_order['ses-1'], session_order['ses-2']):\n",
    "    example = dict()\n",
    "    example = load_raw_eeg(example, DATA_ROOT, participant_id, 'ses-1', 'eyesopen', ses_1)\n",
    "    example = load_raw_eeg(example, DATA_ROOT, participant_id, 'ses-1', 'eyesclosed', ses_1)\n",
    "    example = load_raw_eeg(example, DATA_ROOT, participant_id, 'ses-2', 'eyesopen', ses_2)\n",
    "    example = load_raw_eeg(example, DATA_ROOT, participant_id, 'ses-2', 'eyesclosed', ses_2)\n",
    "\n",
    "    data_examples.append(example)"
   ]
  },
  {
   "cell_type": "code",
   "execution_count": 15,
   "metadata": {},
   "outputs": [
    {
     "data": {
      "text/plain": [
       "{'open_sd': 70, 'open_ns': 68, 'closed_sd': 36, 'closed_ns': 38}"
      ]
     },
     "execution_count": 15,
     "metadata": {},
     "output_type": "execute_result"
    }
   ],
   "source": [
    "sum_type = {\"open_sd\": 0, \"open_ns\": 0, \"closed_sd\": 0, \"closed_ns\": 0}\n",
    "for example in data_examples:\n",
    "    if \"eyesopen_sd\" in example:\n",
    "        sum_type[\"open_sd\"] += 1\n",
    "    if \"eyesopen_ns\" in example:\n",
    "        sum_type[\"open_ns\"] += 1\n",
    "    if \"eyesclosed_sd\" in example:\n",
    "        sum_type[\"closed_sd\"] += 1\n",
    "    if \"eyesclosed_ns\" in example:\n",
    "        sum_type[\"closed_ns\"] += 1\n",
    "\n",
    "sum_type"
   ]
  },
  {
   "cell_type": "code",
   "execution_count": 16,
   "metadata": {},
   "outputs": [],
   "source": [
    "import matplotlib.pyplot as plt"
   ]
  },
  {
   "cell_type": "code",
   "execution_count": 17,
   "metadata": {},
   "outputs": [
    {
     "data": {
      "image/png": "[encoded data removed]",
      "text/plain": [
       "<Figure size 640x480 with 1 Axes>"
      ]
     },
     "metadata": {},
     "output_type": "display_data"
    }
   ],
   "source": [
    "# plot the number of type of data\n",
    "plt.barh(sum_type.keys(), sum_type.values(),)\n",
    "plt.title(\"Number of data per type and session\")\n",
    "plt.xlabel(\"Number of data\")\n",
    "plt.ylabel(\"Type of data\")\n",
    "\n",
    "# list of yticks\n",
    "yticks = [\"Open Eyes Sleep Dep\", \"Open Eyes Normal Sleep\", \"Closed Eyes Sleep Dep\", \"Closed Eyes Normal Sleep\"]\n",
    "plt.yticks(range(4), yticks)\n",
    "\n",
    "for i, v in enumerate((sum_type.values())):\n",
    "    plt.text(v+0.30, i, str(round(v, 2)), color='black', va=\"center\")\n",
    "\n",
    "plt.show()"
   ]
  },
  {
   "cell_type": "markdown",
   "metadata": {},
   "source": [
    "Some datas seemed either corrupeted or had bad compatibility with EEG. When loading a few of the examples on Mathlab EEGLAB, there was a warning that was displayed, however data was portraited. There could be some type of data corruption but that mathlab is prepared to deal with, while MNE is not."
   ]
  },
  {
   "cell_type": "code",
   "execution_count": 18,
   "metadata": {},
   "outputs": [],
   "source": [
    "from sklearn.model_selection import train_test_split, StratifiedKFold, KFold"
   ]
  },
  {
   "cell_type": "code",
   "execution_count": 19,
   "metadata": {},
   "outputs": [],
   "source": [
    "class LoadData:\n",
    "    def __init__(self, root, experiment_type: int, test_size: float = 0.2, random_state: int = 42, k_folds: int = 5):\n",
    "        \"\"\"\n",
    "        ROOT: path to the root directory of the dataset\n",
    "\n",
    "        Experiment type:\n",
    "            1: Eyes Closed\n",
    "            2: Eyes open\n",
    "            3: Both\n",
    "        \"\"\"\n",
    "        self.DATA_ROOT = root\n",
    "        self.PARTICIPANTS_TSV = f'{self.DATA_ROOT}/participants.tsv'\n",
    "        self.experiment_type = experiment_type\n",
    "\n",
    "        # get class labels\n",
    "        self.raw_labels = self.get_classes()\n",
    "        self.labels = []\n",
    "\n",
    "        # create data examples\n",
    "        self.raw_data = []\n",
    "        self.data = []\n",
    "        self._create_eeg_objects()\n",
    "\n",
    "        # holdout information\n",
    "        self.test_size = test_size\n",
    "        self.random_state = random_state\n",
    "\n",
    "        # cross-validation information\n",
    "        self.k_folds = k_folds\n",
    "        self.split_participants = []\n",
    "\n",
    "        # train and test data\n",
    "        self.test = None\n",
    "        self.train = None\n",
    "\n",
    "        # split data\n",
    "        self._cross_validation()\n",
    "    \n",
    "\n",
    "    def get_classes(self):\n",
    "        participant_df = pd.read_csv(self.PARTICIPANTS_TSV, sep='\\t')\n",
    "        session_order = participant_df[['participant_id', 'SessionOrder']]\n",
    "\n",
    "        # create ses-1 column based on the first two characters of the session order\n",
    "        session_order['ses-1'] = session_order['SessionOrder'].str[:2]\n",
    "        session_order['ses-2'] = session_order['SessionOrder'].str[4:]\n",
    "\n",
    "        session_order = session_order.drop(columns=['SessionOrder'])\n",
    "\n",
    "        session_order['ses-1'] = session_order['ses-1'].apply(lambda x: 1 if x == 'SD' else 0)\n",
    "        session_order['ses-2'] = session_order['ses-2'].apply(lambda x: 1 if x == 'SD' else 0)\n",
    "\n",
    "        return session_order\n",
    "    \n",
    "    def _create_eeg_objects(self): \n",
    "        def load_raw_eeg(example, root, participant_id, session, task, class_label):\n",
    "            try:\n",
    "                aux_eeg = mne.io.read_raw_eeglab(f\"{root}/{participant_id}/{session}/eeg/{participant_id}_{session}_task-{task}_eeg.set\").get_data()\n",
    "                if class_label:\n",
    "                    example[f\"{task}_sd\"] = (aux_eeg, class_label)\n",
    "                else:\n",
    "                    example[f\"{task}_ns\"] = (aux_eeg, class_label)\n",
    "            except FileNotFoundError:\n",
    "                print(f\"For participant {participant_id}, the file {participant_id}_{session}_task-{task}_eeg.set was not found\")\n",
    "                aux_eeg = None\n",
    "            except RuntimeError as e:\n",
    "                print(f\"Error loading participant {participant_id} with session {session} and task {task}: {e}\")\n",
    "                aux_eeg = None\n",
    "\n",
    "            return example\n",
    "\n",
    "\n",
    "        for participant_id, ses_1, ses_2 in zip(session_order['participant_id'], session_order['ses-1'], session_order['ses-2']):\n",
    "            example = dict()\n",
    "            if self.experiment_type == 1:\n",
    "                example = load_raw_eeg(example, DATA_ROOT, participant_id, 'ses-1', 'eyesclosed', ses_1)\n",
    "                example = load_raw_eeg(example, DATA_ROOT, participant_id, 'ses-2', 'eyesclosed', ses_2)\n",
    "            elif self.experiment_type == 2:\n",
    "                example = load_raw_eeg(example, DATA_ROOT, participant_id, 'ses-1', 'eyesopen', ses_1)\n",
    "                example = load_raw_eeg(example, DATA_ROOT, participant_id, 'ses-2', 'eyesopen', ses_2)\n",
    "            else:\n",
    "                example = load_raw_eeg(example, DATA_ROOT, participant_id, 'ses-1', 'eyesclosed', ses_1)\n",
    "                example = load_raw_eeg(example, DATA_ROOT, participant_id, 'ses-2', 'eyesclosed', ses_2)\n",
    "                example = load_raw_eeg(example, DATA_ROOT, participant_id, 'ses-1', 'eyesopen', ses_1)\n",
    "                example = load_raw_eeg(example, DATA_ROOT, participant_id, 'ses-2', 'eyesopen', ses_2)\n",
    "\n",
    "            if len(example.keys()):\n",
    "                print(example.keys())\n",
    "                example['participant_id'] = participant_id\n",
    "\n",
    "            self.raw_data.append(example) if example.keys() else None\n",
    "        \n",
    "        self.raw_data = np.array(self.raw_data)  \n",
    "\n",
    "\n",
    "    def _holdout(self, participant_id):\n",
    "        X_train, X_test, y_train, y_test = train_test_split(self.raw_data, participant_id, test_size=self.test_size, random_state=self.random_state)\n",
    "        return X_train, X_test, y_train, y_test\n",
    "\n",
    "    def _cross_validation(self):\n",
    "        participant_id = np.array([x['participant_id'] for x in self.raw_data])\n",
    "        X_train, _, y_train, y_test_id = self._holdout(participant_id)\n",
    "\n",
    "        skf = KFold(n_splits=self.k_folds)\n",
    "        self.split_participants = list(skf.split(y_train))\n",
    "\n",
    "        X_test = np.array([self.raw_data[i][col][0] for i in y_test_id for col in self.raw_data[i].keys() if col != 'participant_id'])\n",
    "        y_test = np.array([self.raw_data[i][col][1] for i in y_test_id for col in self.raw_data[i].keys() if col != 'participant_id'])\n",
    "\n",
    "        self.test = (X_test, y_test)\n",
    "\n",
    "    def get_split_data(self, split):\n",
    "        split_ids = self.split_participants[split]\n",
    "        train_ids, test_ids = split_ids\n",
    "\n",
    "        pass\n",
    "\n",
    "        return self.split_participants\n",
    "\n",
    "    def __len__(self):\n",
    "        return len(self.data)\n",
    "    \n"
   ]
  },
  {
   "cell_type": "code",
   "execution_count": 20,
   "metadata": {},
   "outputs": [
    {
     "name": "stdout",
     "output_type": "stream",
     "text": [
      "Reading c:\\Users\\beama\\Documents\\2024-2-P1-sleep-deprivation-classification\\notebooks\\..\\data\\ds004902-download\\sub-01\\ses-1\\eeg\\sub-01_ses-1_task-eyesclosed_eeg.fdt\n"
     ]
    },
    {
     "name": "stderr",
     "output_type": "stream",
     "text": [
      "C:\\Users\\beama\\AppData\\Local\\Temp\\ipykernel_11748\\389866602.py:45: SettingWithCopyWarning: \n",
      "A value is trying to be set on a copy of a slice from a DataFrame.\n",
      "Try using .loc[row_indexer,col_indexer] = value instead\n",
      "\n",
      "See the caveats in the documentation: https://pandas.pydata.org/pandas-docs/stable/user_guide/indexing.html#returning-a-view-versus-a-copy\n",
      "  session_order['ses-1'] = session_order['SessionOrder'].str[:2]\n",
      "C:\\Users\\beama\\AppData\\Local\\Temp\\ipykernel_11748\\389866602.py:46: SettingWithCopyWarning: \n",
      "A value is trying to be set on a copy of a slice from a DataFrame.\n",
      "Try using .loc[row_indexer,col_indexer] = value instead\n",
      "\n",
      "See the caveats in the documentation: https://pandas.pydata.org/pandas-docs/stable/user_guide/indexing.html#returning-a-view-versus-a-copy\n",
      "  session_order['ses-2'] = session_order['SessionOrder'].str[4:]\n"
     ]
    },
    {
     "name": "stdout",
     "output_type": "stream",
     "text": [
      "Reading c:\\Users\\beama\\Documents\\2024-2-P1-sleep-deprivation-classification\\notebooks\\..\\data\\ds004902-download\\sub-01\\ses-2\\eeg\\sub-01_ses-2_task-eyesclosed_eeg.fdt\n",
      "dict_keys(['eyesclosed_ns', 'eyesclosed_sd'])\n",
      "Reading c:\\Users\\beama\\Documents\\2024-2-P1-sleep-deprivation-classification\\notebooks\\..\\data\\ds004902-download\\sub-02\\ses-1\\eeg\\sub-02_ses-1_task-eyesclosed_eeg.fdt\n",
      "Reading c:\\Users\\beama\\Documents\\2024-2-P1-sleep-deprivation-classification\\notebooks\\..\\data\\ds004902-download\\sub-02\\ses-2\\eeg\\sub-02_ses-2_task-eyesclosed_eeg.fdt\n",
      "dict_keys(['eyesclosed_ns', 'eyesclosed_sd'])\n",
      "Reading c:\\Users\\beama\\Documents\\2024-2-P1-sleep-deprivation-classification\\notebooks\\..\\data\\ds004902-download\\sub-03\\ses-1\\eeg\\sub-03_ses-1_task-eyesclosed_eeg.fdt\n",
      "Reading c:\\Users\\beama\\Documents\\2024-2-P1-sleep-deprivation-classification\\notebooks\\..\\data\\ds004902-download\\sub-03\\ses-2\\eeg\\sub-03_ses-2_task-eyesclosed_eeg.fdt\n",
      "Error loading participant sub-03 with session ses-2 and task eyesclosed: Incorrect number of samples (671375 != 9150000), please report this error to MNE-Python developers\n",
      "dict_keys(['eyesclosed_ns'])\n",
      "Reading c:\\Users\\beama\\Documents\\2024-2-P1-sleep-deprivation-classification\\notebooks\\..\\data\\ds004902-download\\sub-04\\ses-1\\eeg\\sub-04_ses-1_task-eyesclosed_eeg.fdt\n",
      "Reading c:\\Users\\beama\\Documents\\2024-2-P1-sleep-deprivation-classification\\notebooks\\..\\data\\ds004902-download\\sub-04\\ses-2\\eeg\\sub-04_ses-2_task-eyesclosed_eeg.fdt\n",
      "dict_keys(['eyesclosed_ns', 'eyesclosed_sd'])\n",
      "Reading c:\\Users\\beama\\Documents\\2024-2-P1-sleep-deprivation-classification\\notebooks\\..\\data\\ds004902-download\\sub-05\\ses-1\\eeg\\sub-05_ses-1_task-eyesclosed_eeg.fdt\n",
      "Reading c:\\Users\\beama\\Documents\\2024-2-P1-sleep-deprivation-classification\\notebooks\\..\\data\\ds004902-download\\sub-05\\ses-2\\eeg\\sub-05_ses-2_task-eyesclosed_eeg.fdt\n",
      "dict_keys(['eyesclosed_ns', 'eyesclosed_sd'])\n",
      "Reading c:\\Users\\beama\\Documents\\2024-2-P1-sleep-deprivation-classification\\notebooks\\..\\data\\ds004902-download\\sub-06\\ses-1\\eeg\\sub-06_ses-1_task-eyesclosed_eeg.fdt\n",
      "Reading c:\\Users\\beama\\Documents\\2024-2-P1-sleep-deprivation-classification\\notebooks\\..\\data\\ds004902-download\\sub-06\\ses-2\\eeg\\sub-06_ses-2_task-eyesclosed_eeg.fdt\n",
      "dict_keys(['eyesclosed_ns', 'eyesclosed_sd'])\n",
      "Reading c:\\Users\\beama\\Documents\\2024-2-P1-sleep-deprivation-classification\\notebooks\\..\\data\\ds004902-download\\sub-07\\ses-1\\eeg\\sub-07_ses-1_task-eyesclosed_eeg.fdt\n",
      "Reading c:\\Users\\beama\\Documents\\2024-2-P1-sleep-deprivation-classification\\notebooks\\..\\data\\ds004902-download\\sub-07\\ses-2\\eeg\\sub-07_ses-2_task-eyesclosed_eeg.fdt\n",
      "dict_keys(['eyesclosed_ns', 'eyesclosed_sd'])\n",
      "Reading c:\\Users\\beama\\Documents\\2024-2-P1-sleep-deprivation-classification\\notebooks\\..\\data\\ds004902-download\\sub-08\\ses-1\\eeg\\sub-08_ses-1_task-eyesclosed_eeg.fdt\n",
      "Reading c:\\Users\\beama\\Documents\\2024-2-P1-sleep-deprivation-classification\\notebooks\\..\\data\\ds004902-download\\sub-08\\ses-2\\eeg\\sub-08_ses-2_task-eyesclosed_eeg.fdt\n",
      "dict_keys(['eyesclosed_sd', 'eyesclosed_ns'])\n",
      "Reading c:\\Users\\beama\\Documents\\2024-2-P1-sleep-deprivation-classification\\notebooks\\..\\data\\ds004902-download\\sub-09\\ses-1\\eeg\\sub-09_ses-1_task-eyesclosed_eeg.fdt\n",
      "Reading c:\\Users\\beama\\Documents\\2024-2-P1-sleep-deprivation-classification\\notebooks\\..\\data\\ds004902-download\\sub-09\\ses-2\\eeg\\sub-09_ses-2_task-eyesclosed_eeg.fdt\n",
      "dict_keys(['eyesclosed_sd', 'eyesclosed_ns'])\n",
      "Reading c:\\Users\\beama\\Documents\\2024-2-P1-sleep-deprivation-classification\\notebooks\\..\\data\\ds004902-download\\sub-10\\ses-1\\eeg\\sub-10_ses-1_task-eyesclosed_eeg.fdt\n",
      "Reading c:\\Users\\beama\\Documents\\2024-2-P1-sleep-deprivation-classification\\notebooks\\..\\data\\ds004902-download\\sub-10\\ses-2\\eeg\\sub-10_ses-2_task-eyesclosed_eeg.fdt\n",
      "dict_keys(['eyesclosed_sd', 'eyesclosed_ns'])\n",
      "Reading c:\\Users\\beama\\Documents\\2024-2-P1-sleep-deprivation-classification\\notebooks\\..\\data\\ds004902-download\\sub-11\\ses-1\\eeg\\sub-11_ses-1_task-eyesclosed_eeg.fdt\n",
      "Reading c:\\Users\\beama\\Documents\\2024-2-P1-sleep-deprivation-classification\\notebooks\\..\\data\\ds004902-download\\sub-11\\ses-2\\eeg\\sub-11_ses-2_task-eyesclosed_eeg.fdt\n",
      "dict_keys(['eyesclosed_sd', 'eyesclosed_ns'])\n",
      "Reading c:\\Users\\beama\\Documents\\2024-2-P1-sleep-deprivation-classification\\notebooks\\..\\data\\ds004902-download\\sub-12\\ses-1\\eeg\\sub-12_ses-1_task-eyesclosed_eeg.fdt\n",
      "Reading c:\\Users\\beama\\Documents\\2024-2-P1-sleep-deprivation-classification\\notebooks\\..\\data\\ds004902-download\\sub-12\\ses-2\\eeg\\sub-12_ses-2_task-eyesclosed_eeg.fdt\n",
      "dict_keys(['eyesclosed_sd', 'eyesclosed_ns'])\n",
      "Reading c:\\Users\\beama\\Documents\\2024-2-P1-sleep-deprivation-classification\\notebooks\\..\\data\\ds004902-download\\sub-13\\ses-1\\eeg\\sub-13_ses-1_task-eyesclosed_eeg.fdt\n",
      "Reading c:\\Users\\beama\\Documents\\2024-2-P1-sleep-deprivation-classification\\notebooks\\..\\data\\ds004902-download\\sub-13\\ses-2\\eeg\\sub-13_ses-2_task-eyesclosed_eeg.fdt\n",
      "dict_keys(['eyesclosed_sd', 'eyesclosed_ns'])\n",
      "Reading c:\\Users\\beama\\Documents\\2024-2-P1-sleep-deprivation-classification\\notebooks\\..\\data\\ds004902-download\\sub-14\\ses-1\\eeg\\sub-14_ses-1_task-eyesclosed_eeg.fdt\n",
      "Reading c:\\Users\\beama\\Documents\\2024-2-P1-sleep-deprivation-classification\\notebooks\\..\\data\\ds004902-download\\sub-14\\ses-2\\eeg\\sub-14_ses-2_task-eyesclosed_eeg.fdt\n",
      "dict_keys(['eyesclosed_sd', 'eyesclosed_ns'])\n",
      "Reading c:\\Users\\beama\\Documents\\2024-2-P1-sleep-deprivation-classification\\notebooks\\..\\data\\ds004902-download\\sub-15\\ses-1\\eeg\\sub-15_ses-1_task-eyesclosed_eeg.fdt\n",
      "Reading c:\\Users\\beama\\Documents\\2024-2-P1-sleep-deprivation-classification\\notebooks\\..\\data\\ds004902-download\\sub-15\\ses-2\\eeg\\sub-15_ses-2_task-eyesclosed_eeg.fdt\n",
      "dict_keys(['eyesclosed_sd', 'eyesclosed_ns'])\n",
      "Reading c:\\Users\\beama\\Documents\\2024-2-P1-sleep-deprivation-classification\\notebooks\\..\\data\\ds004902-download\\sub-16\\ses-1\\eeg\\sub-16_ses-1_task-eyesclosed_eeg.fdt\n",
      "Reading c:\\Users\\beama\\Documents\\2024-2-P1-sleep-deprivation-classification\\notebooks\\..\\data\\ds004902-download\\sub-16\\ses-2\\eeg\\sub-16_ses-2_task-eyesclosed_eeg.fdt\n",
      "dict_keys(['eyesclosed_sd', 'eyesclosed_ns'])\n",
      "Reading c:\\Users\\beama\\Documents\\2024-2-P1-sleep-deprivation-classification\\notebooks\\..\\data\\ds004902-download\\sub-17\\ses-1\\eeg\\sub-17_ses-1_task-eyesclosed_eeg.fdt\n",
      "Reading c:\\Users\\beama\\Documents\\2024-2-P1-sleep-deprivation-classification\\notebooks\\..\\data\\ds004902-download\\sub-17\\ses-2\\eeg\\sub-17_ses-2_task-eyesclosed_eeg.fdt\n",
      "dict_keys(['eyesclosed_sd', 'eyesclosed_ns'])\n",
      "Reading c:\\Users\\beama\\Documents\\2024-2-P1-sleep-deprivation-classification\\notebooks\\..\\data\\ds004902-download\\sub-18\\ses-1\\eeg\\sub-18_ses-1_task-eyesclosed_eeg.fdt\n",
      "Reading c:\\Users\\beama\\Documents\\2024-2-P1-sleep-deprivation-classification\\notebooks\\..\\data\\ds004902-download\\sub-18\\ses-2\\eeg\\sub-18_ses-2_task-eyesclosed_eeg.fdt\n",
      "dict_keys(['eyesclosed_sd', 'eyesclosed_ns'])\n",
      "Reading c:\\Users\\beama\\Documents\\2024-2-P1-sleep-deprivation-classification\\notebooks\\..\\data\\ds004902-download\\sub-19\\ses-1\\eeg\\sub-19_ses-1_task-eyesclosed_eeg.fdt\n",
      "Reading c:\\Users\\beama\\Documents\\2024-2-P1-sleep-deprivation-classification\\notebooks\\..\\data\\ds004902-download\\sub-19\\ses-2\\eeg\\sub-19_ses-2_task-eyesclosed_eeg.fdt\n",
      "dict_keys(['eyesclosed_sd', 'eyesclosed_ns'])\n",
      "Reading c:\\Users\\beama\\Documents\\2024-2-P1-sleep-deprivation-classification\\notebooks\\..\\data\\ds004902-download\\sub-20\\ses-1\\eeg\\sub-20_ses-1_task-eyesclosed_eeg.fdt\n",
      "Reading c:\\Users\\beama\\Documents\\2024-2-P1-sleep-deprivation-classification\\notebooks\\..\\data\\ds004902-download\\sub-20\\ses-2\\eeg\\sub-20_ses-2_task-eyesclosed_eeg.fdt\n",
      "dict_keys(['eyesclosed_sd', 'eyesclosed_ns'])\n",
      "Reading c:\\Users\\beama\\Documents\\2024-2-P1-sleep-deprivation-classification\\notebooks\\..\\data\\ds004902-download\\sub-21\\ses-1\\eeg\\sub-21_ses-1_task-eyesclosed_eeg.fdt\n",
      "Reading c:\\Users\\beama\\Documents\\2024-2-P1-sleep-deprivation-classification\\notebooks\\..\\data\\ds004902-download\\sub-21\\ses-2\\eeg\\sub-21_ses-2_task-eyesclosed_eeg.fdt\n",
      "dict_keys(['eyesclosed_sd', 'eyesclosed_ns'])\n",
      "Reading c:\\Users\\beama\\Documents\\2024-2-P1-sleep-deprivation-classification\\notebooks\\..\\data\\ds004902-download\\sub-22\\ses-1\\eeg\\sub-22_ses-1_task-eyesclosed_eeg.fdt\n",
      "Reading c:\\Users\\beama\\Documents\\2024-2-P1-sleep-deprivation-classification\\notebooks\\..\\data\\ds004902-download\\sub-22\\ses-2\\eeg\\sub-22_ses-2_task-eyesclosed_eeg.fdt\n",
      "dict_keys(['eyesclosed_sd', 'eyesclosed_ns'])\n",
      "Reading c:\\Users\\beama\\Documents\\2024-2-P1-sleep-deprivation-classification\\notebooks\\..\\data\\ds004902-download\\sub-23\\ses-1\\eeg\\sub-23_ses-1_task-eyesclosed_eeg.fdt\n",
      "Reading c:\\Users\\beama\\Documents\\2024-2-P1-sleep-deprivation-classification\\notebooks\\..\\data\\ds004902-download\\sub-23\\ses-2\\eeg\\sub-23_ses-2_task-eyesclosed_eeg.fdt\n",
      "dict_keys(['eyesclosed_ns', 'eyesclosed_sd'])\n",
      "Reading c:\\Users\\beama\\Documents\\2024-2-P1-sleep-deprivation-classification\\notebooks\\..\\data\\ds004902-download\\sub-24\\ses-1\\eeg\\sub-24_ses-1_task-eyesclosed_eeg.fdt\n",
      "Reading c:\\Users\\beama\\Documents\\2024-2-P1-sleep-deprivation-classification\\notebooks\\..\\data\\ds004902-download\\sub-24\\ses-2\\eeg\\sub-24_ses-2_task-eyesclosed_eeg.fdt\n",
      "dict_keys(['eyesclosed_sd', 'eyesclosed_ns'])\n",
      "Reading c:\\Users\\beama\\Documents\\2024-2-P1-sleep-deprivation-classification\\notebooks\\..\\data\\ds004902-download\\sub-25\\ses-1\\eeg\\sub-25_ses-1_task-eyesclosed_eeg.fdt\n",
      "Reading c:\\Users\\beama\\Documents\\2024-2-P1-sleep-deprivation-classification\\notebooks\\..\\data\\ds004902-download\\sub-25\\ses-2\\eeg\\sub-25_ses-2_task-eyesclosed_eeg.fdt\n",
      "dict_keys(['eyesclosed_sd', 'eyesclosed_ns'])\n",
      "Reading c:\\Users\\beama\\Documents\\2024-2-P1-sleep-deprivation-classification\\notebooks\\..\\data\\ds004902-download\\sub-26\\ses-1\\eeg\\sub-26_ses-1_task-eyesclosed_eeg.fdt\n",
      "Reading c:\\Users\\beama\\Documents\\2024-2-P1-sleep-deprivation-classification\\notebooks\\..\\data\\ds004902-download\\sub-26\\ses-2\\eeg\\sub-26_ses-2_task-eyesclosed_eeg.fdt\n",
      "dict_keys(['eyesclosed_sd', 'eyesclosed_ns'])\n",
      "Reading c:\\Users\\beama\\Documents\\2024-2-P1-sleep-deprivation-classification\\notebooks\\..\\data\\ds004902-download\\sub-27\\ses-1\\eeg\\sub-27_ses-1_task-eyesclosed_eeg.fdt\n",
      "Reading c:\\Users\\beama\\Documents\\2024-2-P1-sleep-deprivation-classification\\notebooks\\..\\data\\ds004902-download\\sub-27\\ses-2\\eeg\\sub-27_ses-2_task-eyesclosed_eeg.fdt\n",
      "dict_keys(['eyesclosed_sd', 'eyesclosed_ns'])\n",
      "Reading c:\\Users\\beama\\Documents\\2024-2-P1-sleep-deprivation-classification\\notebooks\\..\\data\\ds004902-download\\sub-28\\ses-1\\eeg\\sub-28_ses-1_task-eyesclosed_eeg.fdt\n",
      "Error loading participant sub-28 with session ses-1 and task eyesclosed: Incorrect number of samples (7381031 != 9150000), please report this error to MNE-Python developers\n",
      "Reading c:\\Users\\beama\\Documents\\2024-2-P1-sleep-deprivation-classification\\notebooks\\..\\data\\ds004902-download\\sub-28\\ses-2\\eeg\\sub-28_ses-2_task-eyesclosed_eeg.fdt\n",
      "dict_keys(['eyesclosed_ns'])\n",
      "Reading c:\\Users\\beama\\Documents\\2024-2-P1-sleep-deprivation-classification\\notebooks\\..\\data\\ds004902-download\\sub-29\\ses-1\\eeg\\sub-29_ses-1_task-eyesclosed_eeg.fdt\n",
      "Reading c:\\Users\\beama\\Documents\\2024-2-P1-sleep-deprivation-classification\\notebooks\\..\\data\\ds004902-download\\sub-29\\ses-2\\eeg\\sub-29_ses-2_task-eyesclosed_eeg.fdt\n",
      "dict_keys(['eyesclosed_ns', 'eyesclosed_sd'])\n",
      "Reading c:\\Users\\beama\\Documents\\2024-2-P1-sleep-deprivation-classification\\notebooks\\..\\data\\ds004902-download\\sub-30\\ses-1\\eeg\\sub-30_ses-1_task-eyesclosed_eeg.fdt\n",
      "Reading c:\\Users\\beama\\Documents\\2024-2-P1-sleep-deprivation-classification\\notebooks\\..\\data\\ds004902-download\\sub-30\\ses-2\\eeg\\sub-30_ses-2_task-eyesclosed_eeg.fdt\n",
      "dict_keys(['eyesclosed_ns', 'eyesclosed_sd'])\n",
      "Reading c:\\Users\\beama\\Documents\\2024-2-P1-sleep-deprivation-classification\\notebooks\\..\\data\\ds004902-download\\sub-31\\ses-1\\eeg\\sub-31_ses-1_task-eyesclosed_eeg.fdt\n",
      "Reading c:\\Users\\beama\\Documents\\2024-2-P1-sleep-deprivation-classification\\notebooks\\..\\data\\ds004902-download\\sub-31\\ses-2\\eeg\\sub-31_ses-2_task-eyesclosed_eeg.fdt\n",
      "dict_keys(['eyesclosed_ns', 'eyesclosed_sd'])\n",
      "Reading c:\\Users\\beama\\Documents\\2024-2-P1-sleep-deprivation-classification\\notebooks\\..\\data\\ds004902-download\\sub-32\\ses-1\\eeg\\sub-32_ses-1_task-eyesclosed_eeg.fdt\n",
      "Reading c:\\Users\\beama\\Documents\\2024-2-P1-sleep-deprivation-classification\\notebooks\\..\\data\\ds004902-download\\sub-32\\ses-2\\eeg\\sub-32_ses-2_task-eyesclosed_eeg.fdt\n",
      "dict_keys(['eyesclosed_ns', 'eyesclosed_sd'])\n",
      "Reading c:\\Users\\beama\\Documents\\2024-2-P1-sleep-deprivation-classification\\notebooks\\..\\data\\ds004902-download\\sub-33\\ses-1\\eeg\\sub-33_ses-1_task-eyesclosed_eeg.fdt\n",
      "Reading c:\\Users\\beama\\Documents\\2024-2-P1-sleep-deprivation-classification\\notebooks\\..\\data\\ds004902-download\\sub-33\\ses-2\\eeg\\sub-33_ses-2_task-eyesclosed_eeg.fdt\n",
      "dict_keys(['eyesclosed_ns', 'eyesclosed_sd'])\n",
      "Reading c:\\Users\\beama\\Documents\\2024-2-P1-sleep-deprivation-classification\\notebooks\\..\\data\\ds004902-download\\sub-34\\ses-1\\eeg\\sub-34_ses-1_task-eyesclosed_eeg.fdt\n",
      "Reading c:\\Users\\beama\\Documents\\2024-2-P1-sleep-deprivation-classification\\notebooks\\..\\data\\ds004902-download\\sub-34\\ses-2\\eeg\\sub-34_ses-2_task-eyesclosed_eeg.fdt\n",
      "dict_keys(['eyesclosed_ns', 'eyesclosed_sd'])\n",
      "Reading c:\\Users\\beama\\Documents\\2024-2-P1-sleep-deprivation-classification\\notebooks\\..\\data\\ds004902-download\\sub-35\\ses-1\\eeg\\sub-35_ses-1_task-eyesclosed_eeg.fdt\n",
      "Reading c:\\Users\\beama\\Documents\\2024-2-P1-sleep-deprivation-classification\\notebooks\\..\\data\\ds004902-download\\sub-35\\ses-2\\eeg\\sub-35_ses-2_task-eyesclosed_eeg.fdt\n",
      "dict_keys(['eyesclosed_ns', 'eyesclosed_sd'])\n",
      "Reading c:\\Users\\beama\\Documents\\2024-2-P1-sleep-deprivation-classification\\notebooks\\..\\data\\ds004902-download\\sub-36\\ses-1\\eeg\\sub-36_ses-1_task-eyesclosed_eeg.fdt\n",
      "Reading c:\\Users\\beama\\Documents\\2024-2-P1-sleep-deprivation-classification\\notebooks\\..\\data\\ds004902-download\\sub-36\\ses-2\\eeg\\sub-36_ses-2_task-eyesclosed_eeg.fdt\n",
      "dict_keys(['eyesclosed_ns', 'eyesclosed_sd'])\n",
      "Reading c:\\Users\\beama\\Documents\\2024-2-P1-sleep-deprivation-classification\\notebooks\\..\\data\\ds004902-download\\sub-37\\ses-1\\eeg\\sub-37_ses-1_task-eyesclosed_eeg.fdt\n",
      "Reading c:\\Users\\beama\\Documents\\2024-2-P1-sleep-deprivation-classification\\notebooks\\..\\data\\ds004902-download\\sub-37\\ses-2\\eeg\\sub-37_ses-2_task-eyesclosed_eeg.fdt\n",
      "dict_keys(['eyesclosed_ns', 'eyesclosed_sd'])\n",
      "Reading c:\\Users\\beama\\Documents\\2024-2-P1-sleep-deprivation-classification\\notebooks\\..\\data\\ds004902-download\\sub-38\\ses-1\\eeg\\sub-38_ses-1_task-eyesclosed_eeg.fdt\n",
      "Reading c:\\Users\\beama\\Documents\\2024-2-P1-sleep-deprivation-classification\\notebooks\\..\\data\\ds004902-download\\sub-38\\ses-2\\eeg\\sub-38_ses-2_task-eyesclosed_eeg.fdt\n",
      "dict_keys(['eyesclosed_ns', 'eyesclosed_sd'])\n",
      "For participant sub-39, the file sub-39_ses-1_task-eyesclosed_eeg.set was not found\n",
      "For participant sub-39, the file sub-39_ses-2_task-eyesclosed_eeg.set was not found\n",
      "For participant sub-40, the file sub-40_ses-1_task-eyesclosed_eeg.set was not found\n",
      "For participant sub-40, the file sub-40_ses-2_task-eyesclosed_eeg.set was not found\n",
      "For participant sub-41, the file sub-41_ses-1_task-eyesclosed_eeg.set was not found\n",
      "For participant sub-41, the file sub-41_ses-2_task-eyesclosed_eeg.set was not found\n",
      "For participant sub-42, the file sub-42_ses-1_task-eyesclosed_eeg.set was not found\n",
      "For participant sub-42, the file sub-42_ses-2_task-eyesclosed_eeg.set was not found\n",
      "For participant sub-43, the file sub-43_ses-1_task-eyesclosed_eeg.set was not found\n",
      "For participant sub-43, the file sub-43_ses-2_task-eyesclosed_eeg.set was not found\n",
      "For participant sub-44, the file sub-44_ses-1_task-eyesclosed_eeg.set was not found\n",
      "For participant sub-44, the file sub-44_ses-2_task-eyesclosed_eeg.set was not found\n",
      "For participant sub-45, the file sub-45_ses-1_task-eyesclosed_eeg.set was not found\n",
      "For participant sub-45, the file sub-45_ses-2_task-eyesclosed_eeg.set was not found\n",
      "For participant sub-46, the file sub-46_ses-1_task-eyesclosed_eeg.set was not found\n",
      "For participant sub-46, the file sub-46_ses-2_task-eyesclosed_eeg.set was not found\n",
      "For participant sub-47, the file sub-47_ses-1_task-eyesclosed_eeg.set was not found\n",
      "For participant sub-47, the file sub-47_ses-2_task-eyesclosed_eeg.set was not found\n",
      "For participant sub-48, the file sub-48_ses-1_task-eyesclosed_eeg.set was not found\n",
      "For participant sub-48, the file sub-48_ses-2_task-eyesclosed_eeg.set was not found\n",
      "For participant sub-49, the file sub-49_ses-1_task-eyesclosed_eeg.set was not found\n",
      "For participant sub-49, the file sub-49_ses-2_task-eyesclosed_eeg.set was not found\n",
      "For participant sub-50, the file sub-50_ses-1_task-eyesclosed_eeg.set was not found\n",
      "For participant sub-50, the file sub-50_ses-2_task-eyesclosed_eeg.set was not found\n",
      "For participant sub-51, the file sub-51_ses-1_task-eyesclosed_eeg.set was not found\n",
      "For participant sub-51, the file sub-51_ses-2_task-eyesclosed_eeg.set was not found\n",
      "For participant sub-52, the file sub-52_ses-1_task-eyesclosed_eeg.set was not found\n",
      "For participant sub-52, the file sub-52_ses-2_task-eyesclosed_eeg.set was not found\n",
      "For participant sub-53, the file sub-53_ses-1_task-eyesclosed_eeg.set was not found\n",
      "For participant sub-53, the file sub-53_ses-2_task-eyesclosed_eeg.set was not found\n",
      "For participant sub-54, the file sub-54_ses-1_task-eyesclosed_eeg.set was not found\n",
      "For participant sub-54, the file sub-54_ses-2_task-eyesclosed_eeg.set was not found\n",
      "For participant sub-55, the file sub-55_ses-1_task-eyesclosed_eeg.set was not found\n",
      "For participant sub-55, the file sub-55_ses-2_task-eyesclosed_eeg.set was not found\n",
      "For participant sub-56, the file sub-56_ses-1_task-eyesclosed_eeg.set was not found\n",
      "For participant sub-56, the file sub-56_ses-2_task-eyesclosed_eeg.set was not found\n",
      "For participant sub-57, the file sub-57_ses-1_task-eyesclosed_eeg.set was not found\n",
      "For participant sub-57, the file sub-57_ses-2_task-eyesclosed_eeg.set was not found\n",
      "For participant sub-58, the file sub-58_ses-1_task-eyesclosed_eeg.set was not found\n",
      "For participant sub-58, the file sub-58_ses-2_task-eyesclosed_eeg.set was not found\n",
      "For participant sub-59, the file sub-59_ses-1_task-eyesclosed_eeg.set was not found\n",
      "For participant sub-59, the file sub-59_ses-2_task-eyesclosed_eeg.set was not found\n",
      "For participant sub-60, the file sub-60_ses-1_task-eyesclosed_eeg.set was not found\n",
      "For participant sub-60, the file sub-60_ses-2_task-eyesclosed_eeg.set was not found\n",
      "For participant sub-61, the file sub-61_ses-1_task-eyesclosed_eeg.set was not found\n",
      "For participant sub-61, the file sub-61_ses-2_task-eyesclosed_eeg.set was not found\n",
      "For participant sub-62, the file sub-62_ses-1_task-eyesclosed_eeg.set was not found\n",
      "For participant sub-62, the file sub-62_ses-2_task-eyesclosed_eeg.set was not found\n",
      "For participant sub-63, the file sub-63_ses-1_task-eyesclosed_eeg.set was not found\n",
      "For participant sub-63, the file sub-63_ses-2_task-eyesclosed_eeg.set was not found\n",
      "For participant sub-64, the file sub-64_ses-1_task-eyesclosed_eeg.set was not found\n",
      "For participant sub-64, the file sub-64_ses-2_task-eyesclosed_eeg.set was not found\n",
      "For participant sub-65, the file sub-65_ses-1_task-eyesclosed_eeg.set was not found\n",
      "For participant sub-65, the file sub-65_ses-2_task-eyesclosed_eeg.set was not found\n",
      "For participant sub-66, the file sub-66_ses-1_task-eyesclosed_eeg.set was not found\n",
      "For participant sub-66, the file sub-66_ses-2_task-eyesclosed_eeg.set was not found\n",
      "For participant sub-67, the file sub-67_ses-1_task-eyesclosed_eeg.set was not found\n",
      "For participant sub-67, the file sub-67_ses-2_task-eyesclosed_eeg.set was not found\n",
      "For participant sub-68, the file sub-68_ses-1_task-eyesclosed_eeg.set was not found\n",
      "For participant sub-68, the file sub-68_ses-2_task-eyesclosed_eeg.set was not found\n",
      "For participant sub-69, the file sub-69_ses-1_task-eyesclosed_eeg.set was not found\n",
      "For participant sub-69, the file sub-69_ses-2_task-eyesclosed_eeg.set was not found\n",
      "For participant sub-70, the file sub-70_ses-1_task-eyesclosed_eeg.set was not found\n",
      "For participant sub-70, the file sub-70_ses-2_task-eyesclosed_eeg.set was not found\n",
      "For participant sub-71, the file sub-71_ses-1_task-eyesclosed_eeg.set was not found\n",
      "For participant sub-71, the file sub-71_ses-2_task-eyesclosed_eeg.set was not found\n"
     ]
    },
    {
     "ename": "IndexError",
     "evalue": "only integers, slices (`:`), ellipsis (`...`), numpy.newaxis (`None`) and integer or boolean arrays are valid indices",
     "output_type": "error",
     "traceback": [
      "\u001b[1;31m---------------------------------------------------------------------------\u001b[0m",
      "\u001b[1;31mIndexError\u001b[0m                                Traceback (most recent call last)",
      "Cell \u001b[1;32mIn[20], line 1\u001b[0m\n\u001b[1;32m----> 1\u001b[0m data \u001b[38;5;241m=\u001b[39m \u001b[43mLoadData\u001b[49m\u001b[43m(\u001b[49m\u001b[43mDATA_ROOT\u001b[49m\u001b[43m,\u001b[49m\u001b[43m \u001b[49m\u001b[38;5;241;43m1\u001b[39;49m\u001b[43m)\u001b[49m\n",
      "Cell \u001b[1;32mIn[19], line 37\u001b[0m, in \u001b[0;36mLoadData.__init__\u001b[1;34m(self, root, experiment_type, test_size, random_state, k_folds)\u001b[0m\n\u001b[0;32m     34\u001b[0m \u001b[38;5;28mself\u001b[39m\u001b[38;5;241m.\u001b[39mtrain \u001b[38;5;241m=\u001b[39m \u001b[38;5;28;01mNone\u001b[39;00m\n\u001b[0;32m     36\u001b[0m \u001b[38;5;66;03m# split data\u001b[39;00m\n\u001b[1;32m---> 37\u001b[0m \u001b[38;5;28;43mself\u001b[39;49m\u001b[38;5;241;43m.\u001b[39;49m\u001b[43m_cross_validation\u001b[49m\u001b[43m(\u001b[49m\u001b[43m)\u001b[49m\n",
      "Cell \u001b[1;32mIn[19], line 107\u001b[0m, in \u001b[0;36mLoadData._cross_validation\u001b[1;34m(self)\u001b[0m\n\u001b[0;32m    104\u001b[0m skf \u001b[38;5;241m=\u001b[39m KFold(n_splits\u001b[38;5;241m=\u001b[39m\u001b[38;5;28mself\u001b[39m\u001b[38;5;241m.\u001b[39mk_folds)\n\u001b[0;32m    105\u001b[0m \u001b[38;5;28mself\u001b[39m\u001b[38;5;241m.\u001b[39msplit_participants \u001b[38;5;241m=\u001b[39m \u001b[38;5;28mlist\u001b[39m(skf\u001b[38;5;241m.\u001b[39msplit(y_train))\n\u001b[1;32m--> 107\u001b[0m X_test \u001b[38;5;241m=\u001b[39m np\u001b[38;5;241m.\u001b[39marray(\u001b[43m[\u001b[49m\u001b[38;5;28;43mself\u001b[39;49m\u001b[38;5;241;43m.\u001b[39;49m\u001b[43mraw_data\u001b[49m\u001b[43m[\u001b[49m\u001b[43mi\u001b[49m\u001b[43m]\u001b[49m\u001b[43m[\u001b[49m\u001b[43mcol\u001b[49m\u001b[43m]\u001b[49m\u001b[43m[\u001b[49m\u001b[38;5;241;43m0\u001b[39;49m\u001b[43m]\u001b[49m\u001b[43m \u001b[49m\u001b[38;5;28;43;01mfor\u001b[39;49;00m\u001b[43m \u001b[49m\u001b[43mi\u001b[49m\u001b[43m \u001b[49m\u001b[38;5;129;43;01min\u001b[39;49;00m\u001b[43m \u001b[49m\u001b[43my_test_id\u001b[49m\u001b[43m \u001b[49m\u001b[38;5;28;43;01mfor\u001b[39;49;00m\u001b[43m \u001b[49m\u001b[43mcol\u001b[49m\u001b[43m \u001b[49m\u001b[38;5;129;43;01min\u001b[39;49;00m\u001b[43m \u001b[49m\u001b[38;5;28;43mself\u001b[39;49m\u001b[38;5;241;43m.\u001b[39;49m\u001b[43mraw_data\u001b[49m\u001b[43m[\u001b[49m\u001b[43mi\u001b[49m\u001b[43m]\u001b[49m\u001b[38;5;241;43m.\u001b[39;49m\u001b[43mkeys\u001b[49m\u001b[43m(\u001b[49m\u001b[43m)\u001b[49m\u001b[43m \u001b[49m\u001b[38;5;28;43;01mif\u001b[39;49;00m\u001b[43m \u001b[49m\u001b[43mcol\u001b[49m\u001b[43m \u001b[49m\u001b[38;5;241;43m!=\u001b[39;49m\u001b[43m \u001b[49m\u001b[38;5;124;43m'\u001b[39;49m\u001b[38;5;124;43mparticipant_id\u001b[39;49m\u001b[38;5;124;43m'\u001b[39;49m\u001b[43m]\u001b[49m)\n\u001b[0;32m    108\u001b[0m y_test \u001b[38;5;241m=\u001b[39m np\u001b[38;5;241m.\u001b[39marray([\u001b[38;5;28mself\u001b[39m\u001b[38;5;241m.\u001b[39mraw_data[i][col][\u001b[38;5;241m1\u001b[39m] \u001b[38;5;28;01mfor\u001b[39;00m i \u001b[38;5;129;01min\u001b[39;00m y_test_id \u001b[38;5;28;01mfor\u001b[39;00m col \u001b[38;5;129;01min\u001b[39;00m \u001b[38;5;28mself\u001b[39m\u001b[38;5;241m.\u001b[39mraw_data[i]\u001b[38;5;241m.\u001b[39mkeys() \u001b[38;5;28;01mif\u001b[39;00m col \u001b[38;5;241m!=\u001b[39m \u001b[38;5;124m'\u001b[39m\u001b[38;5;124mparticipant_id\u001b[39m\u001b[38;5;124m'\u001b[39m])\n\u001b[0;32m    110\u001b[0m \u001b[38;5;28mself\u001b[39m\u001b[38;5;241m.\u001b[39mtest \u001b[38;5;241m=\u001b[39m (X_test, y_test)\n",
      "Cell \u001b[1;32mIn[19], line 107\u001b[0m, in \u001b[0;36m<listcomp>\u001b[1;34m(.0)\u001b[0m\n\u001b[0;32m    104\u001b[0m skf \u001b[38;5;241m=\u001b[39m KFold(n_splits\u001b[38;5;241m=\u001b[39m\u001b[38;5;28mself\u001b[39m\u001b[38;5;241m.\u001b[39mk_folds)\n\u001b[0;32m    105\u001b[0m \u001b[38;5;28mself\u001b[39m\u001b[38;5;241m.\u001b[39msplit_participants \u001b[38;5;241m=\u001b[39m \u001b[38;5;28mlist\u001b[39m(skf\u001b[38;5;241m.\u001b[39msplit(y_train))\n\u001b[1;32m--> 107\u001b[0m X_test \u001b[38;5;241m=\u001b[39m np\u001b[38;5;241m.\u001b[39marray([\u001b[38;5;28mself\u001b[39m\u001b[38;5;241m.\u001b[39mraw_data[i][col][\u001b[38;5;241m0\u001b[39m] \u001b[38;5;28;01mfor\u001b[39;00m i \u001b[38;5;129;01min\u001b[39;00m y_test_id \u001b[38;5;28;01mfor\u001b[39;00m col \u001b[38;5;129;01min\u001b[39;00m \u001b[38;5;28;43mself\u001b[39;49m\u001b[38;5;241;43m.\u001b[39;49m\u001b[43mraw_data\u001b[49m\u001b[43m[\u001b[49m\u001b[43mi\u001b[49m\u001b[43m]\u001b[49m\u001b[38;5;241m.\u001b[39mkeys() \u001b[38;5;28;01mif\u001b[39;00m col \u001b[38;5;241m!=\u001b[39m \u001b[38;5;124m'\u001b[39m\u001b[38;5;124mparticipant_id\u001b[39m\u001b[38;5;124m'\u001b[39m])\n\u001b[0;32m    108\u001b[0m y_test \u001b[38;5;241m=\u001b[39m np\u001b[38;5;241m.\u001b[39marray([\u001b[38;5;28mself\u001b[39m\u001b[38;5;241m.\u001b[39mraw_data[i][col][\u001b[38;5;241m1\u001b[39m] \u001b[38;5;28;01mfor\u001b[39;00m i \u001b[38;5;129;01min\u001b[39;00m y_test_id \u001b[38;5;28;01mfor\u001b[39;00m col \u001b[38;5;129;01min\u001b[39;00m \u001b[38;5;28mself\u001b[39m\u001b[38;5;241m.\u001b[39mraw_data[i]\u001b[38;5;241m.\u001b[39mkeys() \u001b[38;5;28;01mif\u001b[39;00m col \u001b[38;5;241m!=\u001b[39m \u001b[38;5;124m'\u001b[39m\u001b[38;5;124mparticipant_id\u001b[39m\u001b[38;5;124m'\u001b[39m])\n\u001b[0;32m    110\u001b[0m \u001b[38;5;28mself\u001b[39m\u001b[38;5;241m.\u001b[39mtest \u001b[38;5;241m=\u001b[39m (X_test, y_test)\n",
      "\u001b[1;31mIndexError\u001b[0m: only integers, slices (`:`), ellipsis (`...`), numpy.newaxis (`None`) and integer or boolean arrays are valid indices"
     ]
    }
   ],
   "source": [
    "data = LoadData(DATA_ROOT, 1)"
   ]
  },
  {
   "cell_type": "code",
   "execution_count": null,
   "metadata": {},
   "outputs": [
    {
     "data": {
      "text/plain": [
       "{'eyesclosed_ns': (array([[ 1.00400002e-04,  9.93000031e-05,  1.01599998e-04, ...,\n",
       "           1.48000002e-05,  1.80000000e-05,  1.90000000e-05],\n",
       "         [ 9.99000015e-05,  9.76999969e-05,  9.98000031e-05, ...,\n",
       "           2.16000004e-05,  2.22000008e-05,  2.40000000e-05],\n",
       "         [ 8.29000015e-05,  8.20999985e-05,  8.55999985e-05, ...,\n",
       "           2.40000000e-05,  2.57000008e-05,  2.68999996e-05],\n",
       "         ...,\n",
       "         [ 8.51999969e-05,  8.45999985e-05,  8.69000015e-05, ...,\n",
       "           1.76000004e-05,  1.90000000e-05,  2.05000000e-05],\n",
       "         [ 7.30000000e-05,  7.19000015e-05,  7.43000031e-05, ...,\n",
       "          -2.07999992e-05, -1.91000004e-05, -1.63999996e-05],\n",
       "         [ 8.01999969e-05,  7.80000000e-05,  8.35999985e-05, ...,\n",
       "          -1.20000000e-05, -1.20000000e-05, -1.05000000e-05]]),\n",
       "  0),\n",
       " 'eyesclosed_sd': (array([[-1.19699997e-04, -1.17800003e-04, -1.18199997e-04, ...,\n",
       "          -7.65000000e-05, -7.35000000e-05, -7.28000031e-05],\n",
       "         [-9.60000038e-06, -7.09999990e-06, -9.19999981e-06, ...,\n",
       "          -5.57999992e-05, -5.42999992e-05, -5.37000008e-05],\n",
       "         [-2.29999995e-06,  2.59999990e-06,  3.20000005e-06, ...,\n",
       "          -3.92000008e-05, -3.72999992e-05, -3.65000000e-05],\n",
       "         ...,\n",
       "         [ 6.75000000e-05,  6.51999969e-05,  6.48000031e-05, ...,\n",
       "          -2.46000004e-05, -2.72999992e-05, -2.97999992e-05],\n",
       "         [ 1.82999992e-05,  1.33000002e-05,  1.63999996e-05, ...,\n",
       "           1.79999995e-06, -1.70000005e-06, -3.00000012e-07],\n",
       "         [-3.79999995e-06, -5.90000010e-06, -6.30000019e-06, ...,\n",
       "          -4.40000010e-06, -8.69999981e-06, -1.16999998e-05]]),\n",
       "  1),\n",
       " 'participant_id': 'sub-01'}"
      ]
     },
     "execution_count": 115,
     "metadata": {},
     "output_type": "execute_result"
    }
   ],
   "source": [
    "data.raw_data[0]"
   ]
  },
  {
   "cell_type": "code",
   "execution_count": null,
   "metadata": {},
   "outputs": [
    {
     "data": {
      "text/plain": [
       "38"
      ]
     },
     "execution_count": 75,
     "metadata": {},
     "output_type": "execute_result"
    }
   ],
   "source": [
    "len(data.raw_data)"
   ]
  },
  {
   "cell_type": "code",
   "execution_count": null,
   "metadata": {},
   "outputs": [
    {
     "data": {
      "text/plain": [
       "{'eyesclosed_ns': (array([[ 1.00400002e-04,  9.93000031e-05,  1.01599998e-04, ...,\n",
       "           1.48000002e-05,  1.80000000e-05,  1.90000000e-05],\n",
       "         [ 9.99000015e-05,  9.76999969e-05,  9.98000031e-05, ...,\n",
       "           2.16000004e-05,  2.22000008e-05,  2.40000000e-05],\n",
       "         [ 8.29000015e-05,  8.20999985e-05,  8.55999985e-05, ...,\n",
       "           2.40000000e-05,  2.57000008e-05,  2.68999996e-05],\n",
       "         ...,\n",
       "         [ 8.51999969e-05,  8.45999985e-05,  8.69000015e-05, ...,\n",
       "           1.76000004e-05,  1.90000000e-05,  2.05000000e-05],\n",
       "         [ 7.30000000e-05,  7.19000015e-05,  7.43000031e-05, ...,\n",
       "          -2.07999992e-05, -1.91000004e-05, -1.63999996e-05],\n",
       "         [ 8.01999969e-05,  7.80000000e-05,  8.35999985e-05, ...,\n",
       "          -1.20000000e-05, -1.20000000e-05, -1.05000000e-05]]),\n",
       "  0),\n",
       " 'eyesclosed_sd': (array([[-1.19699997e-04, -1.17800003e-04, -1.18199997e-04, ...,\n",
       "          -7.65000000e-05, -7.35000000e-05, -7.28000031e-05],\n",
       "         [-9.60000038e-06, -7.09999990e-06, -9.19999981e-06, ...,\n",
       "          -5.57999992e-05, -5.42999992e-05, -5.37000008e-05],\n",
       "         [-2.29999995e-06,  2.59999990e-06,  3.20000005e-06, ...,\n",
       "          -3.92000008e-05, -3.72999992e-05, -3.65000000e-05],\n",
       "         ...,\n",
       "         [ 6.75000000e-05,  6.51999969e-05,  6.48000031e-05, ...,\n",
       "          -2.46000004e-05, -2.72999992e-05, -2.97999992e-05],\n",
       "         [ 1.82999992e-05,  1.33000002e-05,  1.63999996e-05, ...,\n",
       "           1.79999995e-06, -1.70000005e-06, -3.00000012e-07],\n",
       "         [-3.79999995e-06, -5.90000010e-06, -6.30000019e-06, ...,\n",
       "          -4.40000010e-06, -8.69999981e-06, -1.16999998e-05]]),\n",
       "  1),\n",
       " 'participant_id': 'sub-01'}"
      ]
     },
     "execution_count": 81,
     "metadata": {},
     "output_type": "execute_result"
    }
   ],
   "source": [
    "# Data example\n",
    "data.raw_data[0]"
   ]
  },
  {
   "cell_type": "code",
   "execution_count": null,
   "metadata": {},
   "outputs": [],
   "source": [
    "# list of participant folder ids and their position in the raw data\n",
    "participant_id = np.array([x['participant_id'] for x in data.raw_data])\n",
    "participant_index = np.arange(len(participant_id))"
   ]
  },
  {
   "cell_type": "code",
   "execution_count": null,
   "metadata": {},
   "outputs": [
    {
     "data": {
      "text/plain": [
       "array(['sub-01', 'sub-02', 'sub-03', 'sub-04', 'sub-05', 'sub-06',\n",
       "       'sub-07', 'sub-08', 'sub-09', 'sub-10', 'sub-11', 'sub-12',\n",
       "       'sub-13', 'sub-14', 'sub-15', 'sub-16', 'sub-17', 'sub-18',\n",
       "       'sub-19', 'sub-20', 'sub-21', 'sub-22', 'sub-23', 'sub-24',\n",
       "       'sub-25', 'sub-26', 'sub-27', 'sub-28', 'sub-29', 'sub-30',\n",
       "       'sub-31', 'sub-32', 'sub-33', 'sub-34', 'sub-35', 'sub-36',\n",
       "       'sub-37', 'sub-38'], dtype='<U6')"
      ]
     },
     "execution_count": 83,
     "metadata": {},
     "output_type": "execute_result"
    }
   ],
   "source": [
    "# Participants id that are in the dataset\n",
    "participant_id"
   ]
  },
  {
   "cell_type": "code",
   "execution_count": null,
   "metadata": {},
   "outputs": [],
   "source": [
    "# Dividing data into \"train\" and \"test\" sets. Using the ids and indexs in order to create sets\n",
    "# This means that y_train and y_test will have the data index position, that can later be used to get data\n",
    "X_train, X_test, y_train, y_test = train_test_split(participant_id, participant_index, test_size=data.test_size, random_state=data.random_state)"
   ]
  },
  {
   "cell_type": "code",
   "execution_count": null,
   "metadata": {},
   "outputs": [
    {
     "data": {
      "text/plain": [
       "array(['sub-25', 'sub-16', 'sub-18', 'sub-09', 'sub-17', 'sub-13',\n",
       "       'sub-20', 'sub-10', 'sub-33', 'sub-01', 'sub-26', 'sub-06',\n",
       "       'sub-12', 'sub-02', 'sub-38', 'sub-22', 'sub-03', 'sub-30',\n",
       "       'sub-36', 'sub-04', 'sub-35', 'sub-24', 'sub-32', 'sub-11',\n",
       "       'sub-23', 'sub-19', 'sub-21', 'sub-08', 'sub-15', 'sub-29'],\n",
       "      dtype='<U6')"
      ]
     },
     "execution_count": 164,
     "metadata": {},
     "output_type": "execute_result"
    }
   ],
   "source": [
    "X_train"
   ]
  },
  {
   "cell_type": "code",
   "execution_count": null,
   "metadata": {},
   "outputs": [
    {
     "data": {
      "text/plain": [
       "array([24, 15, 17,  8, 16, 12, 19,  9, 32,  0, 25,  5, 11,  1, 37, 21,  2,\n",
       "       29, 35,  3, 34, 23, 31, 10, 22, 18, 20,  7, 14, 28])"
      ]
     },
     "execution_count": 168,
     "metadata": {},
     "output_type": "execute_result"
    }
   ],
   "source": [
    "y_train"
   ]
  },
  {
   "cell_type": "code",
   "execution_count": null,
   "metadata": {},
   "outputs": [],
   "source": [
    "# initilize kfold with 5 splits. \n",
    "# KFold is being used instead of StratifiedKFold because we are using index and there is no class label at this moment\n",
    "# This approach is to guarantee that the same participant is not in the train and test set, nor that the same participant is in different splits (data contamination)\n",
    "skf = KFold(n_splits=data.k_folds)"
   ]
  },
  {
   "cell_type": "code",
   "execution_count": null,
   "metadata": {},
   "outputs": [
    {
     "data": {
      "text/plain": [
       "5"
      ]
     },
     "execution_count": 170,
     "metadata": {},
     "output_type": "execute_result"
    }
   ],
   "source": [
    "data.k_folds"
   ]
  },
  {
   "cell_type": "code",
   "execution_count": null,
   "metadata": {},
   "outputs": [
    {
     "data": {
      "text/plain": [
       "30"
      ]
     },
     "execution_count": 171,
     "metadata": {},
     "output_type": "execute_result"
    }
   ],
   "source": [
    "len(y_train)"
   ]
  },
  {
   "cell_type": "code",
   "execution_count": null,
   "metadata": {},
   "outputs": [
    {
     "data": {
      "text/plain": [
       "30"
      ]
     },
     "execution_count": 111,
     "metadata": {},
     "output_type": "execute_result"
    }
   ],
   "source": [
    "len(X_train)"
   ]
  },
  {
   "cell_type": "code",
   "execution_count": null,
   "metadata": {},
   "outputs": [],
   "source": [
    "# creatiin list of splits in the format [(train_index, test_index), ...]\n",
    "splits = list(skf.split(y_train))"
   ]
  },
  {
   "cell_type": "code",
   "execution_count": null,
   "metadata": {},
   "outputs": [
    {
     "data": {
      "text/plain": [
       "[(array([ 6,  7,  8,  9, 10, 11, 12, 13, 14, 15, 16, 17, 18, 19, 20, 21, 22,\n",
       "         23, 24, 25, 26, 27, 28, 29]),\n",
       "  array([0, 1, 2, 3, 4, 5])),\n",
       " (array([ 0,  1,  2,  3,  4,  5, 12, 13, 14, 15, 16, 17, 18, 19, 20, 21, 22,\n",
       "         23, 24, 25, 26, 27, 28, 29]),\n",
       "  array([ 6,  7,  8,  9, 10, 11])),\n",
       " (array([ 0,  1,  2,  3,  4,  5,  6,  7,  8,  9, 10, 11, 18, 19, 20, 21, 22,\n",
       "         23, 24, 25, 26, 27, 28, 29]),\n",
       "  array([12, 13, 14, 15, 16, 17])),\n",
       " (array([ 0,  1,  2,  3,  4,  5,  6,  7,  8,  9, 10, 11, 12, 13, 14, 15, 16,\n",
       "         17, 24, 25, 26, 27, 28, 29]),\n",
       "  array([18, 19, 20, 21, 22, 23])),\n",
       " (array([ 0,  1,  2,  3,  4,  5,  6,  7,  8,  9, 10, 11, 12, 13, 14, 15, 16,\n",
       "         17, 18, 19, 20, 21, 22, 23]),\n",
       "  array([24, 25, 26, 27, 28, 29]))]"
      ]
     },
     "execution_count": 173,
     "metadata": {},
     "output_type": "execute_result"
    }
   ],
   "source": [
    "splits"
   ]
  },
  {
   "cell_type": "code",
   "execution_count": null,
   "metadata": {},
   "outputs": [],
   "source": [
    "train_ids, test_ids = splits[0]"
   ]
  },
  {
   "cell_type": "code",
   "execution_count": null,
   "metadata": {},
   "outputs": [
    {
     "data": {
      "text/plain": [
       "array([ 6,  7,  8,  9, 10, 11, 12, 13, 14, 15, 16, 17, 18, 19, 20, 21, 22,\n",
       "       23, 24, 25, 26, 27, 28, 29])"
      ]
     },
     "execution_count": 175,
     "metadata": {},
     "output_type": "execute_result"
    }
   ],
   "source": [
    "train_ids"
   ]
  },
  {
   "cell_type": "code",
   "execution_count": null,
   "metadata": {},
   "outputs": [],
   "source": [
    "# dividing the data into train and val sets, using the ids and indexs in order to create sets\n",
    "X_train =[data.raw_data[i][col][0] for i in train_ids for col in data.raw_data[i].keys() if col != 'participant_id']\n",
    "y_train = np.array([data.raw_data[i][col][1] for i in train_ids for col in data.raw_data[i].keys() if col != 'participant_id'])\n",
    "        \n",
    "X_val = [data.raw_data[i][col][0] for i in test_ids for col in data.raw_data[i].keys() if col != 'participant_id']\n",
    "y_val = np.array([data.raw_data[i][col][1] for i in test_ids for col in data.raw_data[i].keys() if col != 'participant_id'])"
   ]
  },
  {
   "cell_type": "code",
   "execution_count": null,
   "metadata": {},
   "outputs": [
    {
     "data": {
      "text/plain": [
       "47"
      ]
     },
     "execution_count": 184,
     "metadata": {},
     "output_type": "execute_result"
    }
   ],
   "source": [
    "len(X_train)"
   ]
  },
  {
   "cell_type": "code",
   "execution_count": null,
   "metadata": {},
   "outputs": [],
   "source": [
    "class LoadData:\n",
    "    def __init__(self, root, experiment_type: int, test_size: float = 0.2, random_state: int = 42, k_folds: int = 5):\n",
    "        \"\"\"\n",
    "        ROOT: path to the root directory of the dataset\n",
    "\n",
    "        Experiment type:\n",
    "            1: Eyes Closed\n",
    "            2: Eyes open\n",
    "            3: Both\n",
    "        \"\"\"\n",
    "        self.DATA_ROOT = root\n",
    "        self.PARTICIPANTS_TSV = f'{self.DATA_ROOT}/participants.tsv'\n",
    "        self.experiment_type = experiment_type\n",
    "\n",
    "        # get class labels\n",
    "        self.raw_labels = self.get_classes()\n",
    "        self.labels = []\n",
    "\n",
    "        # create data examples\n",
    "        self.raw_data = []\n",
    "        self.data = []\n",
    "        self._create_eeg_objects()\n",
    "\n",
    "        # holdout information\n",
    "        self.test_size = test_size\n",
    "        self.random_state = random_state\n",
    "\n",
    "        # cross-validation information\n",
    "        self.k_folds = k_folds\n",
    "        self.split_participants = []\n",
    "\n",
    "        # train and test data\n",
    "        self.test = None\n",
    "        self.train = None\n",
    "\n",
    "        # split data\n",
    "        self._cross_validation()\n",
    "    \n",
    "\n",
    "    def get_classes(self):\n",
    "        participant_df = pd.read_csv(self.PARTICIPANTS_TSV, sep='\\t')\n",
    "        session_order = participant_df[['participant_id', 'SessionOrder']]\n",
    "\n",
    "        # create ses-1 column based on the first two characters of the session order\n",
    "        session_order['ses-1'] = session_order['SessionOrder'].str[:2]\n",
    "        session_order['ses-2'] = session_order['SessionOrder'].str[4:]\n",
    "\n",
    "        session_order = session_order.drop(columns=['SessionOrder'])\n",
    "\n",
    "        session_order['ses-1'] = session_order['ses-1'].apply(lambda x: 1 if x == 'SD' else 0)\n",
    "        session_order['ses-2'] = session_order['ses-2'].apply(lambda x: 1 if x == 'SD' else 0)\n",
    "\n",
    "        return session_order\n",
    "    \n",
    "    def _create_eeg_objects(self): \n",
    "        def load_raw_eeg(example, root, participant_id, session, task, class_label):\n",
    "            try:\n",
    "                aux_eeg = mne.io.read_raw_eeglab(f\"{root}/{participant_id}/{session}/eeg/{participant_id}_{session}_task-{task}_eeg.set\").get_data()\n",
    "                if class_label:\n",
    "                    example[f\"{task}_sd\"] = (aux_eeg, class_label)\n",
    "                else:\n",
    "                    example[f\"{task}_ns\"] = (aux_eeg, class_label)\n",
    "            except FileNotFoundError:\n",
    "                print(f\"For participant {participant_id}, the file {participant_id}_{session}_task-{task}_eeg.set was not found\")\n",
    "                aux_eeg = None\n",
    "            except RuntimeError as e:\n",
    "                print(f\"Error loading participant {participant_id} with session {session} and task {task}: {e}\")\n",
    "                aux_eeg = None\n",
    "\n",
    "            return example\n",
    "\n",
    "\n",
    "        for participant_id, ses_1, ses_2 in zip(session_order['participant_id'], session_order['ses-1'], session_order['ses-2']):\n",
    "            example = dict()\n",
    "            if self.experiment_type == 1:\n",
    "                example = load_raw_eeg(example, DATA_ROOT, participant_id, 'ses-1', 'eyesclosed', ses_1)\n",
    "                example = load_raw_eeg(example, DATA_ROOT, participant_id, 'ses-2', 'eyesclosed', ses_2)\n",
    "            elif self.experiment_type == 2:\n",
    "                example = load_raw_eeg(example, DATA_ROOT, participant_id, 'ses-1', 'eyesopen', ses_1)\n",
    "                example = load_raw_eeg(example, DATA_ROOT, participant_id, 'ses-2', 'eyesopen', ses_2)\n",
    "            else:\n",
    "                example = load_raw_eeg(example, DATA_ROOT, participant_id, 'ses-1', 'eyesclosed', ses_1)\n",
    "                example = load_raw_eeg(example, DATA_ROOT, participant_id, 'ses-2', 'eyesclosed', ses_2)\n",
    "                example = load_raw_eeg(example, DATA_ROOT, participant_id, 'ses-1', 'eyesopen', ses_1)\n",
    "                example = load_raw_eeg(example, DATA_ROOT, participant_id, 'ses-2', 'eyesopen', ses_2)\n",
    "\n",
    "            if len(example.keys()):\n",
    "                print(example.keys())\n",
    "                example['participant_id'] = participant_id\n",
    "\n",
    "            self.raw_data.append(example) if example.keys() else None\n",
    "        \n",
    "        self.raw_data = np.array(self.raw_data)  \n",
    "\n",
    "\n",
    "    def _holdout(self, participant_id, participant_index):\n",
    "        X_train, X_test, y_train, y_test = train_test_split(participant_id, participant_index, test_size=self.test_size, random_state=self.random_state)\n",
    "        return X_train, X_test, y_train, y_test\n",
    "\n",
    "    def _cross_validation(self):\n",
    "        participant_id = np.array([x['participant_id'] for x in data.raw_data])\n",
    "        participant_index = np.arange(len(participant_id))\n",
    "\n",
    "        X_train, _, y_train, y_test_id = self._holdout(participant_id, participant_index)\n",
    "        \n",
    "        # save test data\n",
    "        X_test = np.array([self.raw_data[i][col][0] for i in test_ids for col in data.raw_data[i].keys() if col != 'participant_id'])\n",
    "        y_test = np.array([self.raw_data[i][col][1] for i in y_test_id for col in data.raw_data[i].keys() if col != 'participant_id'])\n",
    "        self.test = (X_test, y_test)\n",
    "\n",
    "        # create splits\n",
    "        skf = KFold(n_splits=self.k_folds)\n",
    "        self.split_participants = list(skf.split(y_train))\n",
    "\n",
    "\n",
    "    def get_split_data(self, split):\n",
    "        split_ids = self.split_participants[split]\n",
    "        train_ids, val_ids = split_ids\n",
    "\n",
    "        X_train =[self.raw_data[i][col][0] for i in train_ids for col in self.raw_data[i].keys() if col != 'participant_id']\n",
    "        y_train = np.array([self.raw_data[i][col][1] for i in train_ids for col in self.raw_data[i].keys() if col != 'participant_id'])\n",
    "                \n",
    "        X_val = [self.raw_data[i][col][0] for i in val_ids for col in self.raw_data[i].keys() if col != 'participant_id']\n",
    "        y_val = np.array([self.raw_data[i][col][1] for i in val_ids for col in self.raw_data[i].keys() if col != 'participant_id'])\n",
    "\n",
    "        return X_train, X_val, y_train, y_val\n",
    "\n",
    "    def __len__(self):\n",
    "        return len(self.raw_data)"
   ]
  },
  {
   "cell_type": "code",
   "execution_count": null,
   "metadata": {},
   "outputs": [],
   "source": [
    "del data"
   ]
  },
  {
   "cell_type": "code",
   "execution_count": 185,
   "metadata": {},
   "outputs": [
    {
     "name": "stdout",
     "output_type": "stream",
     "text": [
      "Reading c:\\Users\\beama\\Documents\\2024-2-P1-sleep-deprivation-classification\\notebooks\\..\\data\\ds004902-download\\sub-01\\ses-1\\eeg\\sub-01_ses-1_task-eyesopen_eeg.fdt\n"
     ]
    },
    {
     "name": "stderr",
     "output_type": "stream",
     "text": [
      "C:\\Users\\beama\\AppData\\Local\\Temp\\ipykernel_32352\\1916139822.py:37: SettingWithCopyWarning: \n",
      "A value is trying to be set on a copy of a slice from a DataFrame.\n",
      "Try using .loc[row_indexer,col_indexer] = value instead\n",
      "\n",
      "See the caveats in the documentation: https://pandas.pydata.org/pandas-docs/stable/user_guide/indexing.html#returning-a-view-versus-a-copy\n",
      "  session_order['ses-1'] = session_order['SessionOrder'].str[:2]\n",
      "C:\\Users\\beama\\AppData\\Local\\Temp\\ipykernel_32352\\1916139822.py:38: SettingWithCopyWarning: \n",
      "A value is trying to be set on a copy of a slice from a DataFrame.\n",
      "Try using .loc[row_indexer,col_indexer] = value instead\n",
      "\n",
      "See the caveats in the documentation: https://pandas.pydata.org/pandas-docs/stable/user_guide/indexing.html#returning-a-view-versus-a-copy\n",
      "  session_order['ses-2'] = session_order['SessionOrder'].str[4:]\n"
     ]
    },
    {
     "name": "stdout",
     "output_type": "stream",
     "text": [
      "Reading c:\\Users\\beama\\Documents\\2024-2-P1-sleep-deprivation-classification\\notebooks\\..\\data\\ds004902-download\\sub-01\\ses-2\\eeg\\sub-01_ses-2_task-eyesopen_eeg.fdt\n",
      "Error loading participant sub-01 with session ses-2 and task eyesopen: Incorrect number of samples (6951331 != 9150000), please report this error to MNE-Python developers\n",
      "dict_keys(['eyesopen_ns'])\n",
      "Reading c:\\Users\\beama\\Documents\\2024-2-P1-sleep-deprivation-classification\\notebooks\\..\\data\\ds004902-download\\sub-02\\ses-1\\eeg\\sub-02_ses-1_task-eyesopen_eeg.fdt\n",
      "Reading c:\\Users\\beama\\Documents\\2024-2-P1-sleep-deprivation-classification\\notebooks\\..\\data\\ds004902-download\\sub-02\\ses-2\\eeg\\sub-02_ses-2_task-eyesopen_eeg.fdt\n",
      "dict_keys(['eyesopen_ns', 'eyesopen_sd'])\n",
      "Reading c:\\Users\\beama\\Documents\\2024-2-P1-sleep-deprivation-classification\\notebooks\\..\\data\\ds004902-download\\sub-03\\ses-1\\eeg\\sub-03_ses-1_task-eyesopen_eeg.fdt\n",
      "Reading c:\\Users\\beama\\Documents\\2024-2-P1-sleep-deprivation-classification\\notebooks\\..\\data\\ds004902-download\\sub-03\\ses-2\\eeg\\sub-03_ses-2_task-eyesopen_eeg.fdt\n",
      "dict_keys(['eyesopen_ns', 'eyesopen_sd'])\n",
      "Reading c:\\Users\\beama\\Documents\\2024-2-P1-sleep-deprivation-classification\\notebooks\\..\\data\\ds004902-download\\sub-04\\ses-1\\eeg\\sub-04_ses-1_task-eyesopen_eeg.fdt\n",
      "Error loading participant sub-04 with session ses-1 and task eyesopen: Incorrect number of samples (687750 != 9150000), please report this error to MNE-Python developers\n",
      "Reading c:\\Users\\beama\\Documents\\2024-2-P1-sleep-deprivation-classification\\notebooks\\..\\data\\ds004902-download\\sub-04\\ses-2\\eeg\\sub-04_ses-2_task-eyesopen_eeg.fdt\n",
      "dict_keys(['eyesopen_sd'])\n",
      "Reading c:\\Users\\beama\\Documents\\2024-2-P1-sleep-deprivation-classification\\notebooks\\..\\data\\ds004902-download\\sub-05\\ses-1\\eeg\\sub-05_ses-1_task-eyesopen_eeg.fdt\n",
      "Reading c:\\Users\\beama\\Documents\\2024-2-P1-sleep-deprivation-classification\\notebooks\\..\\data\\ds004902-download\\sub-05\\ses-2\\eeg\\sub-05_ses-2_task-eyesopen_eeg.fdt\n",
      "dict_keys(['eyesopen_ns', 'eyesopen_sd'])\n",
      "Reading c:\\Users\\beama\\Documents\\2024-2-P1-sleep-deprivation-classification\\notebooks\\..\\data\\ds004902-download\\sub-06\\ses-1\\eeg\\sub-06_ses-1_task-eyesopen_eeg.fdt\n",
      "Reading c:\\Users\\beama\\Documents\\2024-2-P1-sleep-deprivation-classification\\notebooks\\..\\data\\ds004902-download\\sub-06\\ses-2\\eeg\\sub-06_ses-2_task-eyesopen_eeg.fdt\n",
      "dict_keys(['eyesopen_ns', 'eyesopen_sd'])\n",
      "Reading c:\\Users\\beama\\Documents\\2024-2-P1-sleep-deprivation-classification\\notebooks\\..\\data\\ds004902-download\\sub-07\\ses-1\\eeg\\sub-07_ses-1_task-eyesopen_eeg.fdt\n",
      "Reading c:\\Users\\beama\\Documents\\2024-2-P1-sleep-deprivation-classification\\notebooks\\..\\data\\ds004902-download\\sub-07\\ses-2\\eeg\\sub-07_ses-2_task-eyesopen_eeg.fdt\n",
      "dict_keys(['eyesopen_ns', 'eyesopen_sd'])\n",
      "Reading c:\\Users\\beama\\Documents\\2024-2-P1-sleep-deprivation-classification\\notebooks\\..\\data\\ds004902-download\\sub-08\\ses-1\\eeg\\sub-08_ses-1_task-eyesopen_eeg.fdt\n",
      "Reading c:\\Users\\beama\\Documents\\2024-2-P1-sleep-deprivation-classification\\notebooks\\..\\data\\ds004902-download\\sub-08\\ses-2\\eeg\\sub-08_ses-2_task-eyesopen_eeg.fdt\n",
      "dict_keys(['eyesopen_sd', 'eyesopen_ns'])\n",
      "Reading c:\\Users\\beama\\Documents\\2024-2-P1-sleep-deprivation-classification\\notebooks\\..\\data\\ds004902-download\\sub-09\\ses-1\\eeg\\sub-09_ses-1_task-eyesopen_eeg.fdt\n",
      "Reading c:\\Users\\beama\\Documents\\2024-2-P1-sleep-deprivation-classification\\notebooks\\..\\data\\ds004902-download\\sub-09\\ses-2\\eeg\\sub-09_ses-2_task-eyesopen_eeg.fdt\n",
      "dict_keys(['eyesopen_sd', 'eyesopen_ns'])\n",
      "Reading c:\\Users\\beama\\Documents\\2024-2-P1-sleep-deprivation-classification\\notebooks\\..\\data\\ds004902-download\\sub-10\\ses-1\\eeg\\sub-10_ses-1_task-eyesopen_eeg.fdt\n",
      "Reading c:\\Users\\beama\\Documents\\2024-2-P1-sleep-deprivation-classification\\notebooks\\..\\data\\ds004902-download\\sub-10\\ses-2\\eeg\\sub-10_ses-2_task-eyesopen_eeg.fdt\n",
      "dict_keys(['eyesopen_sd', 'eyesopen_ns'])\n",
      "Reading c:\\Users\\beama\\Documents\\2024-2-P1-sleep-deprivation-classification\\notebooks\\..\\data\\ds004902-download\\sub-11\\ses-1\\eeg\\sub-11_ses-1_task-eyesopen_eeg.fdt\n",
      "Reading c:\\Users\\beama\\Documents\\2024-2-P1-sleep-deprivation-classification\\notebooks\\..\\data\\ds004902-download\\sub-11\\ses-2\\eeg\\sub-11_ses-2_task-eyesopen_eeg.fdt\n",
      "dict_keys(['eyesopen_sd', 'eyesopen_ns'])\n",
      "Reading c:\\Users\\beama\\Documents\\2024-2-P1-sleep-deprivation-classification\\notebooks\\..\\data\\ds004902-download\\sub-12\\ses-1\\eeg\\sub-12_ses-1_task-eyesopen_eeg.fdt\n",
      "Reading c:\\Users\\beama\\Documents\\2024-2-P1-sleep-deprivation-classification\\notebooks\\..\\data\\ds004902-download\\sub-12\\ses-2\\eeg\\sub-12_ses-2_task-eyesopen_eeg.fdt\n",
      "dict_keys(['eyesopen_sd', 'eyesopen_ns'])\n",
      "Reading c:\\Users\\beama\\Documents\\2024-2-P1-sleep-deprivation-classification\\notebooks\\..\\data\\ds004902-download\\sub-13\\ses-1\\eeg\\sub-13_ses-1_task-eyesopen_eeg.fdt\n",
      "Reading c:\\Users\\beama\\Documents\\2024-2-P1-sleep-deprivation-classification\\notebooks\\..\\data\\ds004902-download\\sub-13\\ses-2\\eeg\\sub-13_ses-2_task-eyesopen_eeg.fdt\n",
      "dict_keys(['eyesopen_sd', 'eyesopen_ns'])\n",
      "Reading c:\\Users\\beama\\Documents\\2024-2-P1-sleep-deprivation-classification\\notebooks\\..\\data\\ds004902-download\\sub-14\\ses-1\\eeg\\sub-14_ses-1_task-eyesopen_eeg.fdt\n",
      "Reading c:\\Users\\beama\\Documents\\2024-2-P1-sleep-deprivation-classification\\notebooks\\..\\data\\ds004902-download\\sub-14\\ses-2\\eeg\\sub-14_ses-2_task-eyesopen_eeg.fdt\n",
      "dict_keys(['eyesopen_sd', 'eyesopen_ns'])\n",
      "Reading c:\\Users\\beama\\Documents\\2024-2-P1-sleep-deprivation-classification\\notebooks\\..\\data\\ds004902-download\\sub-15\\ses-1\\eeg\\sub-15_ses-1_task-eyesopen_eeg.fdt\n",
      "Reading c:\\Users\\beama\\Documents\\2024-2-P1-sleep-deprivation-classification\\notebooks\\..\\data\\ds004902-download\\sub-15\\ses-2\\eeg\\sub-15_ses-2_task-eyesopen_eeg.fdt\n",
      "dict_keys(['eyesopen_sd', 'eyesopen_ns'])\n",
      "Reading c:\\Users\\beama\\Documents\\2024-2-P1-sleep-deprivation-classification\\notebooks\\..\\data\\ds004902-download\\sub-16\\ses-1\\eeg\\sub-16_ses-1_task-eyesopen_eeg.fdt\n",
      "Reading c:\\Users\\beama\\Documents\\2024-2-P1-sleep-deprivation-classification\\notebooks\\..\\data\\ds004902-download\\sub-16\\ses-2\\eeg\\sub-16_ses-2_task-eyesopen_eeg.fdt\n",
      "dict_keys(['eyesopen_sd', 'eyesopen_ns'])\n",
      "Reading c:\\Users\\beama\\Documents\\2024-2-P1-sleep-deprivation-classification\\notebooks\\..\\data\\ds004902-download\\sub-17\\ses-1\\eeg\\sub-17_ses-1_task-eyesopen_eeg.fdt\n",
      "Reading c:\\Users\\beama\\Documents\\2024-2-P1-sleep-deprivation-classification\\notebooks\\..\\data\\ds004902-download\\sub-17\\ses-2\\eeg\\sub-17_ses-2_task-eyesopen_eeg.fdt\n",
      "dict_keys(['eyesopen_sd', 'eyesopen_ns'])\n",
      "Reading c:\\Users\\beama\\Documents\\2024-2-P1-sleep-deprivation-classification\\notebooks\\..\\data\\ds004902-download\\sub-18\\ses-1\\eeg\\sub-18_ses-1_task-eyesopen_eeg.fdt\n",
      "Reading c:\\Users\\beama\\Documents\\2024-2-P1-sleep-deprivation-classification\\notebooks\\..\\data\\ds004902-download\\sub-18\\ses-2\\eeg\\sub-18_ses-2_task-eyesopen_eeg.fdt\n",
      "dict_keys(['eyesopen_sd', 'eyesopen_ns'])\n",
      "Reading c:\\Users\\beama\\Documents\\2024-2-P1-sleep-deprivation-classification\\notebooks\\..\\data\\ds004902-download\\sub-19\\ses-1\\eeg\\sub-19_ses-1_task-eyesopen_eeg.fdt\n",
      "Reading c:\\Users\\beama\\Documents\\2024-2-P1-sleep-deprivation-classification\\notebooks\\..\\data\\ds004902-download\\sub-19\\ses-2\\eeg\\sub-19_ses-2_task-eyesopen_eeg.fdt\n",
      "dict_keys(['eyesopen_sd', 'eyesopen_ns'])\n",
      "Reading c:\\Users\\beama\\Documents\\2024-2-P1-sleep-deprivation-classification\\notebooks\\..\\data\\ds004902-download\\sub-20\\ses-1\\eeg\\sub-20_ses-1_task-eyesopen_eeg.fdt\n",
      "Reading c:\\Users\\beama\\Documents\\2024-2-P1-sleep-deprivation-classification\\notebooks\\..\\data\\ds004902-download\\sub-20\\ses-2\\eeg\\sub-20_ses-2_task-eyesopen_eeg.fdt\n",
      "dict_keys(['eyesopen_sd', 'eyesopen_ns'])\n",
      "Reading c:\\Users\\beama\\Documents\\2024-2-P1-sleep-deprivation-classification\\notebooks\\..\\data\\ds004902-download\\sub-21\\ses-1\\eeg\\sub-21_ses-1_task-eyesopen_eeg.fdt\n",
      "Reading c:\\Users\\beama\\Documents\\2024-2-P1-sleep-deprivation-classification\\notebooks\\..\\data\\ds004902-download\\sub-21\\ses-2\\eeg\\sub-21_ses-2_task-eyesopen_eeg.fdt\n",
      "dict_keys(['eyesopen_sd', 'eyesopen_ns'])\n",
      "Reading c:\\Users\\beama\\Documents\\2024-2-P1-sleep-deprivation-classification\\notebooks\\..\\data\\ds004902-download\\sub-22\\ses-1\\eeg\\sub-22_ses-1_task-eyesopen_eeg.fdt\n",
      "Reading c:\\Users\\beama\\Documents\\2024-2-P1-sleep-deprivation-classification\\notebooks\\..\\data\\ds004902-download\\sub-22\\ses-2\\eeg\\sub-22_ses-2_task-eyesopen_eeg.fdt\n",
      "dict_keys(['eyesopen_sd', 'eyesopen_ns'])\n",
      "Reading c:\\Users\\beama\\Documents\\2024-2-P1-sleep-deprivation-classification\\notebooks\\..\\data\\ds004902-download\\sub-23\\ses-1\\eeg\\sub-23_ses-1_task-eyesopen_eeg.fdt\n",
      "Reading c:\\Users\\beama\\Documents\\2024-2-P1-sleep-deprivation-classification\\notebooks\\..\\data\\ds004902-download\\sub-23\\ses-2\\eeg\\sub-23_ses-2_task-eyesopen_eeg.fdt\n",
      "dict_keys(['eyesopen_ns', 'eyesopen_sd'])\n",
      "Reading c:\\Users\\beama\\Documents\\2024-2-P1-sleep-deprivation-classification\\notebooks\\..\\data\\ds004902-download\\sub-24\\ses-1\\eeg\\sub-24_ses-1_task-eyesopen_eeg.fdt\n",
      "Reading c:\\Users\\beama\\Documents\\2024-2-P1-sleep-deprivation-classification\\notebooks\\..\\data\\ds004902-download\\sub-24\\ses-2\\eeg\\sub-24_ses-2_task-eyesopen_eeg.fdt\n",
      "dict_keys(['eyesopen_sd', 'eyesopen_ns'])\n",
      "Reading c:\\Users\\beama\\Documents\\2024-2-P1-sleep-deprivation-classification\\notebooks\\..\\data\\ds004902-download\\sub-25\\ses-1\\eeg\\sub-25_ses-1_task-eyesopen_eeg.fdt\n",
      "Reading c:\\Users\\beama\\Documents\\2024-2-P1-sleep-deprivation-classification\\notebooks\\..\\data\\ds004902-download\\sub-25\\ses-2\\eeg\\sub-25_ses-2_task-eyesopen_eeg.fdt\n",
      "dict_keys(['eyesopen_sd', 'eyesopen_ns'])\n",
      "Reading c:\\Users\\beama\\Documents\\2024-2-P1-sleep-deprivation-classification\\notebooks\\..\\data\\ds004902-download\\sub-26\\ses-1\\eeg\\sub-26_ses-1_task-eyesopen_eeg.fdt\n",
      "Reading c:\\Users\\beama\\Documents\\2024-2-P1-sleep-deprivation-classification\\notebooks\\..\\data\\ds004902-download\\sub-26\\ses-2\\eeg\\sub-26_ses-2_task-eyesopen_eeg.fdt\n",
      "dict_keys(['eyesopen_sd', 'eyesopen_ns'])\n",
      "Reading c:\\Users\\beama\\Documents\\2024-2-P1-sleep-deprivation-classification\\notebooks\\..\\data\\ds004902-download\\sub-27\\ses-1\\eeg\\sub-27_ses-1_task-eyesopen_eeg.fdt\n",
      "Reading c:\\Users\\beama\\Documents\\2024-2-P1-sleep-deprivation-classification\\notebooks\\..\\data\\ds004902-download\\sub-27\\ses-2\\eeg\\sub-27_ses-2_task-eyesopen_eeg.fdt\n",
      "dict_keys(['eyesopen_sd', 'eyesopen_ns'])\n",
      "Reading c:\\Users\\beama\\Documents\\2024-2-P1-sleep-deprivation-classification\\notebooks\\..\\data\\ds004902-download\\sub-28\\ses-1\\eeg\\sub-28_ses-1_task-eyesopen_eeg.fdt\n",
      "Reading c:\\Users\\beama\\Documents\\2024-2-P1-sleep-deprivation-classification\\notebooks\\..\\data\\ds004902-download\\sub-28\\ses-2\\eeg\\sub-28_ses-2_task-eyesopen_eeg.fdt\n",
      "Error loading participant sub-28 with session ses-2 and task eyesopen: Incorrect number of samples (7352375 != 9150000), please report this error to MNE-Python developers\n",
      "dict_keys(['eyesopen_sd'])\n",
      "Reading c:\\Users\\beama\\Documents\\2024-2-P1-sleep-deprivation-classification\\notebooks\\..\\data\\ds004902-download\\sub-29\\ses-1\\eeg\\sub-29_ses-1_task-eyesopen_eeg.fdt\n",
      "Reading c:\\Users\\beama\\Documents\\2024-2-P1-sleep-deprivation-classification\\notebooks\\..\\data\\ds004902-download\\sub-29\\ses-2\\eeg\\sub-29_ses-2_task-eyesopen_eeg.fdt\n",
      "dict_keys(['eyesopen_ns', 'eyesopen_sd'])\n",
      "Reading c:\\Users\\beama\\Documents\\2024-2-P1-sleep-deprivation-classification\\notebooks\\..\\data\\ds004902-download\\sub-30\\ses-1\\eeg\\sub-30_ses-1_task-eyesopen_eeg.fdt\n",
      "Reading c:\\Users\\beama\\Documents\\2024-2-P1-sleep-deprivation-classification\\notebooks\\..\\data\\ds004902-download\\sub-30\\ses-2\\eeg\\sub-30_ses-2_task-eyesopen_eeg.fdt\n",
      "dict_keys(['eyesopen_ns', 'eyesopen_sd'])\n",
      "Reading c:\\Users\\beama\\Documents\\2024-2-P1-sleep-deprivation-classification\\notebooks\\..\\data\\ds004902-download\\sub-31\\ses-1\\eeg\\sub-31_ses-1_task-eyesopen_eeg.fdt\n",
      "Reading c:\\Users\\beama\\Documents\\2024-2-P1-sleep-deprivation-classification\\notebooks\\..\\data\\ds004902-download\\sub-31\\ses-2\\eeg\\sub-31_ses-2_task-eyesopen_eeg.fdt\n",
      "dict_keys(['eyesopen_ns', 'eyesopen_sd'])\n",
      "Reading c:\\Users\\beama\\Documents\\2024-2-P1-sleep-deprivation-classification\\notebooks\\..\\data\\ds004902-download\\sub-32\\ses-1\\eeg\\sub-32_ses-1_task-eyesopen_eeg.fdt\n",
      "Reading c:\\Users\\beama\\Documents\\2024-2-P1-sleep-deprivation-classification\\notebooks\\..\\data\\ds004902-download\\sub-32\\ses-2\\eeg\\sub-32_ses-2_task-eyesopen_eeg.fdt\n",
      "dict_keys(['eyesopen_ns', 'eyesopen_sd'])\n",
      "Reading c:\\Users\\beama\\Documents\\2024-2-P1-sleep-deprivation-classification\\notebooks\\..\\data\\ds004902-download\\sub-33\\ses-1\\eeg\\sub-33_ses-1_task-eyesopen_eeg.fdt\n",
      "Reading c:\\Users\\beama\\Documents\\2024-2-P1-sleep-deprivation-classification\\notebooks\\..\\data\\ds004902-download\\sub-33\\ses-2\\eeg\\sub-33_ses-2_task-eyesopen_eeg.fdt\n",
      "dict_keys(['eyesopen_ns', 'eyesopen_sd'])\n",
      "Reading c:\\Users\\beama\\Documents\\2024-2-P1-sleep-deprivation-classification\\notebooks\\..\\data\\ds004902-download\\sub-34\\ses-1\\eeg\\sub-34_ses-1_task-eyesopen_eeg.fdt\n",
      "Reading c:\\Users\\beama\\Documents\\2024-2-P1-sleep-deprivation-classification\\notebooks\\..\\data\\ds004902-download\\sub-34\\ses-2\\eeg\\sub-34_ses-2_task-eyesopen_eeg.fdt\n",
      "dict_keys(['eyesopen_ns', 'eyesopen_sd'])\n",
      "Reading c:\\Users\\beama\\Documents\\2024-2-P1-sleep-deprivation-classification\\notebooks\\..\\data\\ds004902-download\\sub-35\\ses-1\\eeg\\sub-35_ses-1_task-eyesopen_eeg.fdt\n",
      "Reading c:\\Users\\beama\\Documents\\2024-2-P1-sleep-deprivation-classification\\notebooks\\..\\data\\ds004902-download\\sub-35\\ses-2\\eeg\\sub-35_ses-2_task-eyesopen_eeg.fdt\n",
      "dict_keys(['eyesopen_ns', 'eyesopen_sd'])\n",
      "Reading c:\\Users\\beama\\Documents\\2024-2-P1-sleep-deprivation-classification\\notebooks\\..\\data\\ds004902-download\\sub-36\\ses-1\\eeg\\sub-36_ses-1_task-eyesopen_eeg.fdt\n",
      "Reading c:\\Users\\beama\\Documents\\2024-2-P1-sleep-deprivation-classification\\notebooks\\..\\data\\ds004902-download\\sub-36\\ses-2\\eeg\\sub-36_ses-2_task-eyesopen_eeg.fdt\n",
      "dict_keys(['eyesopen_ns', 'eyesopen_sd'])\n",
      "Reading c:\\Users\\beama\\Documents\\2024-2-P1-sleep-deprivation-classification\\notebooks\\..\\data\\ds004902-download\\sub-37\\ses-1\\eeg\\sub-37_ses-1_task-eyesopen_eeg.fdt\n",
      "Reading c:\\Users\\beama\\Documents\\2024-2-P1-sleep-deprivation-classification\\notebooks\\..\\data\\ds004902-download\\sub-37\\ses-2\\eeg\\sub-37_ses-2_task-eyesopen_eeg.fdt\n",
      "dict_keys(['eyesopen_ns', 'eyesopen_sd'])\n",
      "Reading c:\\Users\\beama\\Documents\\2024-2-P1-sleep-deprivation-classification\\notebooks\\..\\data\\ds004902-download\\sub-38\\ses-1\\eeg\\sub-38_ses-1_task-eyesopen_eeg.fdt\n",
      "Reading c:\\Users\\beama\\Documents\\2024-2-P1-sleep-deprivation-classification\\notebooks\\..\\data\\ds004902-download\\sub-38\\ses-2\\eeg\\sub-38_ses-2_task-eyesopen_eeg.fdt\n",
      "dict_keys(['eyesopen_ns', 'eyesopen_sd'])\n",
      "Reading c:\\Users\\beama\\Documents\\2024-2-P1-sleep-deprivation-classification\\notebooks\\..\\data\\ds004902-download\\sub-39\\ses-1\\eeg\\sub-39_ses-1_task-eyesopen_eeg.fdt\n",
      "Reading c:\\Users\\beama\\Documents\\2024-2-P1-sleep-deprivation-classification\\notebooks\\..\\data\\ds004902-download\\sub-39\\ses-2\\eeg\\sub-39_ses-2_task-eyesopen_eeg.fdt\n",
      "dict_keys(['eyesopen_ns', 'eyesopen_sd'])\n",
      "Reading c:\\Users\\beama\\Documents\\2024-2-P1-sleep-deprivation-classification\\notebooks\\..\\data\\ds004902-download\\sub-40\\ses-1\\eeg\\sub-40_ses-1_task-eyesopen_eeg.fdt\n",
      "Reading c:\\Users\\beama\\Documents\\2024-2-P1-sleep-deprivation-classification\\notebooks\\..\\data\\ds004902-download\\sub-40\\ses-2\\eeg\\sub-40_ses-2_task-eyesopen_eeg.fdt\n",
      "dict_keys(['eyesopen_sd', 'eyesopen_ns'])\n",
      "Reading c:\\Users\\beama\\Documents\\2024-2-P1-sleep-deprivation-classification\\notebooks\\..\\data\\ds004902-download\\sub-41\\ses-1\\eeg\\sub-41_ses-1_task-eyesopen_eeg.fdt\n",
      "Reading c:\\Users\\beama\\Documents\\2024-2-P1-sleep-deprivation-classification\\notebooks\\..\\data\\ds004902-download\\sub-41\\ses-2\\eeg\\sub-41_ses-2_task-eyesopen_eeg.fdt\n",
      "dict_keys(['eyesopen_ns', 'eyesopen_sd'])\n",
      "Reading c:\\Users\\beama\\Documents\\2024-2-P1-sleep-deprivation-classification\\notebooks\\..\\data\\ds004902-download\\sub-42\\ses-1\\eeg\\sub-42_ses-1_task-eyesopen_eeg.fdt\n",
      "Reading c:\\Users\\beama\\Documents\\2024-2-P1-sleep-deprivation-classification\\notebooks\\..\\data\\ds004902-download\\sub-42\\ses-2\\eeg\\sub-42_ses-2_task-eyesopen_eeg.fdt\n",
      "dict_keys(['eyesopen_sd', 'eyesopen_ns'])\n",
      "Reading c:\\Users\\beama\\Documents\\2024-2-P1-sleep-deprivation-classification\\notebooks\\..\\data\\ds004902-download\\sub-43\\ses-1\\eeg\\sub-43_ses-1_task-eyesopen_eeg.fdt\n",
      "Reading c:\\Users\\beama\\Documents\\2024-2-P1-sleep-deprivation-classification\\notebooks\\..\\data\\ds004902-download\\sub-43\\ses-2\\eeg\\sub-43_ses-2_task-eyesopen_eeg.fdt\n",
      "dict_keys(['eyesopen_ns', 'eyesopen_sd'])\n",
      "Reading c:\\Users\\beama\\Documents\\2024-2-P1-sleep-deprivation-classification\\notebooks\\..\\data\\ds004902-download\\sub-44\\ses-1\\eeg\\sub-44_ses-1_task-eyesopen_eeg.fdt\n",
      "Reading c:\\Users\\beama\\Documents\\2024-2-P1-sleep-deprivation-classification\\notebooks\\..\\data\\ds004902-download\\sub-44\\ses-2\\eeg\\sub-44_ses-2_task-eyesopen_eeg.fdt\n",
      "Error loading participant sub-44 with session ses-2 and task eyesopen: Incorrect number of samples (22246652 != 24999996), please report this error to MNE-Python developers\n",
      "dict_keys(['eyesopen_sd'])\n",
      "Reading c:\\Users\\beama\\Documents\\2024-2-P1-sleep-deprivation-classification\\notebooks\\..\\data\\ds004902-download\\sub-45\\ses-1\\eeg\\sub-45_ses-1_task-eyesopen_eeg.fdt\n",
      "Reading c:\\Users\\beama\\Documents\\2024-2-P1-sleep-deprivation-classification\\notebooks\\..\\data\\ds004902-download\\sub-45\\ses-2\\eeg\\sub-45_ses-2_task-eyesopen_eeg.fdt\n",
      "dict_keys(['eyesopen_sd', 'eyesopen_ns'])\n",
      "Reading c:\\Users\\beama\\Documents\\2024-2-P1-sleep-deprivation-classification\\notebooks\\..\\data\\ds004902-download\\sub-46\\ses-1\\eeg\\sub-46_ses-1_task-eyesopen_eeg.fdt\n",
      "Reading c:\\Users\\beama\\Documents\\2024-2-P1-sleep-deprivation-classification\\notebooks\\..\\data\\ds004902-download\\sub-46\\ses-2\\eeg\\sub-46_ses-2_task-eyesopen_eeg.fdt\n"
     ]
    },
    {
     "name": "stderr",
     "output_type": "stream",
     "text": [
      "C:\\Users\\beama\\AppData\\Local\\Temp\\ipykernel_32352\\1916139822.py:50: RuntimeWarning: The data contains 'boundary' events, indicating data discontinuities. Be cautious of filtering and epoching around these events.\n",
      "  aux_eeg = mne.io.read_raw_eeglab(f\"{root}/{participant_id}/{session}/eeg/{participant_id}_{session}_task-{task}_eeg.set\").get_data()\n"
     ]
    },
    {
     "name": "stdout",
     "output_type": "stream",
     "text": [
      "dict_keys(['eyesopen_ns', 'eyesopen_sd'])\n",
      "Reading c:\\Users\\beama\\Documents\\2024-2-P1-sleep-deprivation-classification\\notebooks\\..\\data\\ds004902-download\\sub-47\\ses-1\\eeg\\sub-47_ses-1_task-eyesopen_eeg.fdt\n",
      "Reading c:\\Users\\beama\\Documents\\2024-2-P1-sleep-deprivation-classification\\notebooks\\..\\data\\ds004902-download\\sub-47\\ses-2\\eeg\\sub-47_ses-2_task-eyesopen_eeg.fdt\n",
      "dict_keys(['eyesopen_ns', 'eyesopen_sd'])\n",
      "Reading c:\\Users\\beama\\Documents\\2024-2-P1-sleep-deprivation-classification\\notebooks\\..\\data\\ds004902-download\\sub-48\\ses-1\\eeg\\sub-48_ses-1_task-eyesopen_eeg.fdt\n",
      "Reading c:\\Users\\beama\\Documents\\2024-2-P1-sleep-deprivation-classification\\notebooks\\..\\data\\ds004902-download\\sub-48\\ses-2\\eeg\\sub-48_ses-2_task-eyesopen_eeg.fdt\n",
      "dict_keys(['eyesopen_ns', 'eyesopen_sd'])\n",
      "Reading c:\\Users\\beama\\Documents\\2024-2-P1-sleep-deprivation-classification\\notebooks\\..\\data\\ds004902-download\\sub-49\\ses-1\\eeg\\sub-49_ses-1_task-eyesopen_eeg.fdt\n",
      "Reading c:\\Users\\beama\\Documents\\2024-2-P1-sleep-deprivation-classification\\notebooks\\..\\data\\ds004902-download\\sub-49\\ses-2\\eeg\\sub-49_ses-2_task-eyesopen_eeg.fdt\n",
      "dict_keys(['eyesopen_ns', 'eyesopen_sd'])\n",
      "Reading c:\\Users\\beama\\Documents\\2024-2-P1-sleep-deprivation-classification\\notebooks\\..\\data\\ds004902-download\\sub-50\\ses-1\\eeg\\sub-50_ses-1_task-eyesopen_eeg.fdt\n",
      "Reading c:\\Users\\beama\\Documents\\2024-2-P1-sleep-deprivation-classification\\notebooks\\..\\data\\ds004902-download\\sub-50\\ses-2\\eeg\\sub-50_ses-2_task-eyesopen_eeg.fdt\n",
      "dict_keys(['eyesopen_sd', 'eyesopen_ns'])\n",
      "Reading c:\\Users\\beama\\Documents\\2024-2-P1-sleep-deprivation-classification\\notebooks\\..\\data\\ds004902-download\\sub-51\\ses-1\\eeg\\sub-51_ses-1_task-eyesopen_eeg.fdt\n",
      "Reading c:\\Users\\beama\\Documents\\2024-2-P1-sleep-deprivation-classification\\notebooks\\..\\data\\ds004902-download\\sub-51\\ses-2\\eeg\\sub-51_ses-2_task-eyesopen_eeg.fdt\n",
      "dict_keys(['eyesopen_sd', 'eyesopen_ns'])\n",
      "Reading c:\\Users\\beama\\Documents\\2024-2-P1-sleep-deprivation-classification\\notebooks\\..\\data\\ds004902-download\\sub-52\\ses-1\\eeg\\sub-52_ses-1_task-eyesopen_eeg.fdt\n"
     ]
    },
    {
     "name": "stderr",
     "output_type": "stream",
     "text": [
      "C:\\Users\\beama\\AppData\\Local\\Temp\\ipykernel_32352\\1916139822.py:50: RuntimeWarning: The data contains 'boundary' events, indicating data discontinuities. Be cautious of filtering and epoching around these events.\n",
      "  aux_eeg = mne.io.read_raw_eeglab(f\"{root}/{participant_id}/{session}/eeg/{participant_id}_{session}_task-{task}_eeg.set\").get_data()\n"
     ]
    },
    {
     "name": "stdout",
     "output_type": "stream",
     "text": [
      "Reading c:\\Users\\beama\\Documents\\2024-2-P1-sleep-deprivation-classification\\notebooks\\..\\data\\ds004902-download\\sub-52\\ses-2\\eeg\\sub-52_ses-2_task-eyesopen_eeg.fdt\n"
     ]
    },
    {
     "name": "stderr",
     "output_type": "stream",
     "text": [
      "C:\\Users\\beama\\AppData\\Local\\Temp\\ipykernel_32352\\1916139822.py:50: RuntimeWarning: The data contains 'boundary' events, indicating data discontinuities. Be cautious of filtering and epoching around these events.\n",
      "  aux_eeg = mne.io.read_raw_eeglab(f\"{root}/{participant_id}/{session}/eeg/{participant_id}_{session}_task-{task}_eeg.set\").get_data()\n"
     ]
    },
    {
     "name": "stdout",
     "output_type": "stream",
     "text": [
      "dict_keys(['eyesopen_ns', 'eyesopen_sd'])\n",
      "Reading c:\\Users\\beama\\Documents\\2024-2-P1-sleep-deprivation-classification\\notebooks\\..\\data\\ds004902-download\\sub-53\\ses-1\\eeg\\sub-53_ses-1_task-eyesopen_eeg.fdt\n",
      "Reading c:\\Users\\beama\\Documents\\2024-2-P1-sleep-deprivation-classification\\notebooks\\..\\data\\ds004902-download\\sub-53\\ses-2\\eeg\\sub-53_ses-2_task-eyesopen_eeg.fdt\n",
      "dict_keys(['eyesopen_ns', 'eyesopen_sd'])\n",
      "Reading c:\\Users\\beama\\Documents\\2024-2-P1-sleep-deprivation-classification\\notebooks\\..\\data\\ds004902-download\\sub-54\\ses-1\\eeg\\sub-54_ses-1_task-eyesopen_eeg.fdt\n",
      "Reading c:\\Users\\beama\\Documents\\2024-2-P1-sleep-deprivation-classification\\notebooks\\..\\data\\ds004902-download\\sub-54\\ses-2\\eeg\\sub-54_ses-2_task-eyesopen_eeg.fdt\n",
      "dict_keys(['eyesopen_ns', 'eyesopen_sd'])\n",
      "Reading c:\\Users\\beama\\Documents\\2024-2-P1-sleep-deprivation-classification\\notebooks\\..\\data\\ds004902-download\\sub-55\\ses-1\\eeg\\sub-55_ses-1_task-eyesopen_eeg.fdt\n",
      "Reading c:\\Users\\beama\\Documents\\2024-2-P1-sleep-deprivation-classification\\notebooks\\..\\data\\ds004902-download\\sub-55\\ses-2\\eeg\\sub-55_ses-2_task-eyesopen_eeg.fdt\n",
      "dict_keys(['eyesopen_ns', 'eyesopen_sd'])\n",
      "Reading c:\\Users\\beama\\Documents\\2024-2-P1-sleep-deprivation-classification\\notebooks\\..\\data\\ds004902-download\\sub-56\\ses-1\\eeg\\sub-56_ses-1_task-eyesopen_eeg.fdt\n",
      "Reading c:\\Users\\beama\\Documents\\2024-2-P1-sleep-deprivation-classification\\notebooks\\..\\data\\ds004902-download\\sub-56\\ses-2\\eeg\\sub-56_ses-2_task-eyesopen_eeg.fdt\n",
      "dict_keys(['eyesopen_ns', 'eyesopen_sd'])\n",
      "Reading c:\\Users\\beama\\Documents\\2024-2-P1-sleep-deprivation-classification\\notebooks\\..\\data\\ds004902-download\\sub-57\\ses-1\\eeg\\sub-57_ses-1_task-eyesopen_eeg.fdt\n"
     ]
    },
    {
     "name": "stderr",
     "output_type": "stream",
     "text": [
      "C:\\Users\\beama\\AppData\\Local\\Temp\\ipykernel_32352\\1916139822.py:50: RuntimeWarning: Limited 1 annotation(s) that were expanding outside the data range.\n",
      "  aux_eeg = mne.io.read_raw_eeglab(f\"{root}/{participant_id}/{session}/eeg/{participant_id}_{session}_task-{task}_eeg.set\").get_data()\n",
      "C:\\Users\\beama\\AppData\\Local\\Temp\\ipykernel_32352\\1916139822.py:50: RuntimeWarning: The data contains 'boundary' events, indicating data discontinuities. Be cautious of filtering and epoching around these events.\n",
      "  aux_eeg = mne.io.read_raw_eeglab(f\"{root}/{participant_id}/{session}/eeg/{participant_id}_{session}_task-{task}_eeg.set\").get_data()\n"
     ]
    },
    {
     "name": "stdout",
     "output_type": "stream",
     "text": [
      "Reading c:\\Users\\beama\\Documents\\2024-2-P1-sleep-deprivation-classification\\notebooks\\..\\data\\ds004902-download\\sub-57\\ses-2\\eeg\\sub-57_ses-2_task-eyesopen_eeg.fdt\n",
      "dict_keys(['eyesopen_ns', 'eyesopen_sd'])\n"
     ]
    },
    {
     "name": "stderr",
     "output_type": "stream",
     "text": [
      "C:\\Users\\beama\\AppData\\Local\\Temp\\ipykernel_32352\\1916139822.py:50: RuntimeWarning: The data contains 'boundary' events, indicating data discontinuities. Be cautious of filtering and epoching around these events.\n",
      "  aux_eeg = mne.io.read_raw_eeglab(f\"{root}/{participant_id}/{session}/eeg/{participant_id}_{session}_task-{task}_eeg.set\").get_data()\n"
     ]
    },
    {
     "name": "stdout",
     "output_type": "stream",
     "text": [
      "Reading c:\\Users\\beama\\Documents\\2024-2-P1-sleep-deprivation-classification\\notebooks\\..\\data\\ds004902-download\\sub-58\\ses-1\\eeg\\sub-58_ses-1_task-eyesopen_eeg.fdt\n",
      "Reading c:\\Users\\beama\\Documents\\2024-2-P1-sleep-deprivation-classification\\notebooks\\..\\data\\ds004902-download\\sub-58\\ses-2\\eeg\\sub-58_ses-2_task-eyesopen_eeg.fdt\n",
      "dict_keys(['eyesopen_ns', 'eyesopen_sd'])\n",
      "Reading c:\\Users\\beama\\Documents\\2024-2-P1-sleep-deprivation-classification\\notebooks\\..\\data\\ds004902-download\\sub-59\\ses-1\\eeg\\sub-59_ses-1_task-eyesopen_eeg.fdt\n"
     ]
    },
    {
     "name": "stderr",
     "output_type": "stream",
     "text": [
      "C:\\Users\\beama\\AppData\\Local\\Temp\\ipykernel_32352\\1916139822.py:50: RuntimeWarning: The data contains 'boundary' events, indicating data discontinuities. Be cautious of filtering and epoching around these events.\n",
      "  aux_eeg = mne.io.read_raw_eeglab(f\"{root}/{participant_id}/{session}/eeg/{participant_id}_{session}_task-{task}_eeg.set\").get_data()\n"
     ]
    },
    {
     "name": "stdout",
     "output_type": "stream",
     "text": [
      "Reading c:\\Users\\beama\\Documents\\2024-2-P1-sleep-deprivation-classification\\notebooks\\..\\data\\ds004902-download\\sub-59\\ses-2\\eeg\\sub-59_ses-2_task-eyesopen_eeg.fdt\n"
     ]
    },
    {
     "name": "stderr",
     "output_type": "stream",
     "text": [
      "C:\\Users\\beama\\AppData\\Local\\Temp\\ipykernel_32352\\1916139822.py:50: RuntimeWarning: The data contains 'boundary' events, indicating data discontinuities. Be cautious of filtering and epoching around these events.\n",
      "  aux_eeg = mne.io.read_raw_eeglab(f\"{root}/{participant_id}/{session}/eeg/{participant_id}_{session}_task-{task}_eeg.set\").get_data()\n"
     ]
    },
    {
     "name": "stdout",
     "output_type": "stream",
     "text": [
      "dict_keys(['eyesopen_ns', 'eyesopen_sd'])\n",
      "Reading c:\\Users\\beama\\Documents\\2024-2-P1-sleep-deprivation-classification\\notebooks\\..\\data\\ds004902-download\\sub-60\\ses-1\\eeg\\sub-60_ses-1_task-eyesopen_eeg.fdt\n",
      "Reading c:\\Users\\beama\\Documents\\2024-2-P1-sleep-deprivation-classification\\notebooks\\..\\data\\ds004902-download\\sub-60\\ses-2\\eeg\\sub-60_ses-2_task-eyesopen_eeg.fdt\n"
     ]
    },
    {
     "name": "stderr",
     "output_type": "stream",
     "text": [
      "C:\\Users\\beama\\AppData\\Local\\Temp\\ipykernel_32352\\1916139822.py:50: RuntimeWarning: The data contains 'boundary' events, indicating data discontinuities. Be cautious of filtering and epoching around these events.\n",
      "  aux_eeg = mne.io.read_raw_eeglab(f\"{root}/{participant_id}/{session}/eeg/{participant_id}_{session}_task-{task}_eeg.set\").get_data()\n"
     ]
    },
    {
     "name": "stdout",
     "output_type": "stream",
     "text": [
      "dict_keys(['eyesopen_ns', 'eyesopen_sd'])\n",
      "Reading c:\\Users\\beama\\Documents\\2024-2-P1-sleep-deprivation-classification\\notebooks\\..\\data\\ds004902-download\\sub-61\\ses-1\\eeg\\sub-61_ses-1_task-eyesopen_eeg.fdt\n",
      "Reading c:\\Users\\beama\\Documents\\2024-2-P1-sleep-deprivation-classification\\notebooks\\..\\data\\ds004902-download\\sub-61\\ses-2\\eeg\\sub-61_ses-2_task-eyesopen_eeg.fdt\n",
      "dict_keys(['eyesopen_sd', 'eyesopen_ns'])\n",
      "Reading c:\\Users\\beama\\Documents\\2024-2-P1-sleep-deprivation-classification\\notebooks\\..\\data\\ds004902-download\\sub-62\\ses-1\\eeg\\sub-62_ses-1_task-eyesopen_eeg.fdt\n",
      "Reading c:\\Users\\beama\\Documents\\2024-2-P1-sleep-deprivation-classification\\notebooks\\..\\data\\ds004902-download\\sub-62\\ses-2\\eeg\\sub-62_ses-2_task-eyesopen_eeg.fdt\n"
     ]
    },
    {
     "name": "stderr",
     "output_type": "stream",
     "text": [
      "C:\\Users\\beama\\AppData\\Local\\Temp\\ipykernel_32352\\1916139822.py:50: RuntimeWarning: The data contains 'boundary' events, indicating data discontinuities. Be cautious of filtering and epoching around these events.\n",
      "  aux_eeg = mne.io.read_raw_eeglab(f\"{root}/{participant_id}/{session}/eeg/{participant_id}_{session}_task-{task}_eeg.set\").get_data()\n"
     ]
    },
    {
     "name": "stdout",
     "output_type": "stream",
     "text": [
      "dict_keys(['eyesopen_ns', 'eyesopen_sd'])\n",
      "Reading c:\\Users\\beama\\Documents\\2024-2-P1-sleep-deprivation-classification\\notebooks\\..\\data\\ds004902-download\\sub-63\\ses-1\\eeg\\sub-63_ses-1_task-eyesopen_eeg.fdt\n"
     ]
    },
    {
     "ename": "MemoryError",
     "evalue": "Unable to allocate 69.8 MiB for an array with shape (61, 150000) and data type float64",
     "output_type": "error",
     "traceback": [
      "\u001b[1;31m---------------------------------------------------------------------------\u001b[0m",
      "\u001b[1;31mMemoryError\u001b[0m                               Traceback (most recent call last)",
      "Cell \u001b[1;32mIn[185], line 1\u001b[0m\n\u001b[1;32m----> 1\u001b[0m data \u001b[38;5;241m=\u001b[39m \u001b[43mLoadData\u001b[49m\u001b[43m(\u001b[49m\u001b[43mDATA_ROOT\u001b[49m\u001b[43m,\u001b[49m\u001b[43m \u001b[49m\u001b[38;5;241;43m2\u001b[39;49m\u001b[43m)\u001b[49m\n",
      "Cell \u001b[1;32mIn[71], line 22\u001b[0m, in \u001b[0;36mLoadData.__init__\u001b[1;34m(self, root, experiment_type, test_size, random_state, k_folds)\u001b[0m\n\u001b[0;32m     20\u001b[0m \u001b[38;5;28mself\u001b[39m\u001b[38;5;241m.\u001b[39mraw_data \u001b[38;5;241m=\u001b[39m []\n\u001b[0;32m     21\u001b[0m \u001b[38;5;28mself\u001b[39m\u001b[38;5;241m.\u001b[39mdata \u001b[38;5;241m=\u001b[39m []\n\u001b[1;32m---> 22\u001b[0m \u001b[38;5;28;43mself\u001b[39;49m\u001b[38;5;241;43m.\u001b[39;49m\u001b[43m_create_eeg_objects\u001b[49m\u001b[43m(\u001b[49m\u001b[43m)\u001b[49m\n\u001b[0;32m     24\u001b[0m \u001b[38;5;66;03m# holdout information\u001b[39;00m\n\u001b[0;32m     25\u001b[0m \u001b[38;5;28mself\u001b[39m\u001b[38;5;241m.\u001b[39mtest_size \u001b[38;5;241m=\u001b[39m test_size\n",
      "Cell \u001b[1;32mIn[71], line 71\u001b[0m, in \u001b[0;36mLoadData._create_eeg_objects\u001b[1;34m(self)\u001b[0m\n\u001b[0;32m     69\u001b[0m     example \u001b[38;5;241m=\u001b[39m load_raw_eeg(example, DATA_ROOT, participant_id, \u001b[38;5;124m'\u001b[39m\u001b[38;5;124mses-2\u001b[39m\u001b[38;5;124m'\u001b[39m, \u001b[38;5;124m'\u001b[39m\u001b[38;5;124meyesclosed\u001b[39m\u001b[38;5;124m'\u001b[39m, ses_2)\n\u001b[0;32m     70\u001b[0m \u001b[38;5;28;01melif\u001b[39;00m \u001b[38;5;28mself\u001b[39m\u001b[38;5;241m.\u001b[39mexperiment_type \u001b[38;5;241m==\u001b[39m \u001b[38;5;241m2\u001b[39m:\n\u001b[1;32m---> 71\u001b[0m     example \u001b[38;5;241m=\u001b[39m \u001b[43mload_raw_eeg\u001b[49m\u001b[43m(\u001b[49m\u001b[43mexample\u001b[49m\u001b[43m,\u001b[49m\u001b[43m \u001b[49m\u001b[43mDATA_ROOT\u001b[49m\u001b[43m,\u001b[49m\u001b[43m \u001b[49m\u001b[43mparticipant_id\u001b[49m\u001b[43m,\u001b[49m\u001b[43m \u001b[49m\u001b[38;5;124;43m'\u001b[39;49m\u001b[38;5;124;43mses-1\u001b[39;49m\u001b[38;5;124;43m'\u001b[39;49m\u001b[43m,\u001b[49m\u001b[43m \u001b[49m\u001b[38;5;124;43m'\u001b[39;49m\u001b[38;5;124;43meyesopen\u001b[39;49m\u001b[38;5;124;43m'\u001b[39;49m\u001b[43m,\u001b[49m\u001b[43m \u001b[49m\u001b[43mses_1\u001b[49m\u001b[43m)\u001b[49m\n\u001b[0;32m     72\u001b[0m     example \u001b[38;5;241m=\u001b[39m load_raw_eeg(example, DATA_ROOT, participant_id, \u001b[38;5;124m'\u001b[39m\u001b[38;5;124mses-2\u001b[39m\u001b[38;5;124m'\u001b[39m, \u001b[38;5;124m'\u001b[39m\u001b[38;5;124meyesopen\u001b[39m\u001b[38;5;124m'\u001b[39m, ses_2)\n\u001b[0;32m     73\u001b[0m \u001b[38;5;28;01melse\u001b[39;00m:\n",
      "Cell \u001b[1;32mIn[71], line 50\u001b[0m, in \u001b[0;36mLoadData._create_eeg_objects.<locals>.load_raw_eeg\u001b[1;34m(example, root, participant_id, session, task, class_label)\u001b[0m\n\u001b[0;32m     48\u001b[0m \u001b[38;5;28;01mdef\u001b[39;00m \u001b[38;5;21mload_raw_eeg\u001b[39m(example, root, participant_id, session, task, class_label):\n\u001b[0;32m     49\u001b[0m     \u001b[38;5;28;01mtry\u001b[39;00m:\n\u001b[1;32m---> 50\u001b[0m         aux_eeg \u001b[38;5;241m=\u001b[39m \u001b[43mmne\u001b[49m\u001b[38;5;241;43m.\u001b[39;49m\u001b[43mio\u001b[49m\u001b[38;5;241;43m.\u001b[39;49m\u001b[43mread_raw_eeglab\u001b[49m\u001b[43m(\u001b[49m\u001b[38;5;124;43mf\u001b[39;49m\u001b[38;5;124;43m\"\u001b[39;49m\u001b[38;5;132;43;01m{\u001b[39;49;00m\u001b[43mroot\u001b[49m\u001b[38;5;132;43;01m}\u001b[39;49;00m\u001b[38;5;124;43m/\u001b[39;49m\u001b[38;5;132;43;01m{\u001b[39;49;00m\u001b[43mparticipant_id\u001b[49m\u001b[38;5;132;43;01m}\u001b[39;49;00m\u001b[38;5;124;43m/\u001b[39;49m\u001b[38;5;132;43;01m{\u001b[39;49;00m\u001b[43msession\u001b[49m\u001b[38;5;132;43;01m}\u001b[39;49;00m\u001b[38;5;124;43m/eeg/\u001b[39;49m\u001b[38;5;132;43;01m{\u001b[39;49;00m\u001b[43mparticipant_id\u001b[49m\u001b[38;5;132;43;01m}\u001b[39;49;00m\u001b[38;5;124;43m_\u001b[39;49m\u001b[38;5;132;43;01m{\u001b[39;49;00m\u001b[43msession\u001b[49m\u001b[38;5;132;43;01m}\u001b[39;49;00m\u001b[38;5;124;43m_task-\u001b[39;49m\u001b[38;5;132;43;01m{\u001b[39;49;00m\u001b[43mtask\u001b[49m\u001b[38;5;132;43;01m}\u001b[39;49;00m\u001b[38;5;124;43m_eeg.set\u001b[39;49m\u001b[38;5;124;43m\"\u001b[39;49m\u001b[43m)\u001b[49m\u001b[38;5;241;43m.\u001b[39;49m\u001b[43mget_data\u001b[49m\u001b[43m(\u001b[49m\u001b[43m)\u001b[49m\n\u001b[0;32m     51\u001b[0m         \u001b[38;5;28;01mif\u001b[39;00m class_label:\n\u001b[0;32m     52\u001b[0m             example[\u001b[38;5;124mf\u001b[39m\u001b[38;5;124m\"\u001b[39m\u001b[38;5;132;01m{\u001b[39;00mtask\u001b[38;5;132;01m}\u001b[39;00m\u001b[38;5;124m_sd\u001b[39m\u001b[38;5;124m\"\u001b[39m] \u001b[38;5;241m=\u001b[39m (aux_eeg, class_label)\n",
      "File \u001b[1;32m<decorator-gen-249>:12\u001b[0m, in \u001b[0;36mget_data\u001b[1;34m(self, picks, start, stop, reject_by_annotation, return_times, units, tmin, tmax, verbose)\u001b[0m\n",
      "File \u001b[1;32mc:\\Users\\beama\\Documents\\2024-2-P1-sleep-deprivation-classification\\venv\\Lib\\site-packages\\mne\\io\\base.py:964\u001b[0m, in \u001b[0;36mBaseRaw.get_data\u001b[1;34m(self, picks, start, stop, reject_by_annotation, return_times, units, tmin, tmax, verbose)\u001b[0m\n\u001b[0;32m    961\u001b[0m stop \u001b[38;5;241m=\u001b[39m \u001b[38;5;28mmin\u001b[39m(\u001b[38;5;28mmax\u001b[39m(\u001b[38;5;241m0\u001b[39m, stop), \u001b[38;5;28mself\u001b[39m\u001b[38;5;241m.\u001b[39mn_times)\n\u001b[0;32m    963\u001b[0m \u001b[38;5;28;01mif\u001b[39;00m \u001b[38;5;28mlen\u001b[39m(\u001b[38;5;28mself\u001b[39m\u001b[38;5;241m.\u001b[39mannotations) \u001b[38;5;241m==\u001b[39m \u001b[38;5;241m0\u001b[39m \u001b[38;5;129;01mor\u001b[39;00m reject_by_annotation \u001b[38;5;129;01mis\u001b[39;00m \u001b[38;5;28;01mNone\u001b[39;00m:\n\u001b[1;32m--> 964\u001b[0m     getitem \u001b[38;5;241m=\u001b[39m \u001b[38;5;28;43mself\u001b[39;49m\u001b[38;5;241;43m.\u001b[39;49m\u001b[43m_getitem\u001b[49m\u001b[43m(\u001b[49m\n\u001b[0;32m    965\u001b[0m \u001b[43m        \u001b[49m\u001b[43m(\u001b[49m\u001b[43mpicks\u001b[49m\u001b[43m,\u001b[49m\u001b[43m \u001b[49m\u001b[38;5;28;43mslice\u001b[39;49m\u001b[43m(\u001b[49m\u001b[43mstart\u001b[49m\u001b[43m,\u001b[49m\u001b[43m \u001b[49m\u001b[43mstop\u001b[49m\u001b[43m)\u001b[49m\u001b[43m)\u001b[49m\u001b[43m,\u001b[49m\u001b[43m \u001b[49m\u001b[43mreturn_times\u001b[49m\u001b[38;5;241;43m=\u001b[39;49m\u001b[43mreturn_times\u001b[49m\n\u001b[0;32m    966\u001b[0m \u001b[43m    \u001b[49m\u001b[43m)\u001b[49m\n\u001b[0;32m    967\u001b[0m     \u001b[38;5;28;01mif\u001b[39;00m return_times:\n\u001b[0;32m    968\u001b[0m         data, times \u001b[38;5;241m=\u001b[39m getitem\n",
      "File \u001b[1;32mc:\\Users\\beama\\Documents\\2024-2-P1-sleep-deprivation-classification\\venv\\Lib\\site-packages\\mne\\io\\base.py:861\u001b[0m, in \u001b[0;36mBaseRaw._getitem\u001b[1;34m(self, item, return_times)\u001b[0m\n\u001b[0;32m    859\u001b[0m     data \u001b[38;5;241m=\u001b[39m \u001b[38;5;28mself\u001b[39m\u001b[38;5;241m.\u001b[39m_data[sel, start:stop]\n\u001b[0;32m    860\u001b[0m \u001b[38;5;28;01melse\u001b[39;00m:\n\u001b[1;32m--> 861\u001b[0m     data \u001b[38;5;241m=\u001b[39m \u001b[38;5;28;43mself\u001b[39;49m\u001b[38;5;241;43m.\u001b[39;49m\u001b[43m_read_segment\u001b[49m\u001b[43m(\u001b[49m\u001b[43mstart\u001b[49m\u001b[38;5;241;43m=\u001b[39;49m\u001b[43mstart\u001b[49m\u001b[43m,\u001b[49m\u001b[43m \u001b[49m\u001b[43mstop\u001b[49m\u001b[38;5;241;43m=\u001b[39;49m\u001b[43mstop\u001b[49m\u001b[43m,\u001b[49m\u001b[43m \u001b[49m\u001b[43msel\u001b[49m\u001b[38;5;241;43m=\u001b[39;49m\u001b[43msel\u001b[49m\u001b[43m)\u001b[49m\n\u001b[0;32m    863\u001b[0m \u001b[38;5;28;01mif\u001b[39;00m return_times:\n\u001b[0;32m    864\u001b[0m     \u001b[38;5;66;03m# Rather than compute the entire thing just compute the subset\u001b[39;00m\n\u001b[0;32m    865\u001b[0m     \u001b[38;5;66;03m# times = self.times[start:stop]\u001b[39;00m\n\u001b[0;32m    866\u001b[0m     \u001b[38;5;66;03m# stop can be None here so don't use it directly\u001b[39;00m\n\u001b[0;32m    867\u001b[0m     times \u001b[38;5;241m=\u001b[39m np\u001b[38;5;241m.\u001b[39marange(start, start \u001b[38;5;241m+\u001b[39m data\u001b[38;5;241m.\u001b[39mshape[\u001b[38;5;241m1\u001b[39m], dtype\u001b[38;5;241m=\u001b[39m\u001b[38;5;28mfloat\u001b[39m)\n",
      "File \u001b[1;32m<decorator-gen-246>:12\u001b[0m, in \u001b[0;36m_read_segment\u001b[1;34m(self, start, stop, sel, data_buffer, verbose)\u001b[0m\n",
      "File \u001b[1;32mc:\\Users\\beama\\Documents\\2024-2-P1-sleep-deprivation-classification\\venv\\Lib\\site-packages\\mne\\io\\base.py:480\u001b[0m, in \u001b[0;36mBaseRaw._read_segment\u001b[1;34m(***failed resolving arguments***)\u001b[0m\n\u001b[0;32m    478\u001b[0m     \u001b[38;5;66;03m# reindex back to original file\u001b[39;00m\n\u001b[0;32m    479\u001b[0m     orig_idx \u001b[38;5;241m=\u001b[39m _convert_slice(\u001b[38;5;28mself\u001b[39m\u001b[38;5;241m.\u001b[39m_read_picks[fi][need_idx])\n\u001b[1;32m--> 480\u001b[0m     \u001b[43m_ReadSegmentFileProtector\u001b[49m\u001b[43m(\u001b[49m\u001b[38;5;28;43mself\u001b[39;49m\u001b[43m)\u001b[49m\u001b[38;5;241;43m.\u001b[39;49m\u001b[43m_read_segment_file\u001b[49m\u001b[43m(\u001b[49m\n\u001b[0;32m    481\u001b[0m \u001b[43m        \u001b[49m\u001b[43mdata\u001b[49m\u001b[43m[\u001b[49m\u001b[43m:\u001b[49m\u001b[43m,\u001b[49m\u001b[43m \u001b[49m\u001b[43mthis_sl\u001b[49m\u001b[43m]\u001b[49m\u001b[43m,\u001b[49m\n\u001b[0;32m    482\u001b[0m \u001b[43m        \u001b[49m\u001b[43morig_idx\u001b[49m\u001b[43m,\u001b[49m\n\u001b[0;32m    483\u001b[0m \u001b[43m        \u001b[49m\u001b[43mfi\u001b[49m\u001b[43m,\u001b[49m\n\u001b[0;32m    484\u001b[0m \u001b[43m        \u001b[49m\u001b[38;5;28;43mint\u001b[39;49m\u001b[43m(\u001b[49m\u001b[43mstart_file\u001b[49m\u001b[43m)\u001b[49m\u001b[43m,\u001b[49m\n\u001b[0;32m    485\u001b[0m \u001b[43m        \u001b[49m\u001b[38;5;28;43mint\u001b[39;49m\u001b[43m(\u001b[49m\u001b[43mstop_file\u001b[49m\u001b[43m)\u001b[49m\u001b[43m,\u001b[49m\n\u001b[0;32m    486\u001b[0m \u001b[43m        \u001b[49m\u001b[43mcals\u001b[49m\u001b[43m,\u001b[49m\n\u001b[0;32m    487\u001b[0m \u001b[43m        \u001b[49m\u001b[43mmult\u001b[49m\u001b[43m,\u001b[49m\n\u001b[0;32m    488\u001b[0m \u001b[43m    \u001b[49m\u001b[43m)\u001b[49m\n\u001b[0;32m    489\u001b[0m     offset \u001b[38;5;241m+\u001b[39m\u001b[38;5;241m=\u001b[39m n_read\n\u001b[0;32m    490\u001b[0m \u001b[38;5;28;01mreturn\u001b[39;00m data\n",
      "File \u001b[1;32mc:\\Users\\beama\\Documents\\2024-2-P1-sleep-deprivation-classification\\venv\\Lib\\site-packages\\mne\\io\\base.py:2627\u001b[0m, in \u001b[0;36m_ReadSegmentFileProtector._read_segment_file\u001b[1;34m(self, data, idx, fi, start, stop, cals, mult)\u001b[0m\n\u001b[0;32m   2626\u001b[0m \u001b[38;5;28;01mdef\u001b[39;00m \u001b[38;5;21m_read_segment_file\u001b[39m(\u001b[38;5;28mself\u001b[39m, data, idx, fi, start, stop, cals, mult):\n\u001b[1;32m-> 2627\u001b[0m     \u001b[38;5;28;01mreturn\u001b[39;00m \u001b[38;5;28;43mself\u001b[39;49m\u001b[38;5;241;43m.\u001b[39;49m\u001b[43m__raw\u001b[49m\u001b[38;5;241;43m.\u001b[39;49m\u001b[38;5;18;43m__class__\u001b[39;49m\u001b[38;5;241;43m.\u001b[39;49m\u001b[43m_read_segment_file\u001b[49m\u001b[43m(\u001b[49m\n\u001b[0;32m   2628\u001b[0m \u001b[43m        \u001b[49m\u001b[38;5;28;43mself\u001b[39;49m\u001b[43m,\u001b[49m\u001b[43m \u001b[49m\u001b[43mdata\u001b[49m\u001b[43m,\u001b[49m\u001b[43m \u001b[49m\u001b[43midx\u001b[49m\u001b[43m,\u001b[49m\u001b[43m \u001b[49m\u001b[43mfi\u001b[49m\u001b[43m,\u001b[49m\u001b[43m \u001b[49m\u001b[43mstart\u001b[49m\u001b[43m,\u001b[49m\u001b[43m \u001b[49m\u001b[43mstop\u001b[49m\u001b[43m,\u001b[49m\u001b[43m \u001b[49m\u001b[43mcals\u001b[49m\u001b[43m,\u001b[49m\u001b[43m \u001b[49m\u001b[43mmult\u001b[49m\n\u001b[0;32m   2629\u001b[0m \u001b[43m    \u001b[49m\u001b[43m)\u001b[49m\n",
      "File \u001b[1;32mc:\\Users\\beama\\Documents\\2024-2-P1-sleep-deprivation-classification\\venv\\Lib\\site-packages\\mne\\io\\eeglab\\eeglab.py:513\u001b[0m, in \u001b[0;36mRawEEGLAB._read_segment_file\u001b[1;34m(self, data, idx, fi, start, stop, cals, mult)\u001b[0m\n\u001b[0;32m    511\u001b[0m \u001b[38;5;28;01mdef\u001b[39;00m \u001b[38;5;21m_read_segment_file\u001b[39m(\u001b[38;5;28mself\u001b[39m, data, idx, fi, start, stop, cals, mult):\n\u001b[0;32m    512\u001b[0m \u001b[38;5;250m    \u001b[39m\u001b[38;5;124;03m\"\"\"Read a chunk of raw data.\"\"\"\u001b[39;00m\n\u001b[1;32m--> 513\u001b[0m     \u001b[43m_read_segments_file\u001b[49m\u001b[43m(\u001b[49m\u001b[38;5;28;43mself\u001b[39;49m\u001b[43m,\u001b[49m\u001b[43m \u001b[49m\u001b[43mdata\u001b[49m\u001b[43m,\u001b[49m\u001b[43m \u001b[49m\u001b[43midx\u001b[49m\u001b[43m,\u001b[49m\u001b[43m \u001b[49m\u001b[43mfi\u001b[49m\u001b[43m,\u001b[49m\u001b[43m \u001b[49m\u001b[43mstart\u001b[49m\u001b[43m,\u001b[49m\u001b[43m \u001b[49m\u001b[43mstop\u001b[49m\u001b[43m,\u001b[49m\u001b[43m \u001b[49m\u001b[43mcals\u001b[49m\u001b[43m,\u001b[49m\u001b[43m \u001b[49m\u001b[43mmult\u001b[49m\u001b[43m,\u001b[49m\u001b[43m \u001b[49m\u001b[43mdtype\u001b[49m\u001b[38;5;241;43m=\u001b[39;49m\u001b[38;5;124;43m\"\u001b[39;49m\u001b[38;5;124;43m<f4\u001b[39;49m\u001b[38;5;124;43m\"\u001b[39;49m\u001b[43m)\u001b[49m\n",
      "File \u001b[1;32mc:\\Users\\beama\\Documents\\2024-2-P1-sleep-deprivation-classification\\venv\\Lib\\site-packages\\mne\\_fiff\\utils.py:252\u001b[0m, in \u001b[0;36m_read_segments_file\u001b[1;34m(raw, data, idx, fi, start, stop, cals, mult, dtype, n_channels, offset, trigger_ch)\u001b[0m\n\u001b[0;32m    250\u001b[0m     block \u001b[38;5;241m=\u001b[39m np\u001b[38;5;241m.\u001b[39mvstack((block, stim_ch))\n\u001b[0;32m    251\u001b[0m data_view \u001b[38;5;241m=\u001b[39m data[:, sample_start:sample_stop]\n\u001b[1;32m--> 252\u001b[0m \u001b[43m_mult_cal_one\u001b[49m\u001b[43m(\u001b[49m\u001b[43mdata_view\u001b[49m\u001b[43m,\u001b[49m\u001b[43m \u001b[49m\u001b[43mblock\u001b[49m\u001b[43m,\u001b[49m\u001b[43m \u001b[49m\u001b[43midx\u001b[49m\u001b[43m,\u001b[49m\u001b[43m \u001b[49m\u001b[43mcals\u001b[49m\u001b[43m,\u001b[49m\u001b[43m \u001b[49m\u001b[43mmult\u001b[49m\u001b[43m)\u001b[49m\n",
      "File \u001b[1;32mc:\\Users\\beama\\Documents\\2024-2-P1-sleep-deprivation-classification\\venv\\Lib\\site-packages\\mne\\_fiff\\utils.py:83\u001b[0m, in \u001b[0;36m_mult_cal_one\u001b[1;34m(data_view, one, idx, cals, mult)\u001b[0m\n\u001b[0;32m     81\u001b[0m \u001b[38;5;28;01mdef\u001b[39;00m \u001b[38;5;21m_mult_cal_one\u001b[39m(data_view, one, idx, cals, mult):\n\u001b[0;32m     82\u001b[0m \u001b[38;5;250m    \u001b[39m\u001b[38;5;124;03m\"\"\"Take a chunk of raw data, multiply by mult or cals, and store.\"\"\"\u001b[39;00m\n\u001b[1;32m---> 83\u001b[0m     one \u001b[38;5;241m=\u001b[39m np\u001b[38;5;241m.\u001b[39masarray(one, dtype\u001b[38;5;241m=\u001b[39mdata_view\u001b[38;5;241m.\u001b[39mdtype)\n\u001b[0;32m     84\u001b[0m     \u001b[38;5;28;01massert\u001b[39;00m data_view\u001b[38;5;241m.\u001b[39mshape[\u001b[38;5;241m1\u001b[39m] \u001b[38;5;241m==\u001b[39m one\u001b[38;5;241m.\u001b[39mshape[\u001b[38;5;241m1\u001b[39m], (\n\u001b[0;32m     85\u001b[0m         data_view\u001b[38;5;241m.\u001b[39mshape[\u001b[38;5;241m1\u001b[39m],\n\u001b[0;32m     86\u001b[0m         one\u001b[38;5;241m.\u001b[39mshape[\u001b[38;5;241m1\u001b[39m],\n\u001b[0;32m     87\u001b[0m     )  \u001b[38;5;66;03m# noqa: E501\u001b[39;00m\n\u001b[0;32m     88\u001b[0m     \u001b[38;5;28;01mif\u001b[39;00m mult \u001b[38;5;129;01mis\u001b[39;00m \u001b[38;5;129;01mnot\u001b[39;00m \u001b[38;5;28;01mNone\u001b[39;00m:\n",
      "\u001b[1;31mMemoryError\u001b[0m: Unable to allocate 69.8 MiB for an array with shape (61, 150000) and data type float64"
     ]
    }
   ],
   "source": [
    "data = LoadData(DATA_ROOT, 2)"
   ]
  },
  {
   "cell_type": "code",
   "execution_count": null,
   "metadata": {},
   "outputs": [],
   "source": []
  }
 ],
 "metadata": {
  "kernelspec": {
   "display_name": "venv",
   "language": "python",
   "name": "python3"
  },
  "language_info": {
   "codemirror_mode": {
    "name": "ipython",
    "version": 3
   },
   "file_extension": ".py",
   "mimetype": "text/x-python",
   "name": "python",
   "nbconvert_exporter": "python",
   "pygments_lexer": "ipython3",
   "version": "3.11.9"
  }
 },
 "nbformat": 4,
 "nbformat_minor": 2
}
